{
  "nbformat": 4,
  "nbformat_minor": 0,
  "metadata": {
    "colab": {
      "provenance": []
    },
    "kernelspec": {
      "name": "python3",
      "display_name": "Python 3"
    },
    "language_info": {
      "name": "python"
    }
  },
  "cells": [
    {
      "cell_type": "code",
      "source": [
        "# Connetced yourself Cloud Storage\n",
        "from google.colab import drive\n",
        "drive.mount('/content/gdrive/', force_remount=True)\n",
        "\n",
        "import os\n",
        "os.chdir(\"/content/gdrive/My Drive/112_2_LATIA/week5_031924/\") # 切換目錄\n",
        "!ls -l \"/content/gdrive/My Drive/112_2_LATIA/week5_031924/\" # 列出目錄下的檔案"
      ],
      "metadata": {
        "id": "xrH9RfdEPBJy",
        "colab": {
          "base_uri": "https://localhost:8080/"
        },
        "outputId": "f86f2788-971c-4f30-ca7f-d1790f2b1bbe"
      },
      "execution_count": null,
      "outputs": [
        {
          "output_type": "stream",
          "name": "stdout",
          "text": [
            "Mounted at /content/gdrive/\n",
            "total 5998\n",
            "-rw------- 1 root root 2502770 Mar 19 05:21 '112-2學習分析工具實務應用LATIA _Week5.pptx'\n",
            "-rw------- 1 root root     110 Mar 18 14:33  categorical_data.csv\n",
            "-rw------- 1 root root    9875 Mar 18 06:18  Celsius.pdf\n",
            "-rw------- 1 root root   28477 Mar 18 06:18  Celsius.png\n",
            "-rw------- 1 root root   21300 Mar 18 06:18  Celsius.svg\n",
            "-rw------- 1 root root 1468430 Mar 19 05:04  Ch12-16.zip\n",
            "-rw------- 1 root root     840 Mar 15 03:34  Ch12_2_1a.html\n",
            "-rw------- 1 root root     840 Mar 15 03:34  Ch12_2_1.html\n",
            "-rw------- 1 root root     840 Mar 18 14:43  Ch12_2_2a_01.html\n",
            "-rw------- 1 root root     840 Mar 18 14:43  Ch12_2_2a_02.html\n",
            "-rw------- 1 root root     789 Mar 18 14:43  Ch12_2_2b.html\n",
            "-rw------- 1 root root     735 Mar 18 14:44  Ch12_2_3_01.html\n",
            "-rw------- 1 root root     527 Mar 18 14:44  Ch12_2_3_02.html\n",
            "-rw------- 1 root root     736 Mar 18 14:44  Ch12_2_3a_01.html\n",
            "-rw------- 1 root root     528 Mar 18 14:44  Ch12_2_3a_02.html\n",
            "-rw------- 1 root root     522 Mar 18 14:44  Ch12_2_3b.html\n",
            "-rw------- 1 root root     701 Mar 18 14:46  Ch12_2_5_01.html\n",
            "-rw------- 1 root root     735 Mar 18 14:46  Ch12_2_5_02.html\n",
            "-rw------- 1 root root     798 Mar 18 14:45  Ch12_2_5a.html\n",
            "-rw------- 1 root root     522 Mar 18 14:46  Ch12_3_1a_01.html\n",
            "-rw------- 1 root root     522 Mar 18 14:46  Ch12_3_1a_02.html\n",
            "-rw------- 1 root root     683 Mar 18 14:48  Ch12_3_1b_01.html\n",
            "-rw------- 1 root root     355 Mar 18 14:48  Ch12_3_1b_02.html\n",
            "-rw------- 1 root root     436 Mar 18 14:48  Ch12_3_1b_03.html\n",
            "-rw------- 1 root root     354 Mar 18 14:49  Ch12_3_1c_01.html\n",
            "-rw------- 1 root root     418 Mar 18 14:49  Ch12_3_1c_02.html\n",
            "-rw------- 1 root root     683 Mar 18 14:49  Ch12_3_1c_03.html\n",
            "-rw------- 1 root root     427 Mar 18 14:49  Ch12_3_1c_04.html\n",
            "-rw------- 1 root root     438 Mar 18 14:46  Ch12_3_1.html\n",
            "-rw------- 1 root root     523 Mar 18 14:50  Ch12_3_2_01.html\n",
            "-rw------- 1 root root     627 Mar 18 14:50  Ch12_3_2_02.html\n",
            "-rw------- 1 root root     522 Mar 18 14:50  Ch12_3_2a_01.html\n",
            "-rw------- 1 root root     523 Mar 18 14:50  Ch12_3_2a_02.html\n",
            "-rw------- 1 root root     784 Mar 18 14:50  Ch12_3_3_01.html\n",
            "-rw------- 1 root root     784 Mar 18 14:50  Ch12_3_3_02.html\n",
            "-rw------- 1 root root     835 Mar 18 14:51  Ch12_3_3a_01.html\n",
            "-rw------- 1 root root     835 Mar 18 14:51  Ch12_3_3a_02.html\n",
            "-rw------- 1 root root     522 Mar 18 14:51  Ch12_4_1a.html\n",
            "-rw------- 1 root root     725 Mar 18 14:52  Ch12_4_1b.html\n",
            "-rw------- 1 root root     385 Mar 18 14:52  Ch12_4_1c_01.html\n",
            "-rw------- 1 root root     390 Mar 18 14:52  Ch12_4_1c_02.html\n",
            "-rw------- 1 root root     385 Mar 18 14:52  Ch12_4_1c_03.html\n",
            "-rw------- 1 root root     416 Mar 18 14:51  Ch12_4_1.html\n",
            "-rw------- 1 root root     627 Mar 18 14:53  Ch12_4_2a_01.html\n",
            "-rw------- 1 root root     627 Mar 18 14:53  Ch12_4_2a_02.html\n",
            "-rw------- 1 root root     438 Mar 18 14:53  Ch12_4_2b.html\n",
            "-rw------- 1 root root     518 Mar 18 14:52  Ch12_4_2.html\n",
            "-rw------- 1 root root     522 Mar 19 00:38  Ch12_4_3_01.html\n",
            "-rw------- 1 root root     521 Mar 19 00:38  Ch12_4_3_02.html\n",
            "-rw------- 1 root root     856 Mar 18 14:56  Ch12_4_3a_01.html\n",
            "-rw------- 1 root root     986 Mar 18 14:56  Ch12_4_3a_02.html\n",
            "-rw------- 1 root root     835 Mar 18 14:56  Ch12_4_4a_01.html\n",
            "-rw------- 1 root root     522 Mar 18 14:56  Ch12_4_4a_02.html\n",
            "-rw------- 1 root root    1147 Mar 18 14:56  Ch12_4_4a_03.html\n",
            "-rw------- 1 root root    1147 Mar 18 14:56  Ch12_4_4a_04.html\n",
            "-rw------- 1 root root     835 Mar 18 14:57  Ch12_4_4b_01.html\n",
            "-rw------- 1 root root     492 Mar 18 14:57  Ch12_4_4b_02.html\n",
            "-rw------- 1 root root     962 Mar 18 14:57  Ch12_4_4b_03.html\n",
            "-rw------- 1 root root     962 Mar 18 14:57  Ch12_4_4b_04.html\n",
            "-rw------- 1 root root    1076 Mar 18 14:57  Ch12_4_4b_05.html\n",
            "-rw------- 1 root root    1316 Mar 19 02:11  Ch12_5_1_01.html\n",
            "-rw------- 1 root root     663 Mar 19 02:11  Ch12_5_1_02.html\n",
            "-rw------- 1 root root    1030 Mar 19 02:11  Ch12_5_1_03.html\n",
            "-rw------- 1 root root     622 Mar 19 01:39  Ch12_5_2.html\n",
            "-rw------- 1 root root     345 Mar 18 15:03  Ch12_6_1b_01.html\n",
            "-rw------- 1 root root     345 Mar 18 15:03  Ch12_6_1b_02.html\n",
            "-rw------- 1 root root     905 Mar 18 15:03  Ch12_6_1b_03.html\n",
            "-rw------- 1 root root     569 Mar 18 15:03  Ch12_6_1b_04.html\n",
            "-rw------- 1 root root    1017 Mar 19 03:10  Ch12_6_1c_01.html\n",
            "-rw------- 1 root root    1024 Mar 19 03:10  Ch12_6_1c_02.html\n",
            "-rw------- 1 root root    1031 Mar 19 03:10  Ch12_6_1c_03.html\n",
            "-rw------- 1 root root    1017 Mar 19 02:42  Ch12_6_1.html\n",
            "-rw------- 1 root root     681 Mar 18 15:03  Ch12_6_2a.html\n",
            "-rw------- 1 root root     457 Mar 19 03:20  Ch12_6_2b_01.html\n",
            "-rw------- 1 root root     457 Mar 19 03:20  Ch12_6_2b_02.html\n",
            "-rw------- 1 root root     345 Mar 19 03:20  Ch12_6_2b_03.html\n",
            "-rw------- 1 root root     905 Mar 19 03:13  Ch12_6_2.html\n",
            "-rw------- 1 root root     783 Mar 18 15:04  Ch12_6_3_01.html\n",
            "-rw------- 1 root root     779 Mar 18 15:04  Ch12_6_3_02.html\n",
            "-rw------- 1 root root  155783 Mar 19 04:53  CH12Pandas套件的基礎031924.ipynb\n",
            "-rw------- 1 root root 1565889 Mar 19 04:54  CH13Matplotlib與Pandas資料識別化031924.ipynb\n",
            "-rw------- 1 root root    2018 Mar 18 06:27  CLE_players_stats_2017_18.csv\n",
            "-rw------- 1 root root     127 Mar 18 14:34  duplicated_data.csv\n",
            "-rw------- 1 root root    1580 Mar 18 06:27  GSW_players_stats_2017_18.csv\n",
            "-rw------- 1 root root    2257 Mar 18 06:27  HOU_players_stats_2017_18.csv\n",
            "-rw------- 1 root root    3037 Mar 18 06:28  Kobe_stats.csv\n",
            "-rw------- 1 root root     112 Mar 18 14:33  missing_data.csv\n",
            "-rw------- 1 root root    5170 Mar 18 06:27 'NBA_players_salary_stats_2018 (1).csv'\n",
            "-rw------- 1 root root    5170 Mar 18 06:28  NBA_players_salary_stats_2018.csv\n",
            "-rw------- 1 root root    3624 Mar 18 06:28  NBA_salary_rankings_2018.csv\n",
            "-rw------- 1 root root     159 Mar 18 14:42  products0319.csv\n",
            "-rw------- 1 root root     376 Mar 18 14:42  products0319.json\n",
            "-rw------- 1 root root      90 Mar 18 14:33  products2.csv\n",
            "-rw------- 1 root root     240 Mar 18 14:56  products3.csv\n",
            "-rw------- 1 root root  288194 Mar 18 14:33  tutsplus2.csv\n",
            "-rw------- 1 root root      54 Mar 18 14:34  types.csv\n"
          ]
        }
      ]
    },
    {
      "cell_type": "markdown",
      "source": [
        "# 12.1  Pandas套件的基礎"
      ],
      "metadata": {
        "id": "m2gUy6C9JWJb"
      }
    },
    {
      "cell_type": "markdown",
      "source": [
        "## 建立Series物件(Ch12_1_2.py)"
      ],
      "metadata": {
        "id": "XFwWCoh2LkH-"
      }
    },
    {
      "cell_type": "code",
      "execution_count": null,
      "metadata": {
        "colab": {
          "base_uri": "https://localhost:8080/"
        },
        "id": "sgWGcLToJGmq",
        "outputId": "51a1c4d2-8c73-4c10-e834-fc0b875d3dbe"
      },
      "outputs": [
        {
          "output_type": "stream",
          "name": "stdout",
          "text": [
            "0    12\n",
            "1    29\n",
            "2    72\n",
            "3     4\n",
            "4     8\n",
            "5    10\n",
            "dtype: int64\n"
          ]
        }
      ],
      "source": [
        "# 目的是使用 Pandas 套件提供的一個函數，用於建立 Series 物件。\n",
        "\n",
        "# Line15 說明，import pandas as pd\n",
        "# 導入 Pandas 套件，並使用 pd 作為別名，以便在後續程式碼中引用 Pandas 的相關功能。\n",
        "\n",
        "# Line17 說明，建立了一個名為 s 的 Pandas Series 物件，其中包含了一個整數類型的序列。\n",
        "# pd.Series() 是 Pandas 套件提供的一個函數，用於建立 Series 物件。\n",
        "# [12, 29, 72, 4, 8, 10]\n",
        "# 這是一個包含整數的列表，代表了我們想要在 Series 中包含的元素(數據)。\n",
        "# s = pd.Series(...)\n",
        "# 將建立的 Series 物件指派給變數 s，使得我們可以後續使用變數 s 來訪問和操作這個 Series 物件。\n",
        "# 總體來說，這行程式碼建立了一個包含整數的 Pandas Series 物件，其中包含了數字 12、29、72、4、8、10。\n",
        "\n",
        "\n",
        "import pandas as pd\n",
        "\n",
        "s = pd.Series([12, 29, 72, 4, 8, 10])\n",
        "print(s)\n"
      ]
    },
    {
      "cell_type": "markdown",
      "source": [
        "## 建立自訂索引的Series物件(Ch12_1_2a.py)"
      ],
      "metadata": {
        "id": "e4hQtwH7LwbV"
      }
    },
    {
      "cell_type": "code",
      "source": [
        "# 目的是建立自訂索引的Series物件，使用 Pandas 套件建立了一個 Series 物件，並對其進行了操作。\n",
        "\n",
        "# Line24 說明，fruits = [\"蘋果\", \"橘子\", \"梨子\", \"櫻桃\"]\n",
        "# 建立了一個列表 fruits，其中包含了幾種水果的名稱。\n",
        "\n",
        "# Line25 說明，quantities = [15, 33, 45, 55]\n",
        "# 建立了一個列表 quantities，其中包含了對應每種水果的數量。\n",
        "\n",
        "# Line26 說明，s = pd.Series(quantities, index=fruits)\n",
        "# 使用 pd.Series() 函數建立了一個 Series 物件 s，該 Series 包含了 quantities 列表中的數據，\n",
        "# 並使用 fruits 列表中的水果名稱作為索引。這樣就建立了一個以水果名稱為索引，對應數量為值的 Series。\n",
        "\n",
        "# Line28 說明，print(s.index, '\\n')\n",
        "# 印出 Series s 的索引，即水果的名稱，並在末尾添加一個換行符。\n",
        "\n",
        "# Line29 說明，print(s.values, '\\n')\n",
        "# 印出 Series s 的值，即水果的數量，並在末尾添加一個換行符。\n",
        "\n",
        "# 總體來說，這段程式碼建立了一個以水果名稱為索引的 Pandas Series 物件，並印出了該 Series 的索引和值。\n",
        "\n",
        "\n",
        "import pandas as pd\n",
        "\n",
        "fruits = [\"蘋果\", \"橘子\", \"梨子\", \"櫻桃\"]\n",
        "quantities = [15, 33, 45, 55]\n",
        "s = pd.Series(quantities, index=fruits)\n",
        "print(s, '\\n')\n",
        "print(s.index, '\\n')\n",
        "print(s.values)\n"
      ],
      "metadata": {
        "colab": {
          "base_uri": "https://localhost:8080/"
        },
        "id": "oFspQ_XtL5xL",
        "outputId": "06f39cc6-3802-4f69-e788-65a4d2e5a146"
      },
      "execution_count": null,
      "outputs": [
        {
          "output_type": "stream",
          "name": "stdout",
          "text": [
            "蘋果    15\n",
            "橘子    33\n",
            "梨子    45\n",
            "櫻桃    55\n",
            "dtype: int64 \n",
            "\n",
            "Index(['蘋果', '橘子', '梨子', '櫻桃'], dtype='object') \n",
            "\n",
            "[15 33 45 55]\n"
          ]
        }
      ]
    },
    {
      "cell_type": "markdown",
      "source": [
        "## 使用索引取出資料和進行運算(Ch12_1_2b.py)"
      ],
      "metadata": {
        "id": "sx4WQ_I3MExF"
      }
    },
    {
      "cell_type": "code",
      "source": [
        "# 目的是使用 Pandas 套件建立了一個 Series 物件，並使用索引取出資料和進行運算。\n",
        "\n",
        "# Line23 說明，fruits = [\"蘋果\", \"橘子\", \"梨子\", \"櫻桃\"]\n",
        "# 建立了一個列表 fruits，其中包含了幾種水果的名稱。\n",
        "\n",
        "# Line24 說明，s = pd.Series([15, 33, 45, 55], index=fruits)\n",
        "# 使用 pd.Series() 函數建立了一個 Series 物件 s，該 Series 包含了指定的數據 [15, 33, 45, 55]，\n",
        "# 並使用 fruits 列表中的水果名稱作為索引。這樣就建立了一個以水果名稱為索引，對應數量為值的 Series。\n",
        "\n",
        "# Line25 說明，print(\"橘子 = \", s[\"橘子\"], '\\n')\n",
        "# 印出 Series 物件 s 中橘子這個索引對應的值，即橘子的數量，並在末尾添加一個換行符。\n",
        "\n",
        "# Line26 說明，print(s[[\"橘子\",\"梨子\",\"櫻桃\"]], '\\n')\n",
        "# 印出 Series s 中橘子、梨子和櫻桃這三個索引對應的值，即這三種水果的數量，並在末尾添加一個換行符。\n",
        "\n",
        "# Line27 說明，print((s+2)*3)\n",
        "# 首先，將 Series s 中的每個值都先加 2，然後將結果乘以 3。這樣就得到了一個新的 Series，\n",
        "# 其中每個值都是原始值加上 2，再乘以 3 的結果。\n",
        "\n",
        "\n",
        "import pandas as pd\n",
        "\n",
        "fruits = [\"蘋果\", \"橘子\", \"梨子\", \"櫻桃\"]\n",
        "s = pd.Series([15, 33, 45, 55], index=fruits)\n",
        "print(\"橘子 = \", s[\"橘子\"], '\\n')\n",
        "print(s[[\"橘子\",\"梨子\",\"櫻桃\"]], '\\n')\n",
        "print((s+2)*3)\n"
      ],
      "metadata": {
        "colab": {
          "base_uri": "https://localhost:8080/"
        },
        "id": "pkqTeOPpMLD0",
        "outputId": "60c57610-6b32-45be-8938-cc15a2e92286"
      },
      "execution_count": null,
      "outputs": [
        {
          "output_type": "stream",
          "name": "stdout",
          "text": [
            "橘子 =  33 \n",
            "\n",
            "橘子    33\n",
            "梨子    45\n",
            "櫻桃    55\n",
            "dtype: int64 \n",
            "\n",
            "蘋果     51\n",
            "橘子    105\n",
            "梨子    141\n",
            "櫻桃    171\n",
            "dtype: int64\n"
          ]
        }
      ]
    },
    {
      "cell_type": "markdown",
      "source": [
        "# 12.2 DataFrame的基本使用"
      ],
      "metadata": {
        "id": "zJZCYMOfOGNF"
      }
    },
    {
      "cell_type": "markdown",
      "source": [
        "## 使用Python字典建立DataFrame物件(Ch12_2_1.py)"
      ],
      "metadata": {
        "id": "zlj8PYBGOH_t"
      }
    },
    {
      "cell_type": "code",
      "source": [
        "# 目的是 使用 Python字典建立一個 DataFrame 物件。\n",
        "\n",
        "# Line22-24 說明，products = {\"分類\": [\"居家\",\"居家\",\"娛樂\",\"娛樂\",\"科技\",\"科技\"],\n",
        "#                 \"商店\": [\"家樂福\",\"大潤發\",\"家樂福\",\"全聯超\",\"大潤發\",\"家樂福\"],\n",
        "#                 \"價格\": [11.42,23.50,19.99,15.95,55.75,111.55]}\n",
        "# 建立一個字典 products，其中包含了三個鍵(key)值(value)對(pair)，其中的鍵(key)分別是 \"分類\"、\"商店\" 和 \"價格\"，\n",
        "#             對應的值(value)是列表(list)，分別表示產品的分類、商店名稱和價格。\n",
        "\n",
        "# Line26 說明，df_12_2_1 = pd.DataFrame(products)\n",
        "# 使用 pd.DataFrame() 函數將 products 字典轉換為 DataFrame 物件，並將其指派給變數 df_12_2_1。\n",
        "# DataFrame 是 Pandas 中的一種資料結構，類似於表格或雙向字典，每列可以有不同的數據類型。\n",
        "\n",
        "# Line27 說明，print(df_12_2_1)\n",
        "# 使用 print() 函數印出 DataFrame df_12_2_1，顯示了產品的分類、商店和價格。每一列代表一個產品，\n",
        "# 而每一列中的值分別對應該產品的分類、商店和價格。\n",
        "\n",
        "# 總體來說，這段程式碼建立了一個包含產品分類、商店和價格資訊的 DataFrame 物件，並將其印出來以便查看。\n",
        "\n",
        "\n",
        "import pandas as pd\n",
        "\n",
        "products = {\"分類\": [\"居家\",\"居家\",\"娛樂\",\"娛樂\",\"科技\",\"科技\"],\n",
        "       \"商店\": [\"家樂福\",\"大潤發\",\"家樂福\",\"全聯超\",\"大潤發\",\"家樂福\"],\n",
        "       \"價格\": [11.42,23.50,19.99,15.95,55.75,111.55]}\n",
        "\n",
        "df12_2_1 = pd.DataFrame(products)\n",
        "print(df_12_2_1)\n",
        "df12_2_1.to_html(\"Ch12_2_1.html\") # to_html表示是寫入檔案副檔名為html"
      ],
      "metadata": {
        "colab": {
          "base_uri": "https://localhost:8080/"
        },
        "id": "iqlX4G4QOSF4",
        "outputId": "bbf27b4b-ed0e-45a1-8d65-314857bbcbb2"
      },
      "execution_count": null,
      "outputs": [
        {
          "output_type": "stream",
          "name": "stdout",
          "text": [
            "   分類   商店      價格\n",
            "0  居家  家樂福   11.42\n",
            "1  居家  大潤發   23.50\n",
            "2  娛樂  家樂福   19.99\n",
            "3  娛樂  全聯超   15.95\n",
            "4  科技  大潤發   55.75\n",
            "5  科技  家樂福  111.55\n"
          ]
        }
      ]
    },
    {
      "cell_type": "markdown",
      "source": [
        "## 建立自訂索引的DataFrame物件(Ch12_2_1a.py)"
      ],
      "metadata": {
        "id": "qmxe_xUKOVcy"
      }
    },
    {
      "cell_type": "code",
      "source": [
        "# 目的是使用 Pandas 套件，並建立了一個自訂索引的 DataFrame 物件。\n",
        "\n",
        "# Line24-26 說明，products = {\"分類\": [\"居家\",\"居家\",\"娛樂\",\"娛樂\",\"科技\",\"科技\"],\n",
        "#                 \"商店\": [\"家樂福\",\"大潤發\",\"家樂福\",\"全聯超\",\"大潤發\",\"家樂福\"],\n",
        "#                 \"價格\": [11.42,23.50,19.99,15.95,55.75,111.55]}：\n",
        "# 建立了一個名為 products 的字典，其中包含三個鍵值對，其中的鍵分別是 \"分類\"、\"商店\" 和 \"價格\"，\n",
        "# 對應的值是列表(list)，分別表示產品的分類、商店名稱和價格。\n",
        "\n",
        "# Line28 說明，ordinals =[\"A\", \"B\", \"C\", \"D\", \"E\", \"F\"]：\n",
        "# 建立一個名為 ordinals 的列表，其中包含一組標籤，用於指定 DataFrame 的索引。\n",
        "\n",
        "# Line30 說明，df_12_2_1a = pd.DataFrame(products, index=ordinals)\n",
        "# 使用 pd.DataFrame() 函式將 products 字典轉換為 DataFrame 物件，同時指定 DataFrame 的索引為 ordinals\n",
        "# 列表中的值。這樣就建立一個帶有自定義索引的 DataFrame。\n",
        "\n",
        "# Line31 說明，print(df12_2_1a, '\\n')\n",
        "# 使用 print() 函式印出 DataFrame df12_2_1a，並在末尾添加一個換行符。這樣就可以查看 DataFrame 的內容了。\n",
        "\n",
        "# 總體來說，這段程式碼建立一個包含產品分類、商店和價格資訊的 DataFrame 物件，並將其印出來以便查看 DataFrame 的索引使用了自定義的標籤。\n",
        "\n",
        "\n",
        "import pandas as pd\n",
        "\n",
        "products = {\"分類\": [\"居家\",\"居家\",\"娛樂\",\"娛樂\",\"科技\",\"科技\"],\n",
        "       \"商店\": [\"家樂福\",\"大潤發\",\"家樂福\",\"全聯超\",\"大潤發\",\"家樂福\"],\n",
        "       \"價格\": [11.42,23.50,19.99,15.95,55.75,111.55]}\n",
        "\n",
        "ordinals = [\"A\", \"B\", \"C\", \"D\", \"E\", \"F\"]\n",
        "\n",
        "df12_2_1a = pd.DataFrame(products, index=ordinals)\n",
        "print(df12_2_1a, '\\n')\n",
        "df12_2_1a.to_html(\"Ch12_2_1a.html\") # to_html表示是寫入檔案副檔名為html\n",
        "\n",
        "# 另一種寫法\n",
        "#df12_2_1a = pd.DataFrame(products)\n",
        "#df12_2_1a.index = ordinals\n",
        "#print(df12_2_1a)\n"
      ],
      "metadata": {
        "colab": {
          "base_uri": "https://localhost:8080/"
        },
        "id": "82uMBgvIOg-a",
        "outputId": "755fa279-92a5-46e1-9abd-a2d3f2832a9a"
      },
      "execution_count": null,
      "outputs": [
        {
          "output_type": "stream",
          "name": "stdout",
          "text": [
            "   分類   商店      價格\n",
            "A  居家  家樂福   11.42\n",
            "B  居家  大潤發   23.50\n",
            "C  娛樂  家樂福   19.99\n",
            "D  娛樂  全聯超   15.95\n",
            "E  科技  大潤發   55.75\n",
            "F  科技  家樂福  111.55 \n",
            "\n"
          ]
        }
      ]
    },
    {
      "cell_type": "markdown",
      "source": [
        "## 重新指定DataFrame物件的欄位順序(Ch12_2_1b.py)"
      ],
      "metadata": {
        "id": "rUdBSXMkPaTH"
      }
    },
    {
      "cell_type": "code",
      "source": [
        "# 目的是使用了 Pandas 套件，建立了一個 DataFrame 物件並重新指定DataFrame物件的欄位順序。\n",
        "# 與上述程式碼差異，只有多了Line14 columns = [\"價格\", \"分類\", \"商店\"]，目的是重新指定DataFrame物件的欄位順序。\n",
        "\n",
        "# Line27 說明，import pandas as pd\n",
        "# 導入 Pandas 套件，並使用 pd 作為別名，以便在後續程式碼中引用 Pandas 的相關功能。\n",
        "\n",
        "# Line29-31 說明，products = {\"分類\": [\"居家\",\"居家\",\"娛樂\",\"娛樂\",\"科技\",\"科技\"],\n",
        "#                 \"商店\": [\"家樂福\",\"大潤發\",\"家樂福\",\"全聯超\",\"大潤發\",\"家樂福\"],\n",
        "#                 \"價格\": [11.42,23.50,19.99,15.95,55.75,111.55]}\n",
        "# 建立了一個名為 products 的字典，其中包含了三個鍵值對，分別是 \"分類\"、\"商店\" 和 \"價格\"，\n",
        "# 對應的值是列表(list)，分別表示產品的分類、商店名稱和價格。\n",
        "\n",
        "# Line33 說明，ordinals =[\"A\", \"B\", \"C\", \"D\", \"E\", \"F\"]\n",
        "# 建立了一個名為 ordinals 的列表，包含了字符 \"A\" 到 \"F\"。\n",
        "\n",
        "# Line35-37 說明，df12_2_1b = pd.DataFrame(products, columns=[\"價格\", \"分類\", \"商店\"], index=ordinals)\n",
        "# 使用 pd.DataFrame() 函式將 products 字典轉換為 DataFrame 物件，同時指定了 DataFrame 的欄位名稱\n",
        "# 為 \"價格\"、\"分類\" 和 \"商店\"，並且將 DataFrame 的索引設置為 ordinals 列表中的元素。這樣就建立了一個 DataFrame。\n",
        "\n",
        "# Line38 說明，print(df12_2_1b)\n",
        "# 使用 print() 函式印出 DataFrame df12_2_1b內容，這樣就可以查看 DataFrame 的內容了。\n",
        "\n",
        "# 總體來說，這段程式碼創建了一個包含產品分類、商店和價格資訊的 DataFrame 物件，\n",
        "# 並使用指定的索引值作為 DataFrame 的索引，最後印出 DataFrame 的內容。\n",
        "\n",
        "\n",
        "import pandas as pd\n",
        "\n",
        "products = {\"分類\": [\"居家\",\"居家\",\"娛樂\",\"娛樂\",\"科技\",\"科技\"],\n",
        "       \"商店\": [\"家樂福\",\"大潤發\",\"家樂福\",\"全聯超\",\"大潤發\",\"家樂福\"],\n",
        "       \"價格\": [11.42,23.50,19.99,15.95,55.75,111.55]}\n",
        "\n",
        "ordinals =[\"A\", \"B\", \"C\", \"D\", \"E\", \"F\"]\n",
        "\n",
        "df12_2_1b = pd.DataFrame(products,\n",
        "              columns = [\"價格\", \"分類\", \"商店\"],\n",
        "              index=ordinals)\n",
        "print(df12_2_1b)\n",
        "df12_2_1b.to_html(\"Ch12_2_1b.html\") # to_html表示是寫入檔案副檔名為html\n"
      ],
      "metadata": {
        "colab": {
          "base_uri": "https://localhost:8080/"
        },
        "id": "cBtRZYV_Pbvq",
        "outputId": "3c22b444-a435-4caf-92db-0ed926571582"
      },
      "execution_count": null,
      "outputs": [
        {
          "output_type": "stream",
          "name": "stdout",
          "text": [
            "       價格  分類   商店\n",
            "A   11.42  居家  家樂福\n",
            "B   23.50  居家  大潤發\n",
            "C   19.99  娛樂  家樂福\n",
            "D   15.95  娛樂  全聯超\n",
            "E   55.75  科技  大潤發\n",
            "F  111.55  科技  家樂福\n"
          ]
        }
      ]
    },
    {
      "cell_type": "markdown",
      "source": [
        "## 使用存在的欄位作為索引標籤(Ch12_2_1c.py)"
      ],
      "metadata": {
        "id": "b58U_yR9PlAk"
      }
    },
    {
      "cell_type": "code",
      "source": [
        "# 目的是使用使用了 Pandas 套件，建立了一個 DataFrame 物件，並使用其中已存在的欄位作為索引標籤。\n",
        "# 與上述的程式碼差異，只是在Line30-31行，自定義columns與index的內容元素。\n",
        "\n",
        "# Line23 說明，import pandas as pd\n",
        "# 導入 Pandas 套件，並使用 pd 作為別名，以便在後續程式碼中引用 Pandas 的相關功能。\n",
        "\n",
        "# Line25-27 說明，products = {\"分類\": [\"居家\",\"居家\",\"娛樂\",\"娛樂\",\"科技\",\"科技\"],\n",
        "#                 \"商店\": [\"家樂福\",\"大潤發\",\"家樂福\",\"全聯超\",\"大潤發\",\"家樂福\"],\n",
        "#                 \"價格\": [11.42,23.50,19.99,15.95,55.75,111.55]}：\n",
        "# 建立了一個名為 products 的字典，其中包含了三個鍵值對，分別是 \"分類\"、\"商店\" 和 \"價格\"，\n",
        "# 對應的值是列表(list)，分別表示產品的分類、商店名稱和價格。\n",
        "\n",
        "# Line29-31 說明，df12_2_1c = pd.DataFrame(products, columns=[\"商店\", \"價格\"], index=products[\"分類\"])\n",
        "# 使用 pd.DataFrame() 函式將 products 字典轉換為 DataFrame 物件，同時指定了 DataFrame 的欄位名稱為 \"商店\"\n",
        "# 和 \"價格\"，並且將 DataFrame 的索引設置為 products 字典中 \"分類\" 鍵對應的值。這樣就建立了一個 DataFrame。\n",
        "\n",
        "# Line32 說明，print(df12_2_1c)\n",
        "# 使用 print() 函式印出 DataFrame df12_2_1c內容，這樣就可以查看 DataFrame 的內容了。\n",
        "\n",
        "# 總體來說，這段程式碼建立了一個包含產品分類、商店和價格資訊的 DataFrame 物件，並印出 DataFrame 的內容。\n",
        "\n",
        "\n",
        "import pandas as pd\n",
        "\n",
        "products = {\"分類\": [\"居家\",\"居家\",\"娛樂\",\"娛樂\",\"科技\",\"科技\"],\n",
        "       \"商店\": [\"家樂福\",\"大潤發\",\"家樂福\",\"全聯超\",\"大潤發\",\"家樂福\"],\n",
        "       \"價格\": [11.42,23.50,19.99,15.95,55.75,111.55]}\n",
        "\n",
        "df12_2_1c = pd.DataFrame(products,\n",
        "              columns = [\"商店\", \"價格\"],\n",
        "              index = products[\"分類\"])\n",
        "print(df12_2_1c)\n",
        "df12_2_1c.to_html(\"Ch12_2_1c.html\") # to_html表示是寫入檔案副檔名為html\n"
      ],
      "metadata": {
        "colab": {
          "base_uri": "https://localhost:8080/"
        },
        "id": "eNuyk3vuPqcR",
        "outputId": "9556628a-41a5-4a64-b18f-304a60113cd9"
      },
      "execution_count": null,
      "outputs": [
        {
          "output_type": "stream",
          "name": "stdout",
          "text": [
            "     商店      價格\n",
            "居家  家樂福   11.42\n",
            "居家  大潤發   23.50\n",
            "娛樂  家樂福   19.99\n",
            "娛樂  全聯超   15.95\n",
            "科技  大潤發   55.75\n",
            "科技  家樂福  111.55\n"
          ]
        }
      ]
    },
    {
      "cell_type": "markdown",
      "source": [
        "## 轉置DataFrame物件(Ch12_2_1d.py)"
      ],
      "metadata": {
        "id": "2mQkImLRPztV"
      }
    },
    {
      "cell_type": "code",
      "source": [
        "# 目的是使用了 Pandas 套件，並建立兩個 DataFrame 物件，然後對其中一個進行轉置操作。\n",
        "# 與上述程式碼的差異只在Line42行，print(df12_2_1d.T)，目的是印出轉置(T)的DataFrame物件。\n",
        "\n",
        "# Line30 說明，import pandas as pd\n",
        "# 導入 Pandas 套件，並使用 pd 作為別名，以便在後續程式碼中引用 Pandas 的相關功能。\n",
        "\n",
        "# Line32-34 說明，products = {\"分類\": [\"居家\",\"居家\",\"娛樂\",\"娛樂\",\"科技\",\"科技\"],\n",
        "#                 \"商店\": [\"家樂福\",\"大潤發\",\"家樂福\",\"全聯超\",\"大潤發\",\"家樂福\"],\n",
        "#                 \"價格\": [11.42,23.50,19.99,15.95,55.75,111.55]}\n",
        "# 建立了一個名為 products 的字典，其中包含了三個鍵值對，分別是 \"分類\"、\"商店\" 和 \"價格\"，\n",
        "# 對應的值是列表(list)，分別表示產品的分類、商店名稱和價格。\n",
        "\n",
        "# Line36 說明，ordinals =[\"A\", \"B\", \"C\", \"D\", \"E\", \"F\"]\n",
        "# 建立了一個名為 ordinals 的列表(list)，其中包含了一組標籤，用於指定 DataFrame 的索引。\n",
        "\n",
        "# Line38-40 說明，df12_2_1d = pd.DataFrame(products, columns=[\"商店\", \"價格\"], index=products[\"分類\"])\n",
        "# 使用 pd.DataFrame() 函式將 products 字典轉換為 DataFrame 物件，同時指定了 DataFrame 的欄位名稱\n",
        "# 為 \"商店\" 和 \"價格\"，並且將 DataFrame 的索引重新設置為 products 字典中 \"分類\" 鍵對應的值。這樣就建立了一個 DataFrame。\n",
        "\n",
        "# Line41 說明，print(df12_2_1d, '\\n')\n",
        "# 使用 print() 函式印出 DataFrame df12_2_1d內容，並在末尾添加一個換行符。這樣就可以查看 DataFrame 的內容了。\n",
        "\n",
        "# Line42 說明，print(df12_2_1d.T)\n",
        "# 使用 DataFrame 的 .T 屬性對 DataFrame df12_2_1d 進行轉置操作，即將行和列對調，並將結果印出來。\n",
        "# 這樣就可以查看 DataFrame 轉置後的內容了。\n",
        "\n",
        "# 總體來說，這段程式碼建立了一個包含產品分類、商店和價格資訊的 DataFrame 物件，並對其中一個 DataFrame 進行了轉置操作以便查看。\n",
        "\n",
        "\n",
        "import pandas as pd\n",
        "\n",
        "products = {\"分類\": [\"居家\",\"居家\",\"娛樂\",\"娛樂\",\"科技\",\"科技\"],\n",
        "       \"商店\": [\"家樂福\",\"大潤發\",\"家樂福\",\"全聯超\",\"大潤發\",\"家樂福\"],\n",
        "       \"價格\": [11.42,23.50,19.99,15.95,55.75,111.55]}\n",
        "\n",
        "ordinals =[\"A\", \"B\", \"C\", \"D\", \"E\", \"F\"]\n",
        "\n",
        "df12_2_1d = pd.DataFrame(products,\n",
        "              columns = [\"商店\", \"價格\"],\n",
        "              index = products[\"分類\"])\n",
        "print(df12_2_1d, '\\n')\n",
        "print(df12_2_1d.T)\n",
        "df12_2_1d.T.to_html(\"Ch12_2_1d.html\") # to_html表示是寫入檔案副檔名為html\n"
      ],
      "metadata": {
        "colab": {
          "base_uri": "https://localhost:8080/"
        },
        "id": "JU4aDqC4P2yp",
        "outputId": "3e67f5d3-f737-4813-e29a-b787a4ac4fca"
      },
      "execution_count": null,
      "outputs": [
        {
          "output_type": "stream",
          "name": "stdout",
          "text": [
            "     商店      價格\n",
            "居家  家樂福   11.42\n",
            "居家  大潤發   23.50\n",
            "娛樂  家樂福   19.99\n",
            "娛樂  全聯超   15.95\n",
            "科技  大潤發   55.75\n",
            "科技  家樂福  111.55 \n",
            "\n",
            "       居家    居家     娛樂     娛樂     科技      科技\n",
            "商店    家樂福   大潤發    家樂福    全聯超    大潤發     家樂福\n",
            "價格  11.42  23.5  19.99  15.95  55.75  111.55\n"
          ]
        }
      ]
    },
    {
      "cell_type": "markdown",
      "source": [
        "## 匯出DataFrame物件至檔案(Ch12_2_2.py)"
      ],
      "metadata": {
        "id": "z73ZSDbtQC9N"
      }
    },
    {
      "cell_type": "code",
      "source": [
        "# 目的是匯出DataFrame物件至檔案。\n",
        "# 與上述程式碼的差異只在Line37-38行，目的是將df12_2_2 DataFrame物件寫入並儲存成附檔名為csv與json格式。\n",
        "\n",
        "# Line28 說明，import pandas as pd\n",
        "# 導入 Pandas 套件，並使用 pd 作為別名，以便在後續程式碼中引用 Pandas 的相關功能。\n",
        "\n",
        "# Line30-32 說明，products = {\"分類\": [\"居家\",\"居家\",\"娛樂\",\"娛樂\",\"科技\",\"科技\"],\n",
        "#                 \"商店\": [\"家樂福\",\"大潤發\",\"家樂福\",\"全聯超\",\"大潤發\",\"家樂福\"],\n",
        "#                 \"價格\": [11.42,23.50,19.99,15.95,55.75,111.55]}\n",
        "# 建立一個名為 products 的字典，其中包含了三個鍵值對，分別是 \"分類\"、\"商店\" 和 \"價格\"，\n",
        "# 對應的值是列表(list)，分別表示產品的分類、商店名稱和價格。\n",
        "\n",
        "# Line34-35 說明，df12_2_2 = pd.DataFrame(products, columns=[\"分類\", \"商店\", \"價格\"])\n",
        "# 使用 pd.DataFrame() 函式將 products 字典轉換為 DataFrame 物件，同時指定了 DataFrame 的欄位名稱\n",
        "# 為 \"分類\"、\"商店\" 和 \"價格\"。這樣就建立了一個 DataFrame。\n",
        "\n",
        "# Line37 說明，df12_2_2.to_csv(\"products0319.csv\", index=False, encoding=\"utf8\")\n",
        "# 使用 DataFrame 的 to_csv() 方法將 DataFrame df12_2_2 寫入到 \"products0319.csv\" 的 CSV 檔案中。\n",
        "# index=False 表示不將 DataFrame 的索引寫入 CSV 檔案，encoding=\"utf8\" 則指定了使用 UTF-8 編碼。\n",
        "\n",
        "# Line38 說明，df12_2_2.to_json(\"products0319.json\")\n",
        "# 使用 DataFrame 的 to_json() 方法將 DataFrame df12_2_2 寫入到 \"products0319.json\" 的 JSON 檔案中。\n",
        "# 意思是把 DataFrame 轉換為 JSON 格式並寫入檔案。\n",
        "\n",
        "# 總體來說，這段程式碼建立了一個包含產品分類、商店和價格資訊的 DataFrame 物件，然後將其分別寫入到 \"products0319.csv\"\n",
        "# 和 \"products0319.json\" 的檔案中。\n",
        "\n",
        "import pandas as pd\n",
        "\n",
        "products = {\"分類\": [\"居家\",\"居家\",\"娛樂\",\"娛樂\",\"科技\",\"科技\"],\n",
        "       \"商店\": [\"家樂福\",\"大潤發\",\"家樂福\",\"全聯超\",\"大潤發\",\"家樂福\"],\n",
        "       \"價格\": [11.42,23.50,19.99,15.95,55.75,111.55]}\n",
        "\n",
        "df12_2_2 = pd.DataFrame(products,\n",
        "             columns = [\"分類\", \"商店\", \"價格\"])\n",
        "\n",
        "df12_2_2.to_csv(\"products0319.csv\", index=False, encoding=\"utf8\")\n",
        "df12_2_2.to_json(\"products0319.json\")\n"
      ],
      "metadata": {
        "id": "ckrD-WD_QEce"
      },
      "execution_count": null,
      "outputs": []
    },
    {
      "cell_type": "markdown",
      "source": [
        "## 匯入檔案資料至DataFrame物件(Ch12_2_2a.py)"
      ],
      "metadata": {
        "id": "ez-ivyJrQMnU"
      }
    },
    {
      "cell_type": "code",
      "source": [
        "# 目的是使用 Pandas 套件來讀取不同格式的資料檔案，並將其轉換為 DataFrame 物件。\n",
        "\n",
        "# Line23 說明，import pandas as pd\n",
        "# 導入 Pandas 套件，並使用 pd 作為別名，以便在後續程式碼中引用 Pandas 的相關功能。\n",
        "\n",
        "# Line26 說明，df12_2_2a_csv = pd.read_csv(\"products0319.csv\", encoding=\"utf8\")\n",
        "# 使用 pd.read_csv() 函式讀取名為 \"products0319.csv\" 的 CSV 格式檔案，並將其轉換為 DataFrame 物件。\n",
        "# encoding=\"utf8\" 參數用於指定檔案的編碼方式為 UTF-8，以便處理中文等特殊字符。\n",
        "# 讀取完成後，將結果存儲在名為 df12_2_2a_csv 的 DataFrame 物件中。\n",
        "\n",
        "# Line27 說明，print(df12_2_2a_csv, '\\n')\n",
        "# 使用 print() 函式印出 DataFrame df12_2_2a_csv，並在末尾添加一個換行符。這樣就可以查看 DataFrame 的內容了。\n",
        "\n",
        "# Line31 說明，df12_2_2a_json = pd.read_json(\"products0319.json\")\n",
        "# 使用 pd.read_json() 函式讀取名為 \"products0319.json\" 的 JSON 格式檔案，並將其轉換為 DataFrame 物件。\n",
        "# 讀取完成後，將結果存儲在名為 df12_2_2a_json 的 DataFrame 物件中。\n",
        "\n",
        "# Line32 說明，print(df12_2_2a_json)\n",
        "# 使用 print() 函式印出 DataFrame df12_2_2a_json，這樣就可以查看 DataFrame 的內容了。\n",
        "\n",
        "# 總體來說，這段程式碼實現了讀取 CSV 和 JSON 格式的資料檔案並將其轉換為 DataFrame 的功能，方便進一步進行資料處理和分析。\n",
        "\n",
        "import pandas as pd\n",
        "\n",
        "# 匯入CSV格式的檔案\n",
        "df12_2_2a_csv = pd.read_csv(\"products0319.csv\", encoding=\"utf8\")\n",
        "print(df12_2_2a_csv, '\\n')\n",
        "df12_2_2a_csv.to_html(\"Ch12_2_2a_01.html\")\n",
        "\n",
        "# 匯入JSON格式的檔案\n",
        "df12_2_2a_json = pd.read_json(\"products0319.json\")\n",
        "print(df12_2_2a_json)\n",
        "df12_2_2a_json.to_html(\"Ch12_2_2a_02.html\")\n"
      ],
      "metadata": {
        "colab": {
          "base_uri": "https://localhost:8080/"
        },
        "id": "aIcby26lQPcb",
        "outputId": "0dff8502-29fd-4137-f661-6512237cd605"
      },
      "execution_count": null,
      "outputs": [
        {
          "output_type": "stream",
          "name": "stdout",
          "text": [
            "   分類   商店      價格\n",
            "0  居家  家樂福   11.42\n",
            "1  居家  大潤發   23.50\n",
            "2  娛樂  家樂福   19.99\n",
            "3  娛樂  全聯超   15.95\n",
            "4  科技  大潤發   55.75\n",
            "5  科技  家樂福  111.55 \n",
            "\n",
            "   分類   商店      價格\n",
            "0  居家  家樂福   11.42\n",
            "1  居家  大潤發   23.50\n",
            "2  娛樂  家樂福   19.99\n",
            "3  娛樂  全聯超   15.95\n",
            "4  科技  大潤發   55.75\n",
            "5  科技  家樂福  111.55\n"
          ]
        }
      ]
    },
    {
      "cell_type": "markdown",
      "source": [
        "## 匯入資料至DataFrame，加上CSV第1個欄位做索引(Ch12_2_2b.py)"
      ],
      "metadata": {
        "id": "_PsH-I_EQl9S"
      }
    },
    {
      "cell_type": "code",
      "source": [
        "# 目的是使用了 Pandas 套件來讀取 CSV 格式的資料檔案並轉換為 DataFrame 物件，並指定 CSV 檔案中的第一列作為 DataFrame 的索引。\n",
        "\n",
        "# Line16 說明，import pandas as pd\n",
        "# 導入 Pandas 套件，並使用 pd 作為別名，以便在後續程式碼中引用 Pandas 的相關功能。\n",
        "\n",
        "# Line19 說明，df12_2_2b = pd.read_csv(\"products0319.csv\", index_col=0, encoding=\"utf8\")\n",
        "# 使用 pd.read_csv() 函式讀取名為 \"products0319.csv\" 的 CSV 格式檔案，並將其轉換為 DataFrame 物件。\n",
        "# index_col=0 參數指定將 CSV 檔案中的第一列作為 DataFrame 的索引，而不是自動生成默認的數字索引。\n",
        "# encoding=\"utf8\" 參數用於指定檔案的編碼方式為 UTF-8，以便處理中文等特殊字符。\n",
        "\n",
        "# Line20 說明，print(df12_2_2b)\n",
        "# 使用 print() 函式印出 DataFrame df12_2_2b，這樣就可以查看 DataFrame 的內容了。\n",
        "\n",
        "# 總體來說，這段程式碼實現了從 CSV 格式的資料檔案中讀取資料並指定 CSV 檔案中的第一列作為 DataFrame 的索引。\n",
        "\n",
        "import pandas as pd\n",
        "\n",
        "# 匯入CSV格式的檔案\n",
        "df12_2_2b = pd.read_csv(\"products0319.csv\", index_col=0, encoding=\"utf8\")\n",
        "print(df12_2_2b)\n",
        "df12_2_2b.to_html(\"Ch12_2_2b.html\") # to_html表示是寫入檔案副檔名為html\n"
      ],
      "metadata": {
        "colab": {
          "base_uri": "https://localhost:8080/"
        },
        "id": "BNKaUsMZQn-_",
        "outputId": "c8a5d34a-ea5f-402c-f0d6-dbf62309e5b6"
      },
      "execution_count": null,
      "outputs": [
        {
          "output_type": "stream",
          "name": "stdout",
          "text": [
            "     商店      價格\n",
            "分類             \n",
            "居家  家樂福   11.42\n",
            "居家  大潤發   23.50\n",
            "娛樂  家樂福   19.99\n",
            "娛樂  全聯超   15.95\n",
            "科技  大潤發   55.75\n",
            "科技  家樂福  111.55\n"
          ]
        }
      ]
    },
    {
      "cell_type": "markdown",
      "source": [
        "## 匯入MySQL資料庫至DataFrame物件(Ch12_2_2c.py)"
      ],
      "metadata": {
        "id": "_4RLFH4iQvyN"
      }
    },
    {
      "cell_type": "code",
      "source": [
        "# 目的是使用 Pandas 和 PyMySQL 模組來連接並從資料庫中讀取資料。\n",
        "\n",
        "# Line30 說明，import pandas as pd\n",
        "# 導入 Pandas 模組，並使用 pd 作為別名，以便在後續程式碼中引用 Pandas 的相關功能。\n",
        "\n",
        "# Line31 說明，import pymysql\n",
        "# 導入 PyMySQL 模組，這是一個提供了 Python 對 MySQL 資料庫進行操作的模組。\n",
        "\n",
        "# Line34 說明，db = pymysql.connect(\"localhost\", \"root\", \"\", \"mybooks\", charset=\"utf8\")\n",
        "# 建立資料庫連接，使用 pymysql.connect() 函式建立與 MySQL 資料庫的連接。\n",
        "# 函式的參數依次為資料庫位置（例如：\"localhost\"）、資料庫使用者名稱、密碼、資料庫名稱以及指定編碼方式為 UTF-8。\n",
        "\n",
        "# Line36 說明，sql = \"SELECT * FROM books\"\n",
        "# SQL 查詢，準備 SQL 查詢指令，這裡是從名為 \"books\" 的資料表中選擇所有欄位的資料。SQL 查詢指令存放在變數 sql 中。\n",
        "\n",
        "# Line38 說明，df = pd.read_sql(sql, db)\n",
        "# 從資料庫匯入資料，使用 pd.read_sql() 函式從資料庫中讀取資料，將 SQL 查詢的結果轉換為 DataFrame。\n",
        "# 函式的第一個參數是 SQL 查詢語句，第二個參數是資料庫連接對象。讀取到的資料將存放在 DataFrame df 中。\n",
        "\n",
        "# Line39 說明，print(df.head())\n",
        "# 使用 head() 方法顯示 DataFrame 的前幾行資料，以便檢視從資料庫中讀取到的資料。\n",
        "\n",
        "# Line40 說明，df.to_html(\"Ch12_2_2c.html\")\n",
        "# 使用 to_html() 方法將 DataFrame 轉換為 HTML 格式並保存到指定的檔案中，這裡是 \"Ch12_2_2c.html\"。\n",
        "\n",
        "# Line41 說明，db.close()\n",
        "# 關閉與資料庫的連接，以釋放資源並終止與資料庫的通信。\n",
        "\n",
        "\n",
        "import pandas as pd\n",
        "import pymysql\n",
        "\n",
        "# 建立資料庫連接\n",
        "db = pymysql.connect(\"localhost\", \"root\", \"\", \"mybooks\", charset=\"utf8\")\n",
        "# SQL指令SELECT\n",
        "sql = \"SELECT * FROM books\"\n",
        "# 從資料庫匯入資料\n",
        "df = pd.read_sql(sql, db)\n",
        "print(df.head())\n",
        "df.to_html(\"Ch12_2_2c.html\")\n",
        "db.close()  # 關閉資料庫連接\n"
      ],
      "metadata": {
        "id": "WjYo56xzQy_J"
      },
      "execution_count": null,
      "outputs": []
    },
    {
      "cell_type": "markdown",
      "source": [
        "## 新增區段匯出DataFrame物件至MySQL資料庫 (Ch12_2_2d.py)"
      ],
      "metadata": {
        "id": "tDYmnD1NRD14"
      }
    },
    {
      "cell_type": "code",
      "source": [
        "# 目的是將資料從 Python 的 DataFrame 寫入到不同的檔案格式以及資料庫中。\n",
        "\n",
        "# Line26 說明，import pandas as pd\n",
        "# 導入 Pandas 模組，並使用 pd 作為別名，以便在後續程式碼中引用 Pandas 的相關功能。\n",
        "\n",
        "# Line28-30 說明，定義產品資料\n",
        "# 使用一個 Python 字典來定義產品資料，其中包含三個鍵值對：分類、商店和價格。每個鍵對應到一個列表，列表中存放著相應的資料。\n",
        "\n",
        "# Line32 說明，建立 DataFrame\n",
        "# 使用 pd.DataFrame() 函式將產品資料轉換為 DataFrame。此 DataFrame 被指定為 df12_2_2d。\n",
        "\n",
        "# Line33 說明，print(df12_2_2d)\n",
        "# 顯示 DataFrame df12_2_2d 的內容。\n",
        "\n",
        "# Line34 說明，寫入 HTML 檔案\n",
        "# 使用 to_html() 方法將 DataFrame 轉換為 HTML 格式並保存到指定的檔案中，這裡是 \"Ch12_2_2d.html\"。\n",
        "\n",
        "# Line36-37 說明，建立資料庫引擎\n",
        "# 使用 SQLAlchemy 的 create_engine() 函式建立一個與 MySQL 資料庫的連接引擎。\n",
        "# 連接的 URI 中包含了資料庫的位置、使用者名稱、密碼以及資料庫名稱。此 URI 也包含了指定使用 UTF-8 編碼的參數。\n",
        "\n",
        "# Line39 說明，將 DataFrame 寫入資料庫\n",
        "# 使用 DataFrame 的 to_sql() 方法將資料寫入到 MySQL 資料庫中的名為 \"products0319\" 的資料表中。\n",
        "# 函式的第一個參數是資料表名稱，第二個參數是資料庫引擎，第三個參數 if_exists=\"replace\" 指定如果資料表已存在，則將其替換。\n",
        "\n",
        "import pandas as pd\n",
        "\n",
        "products = {\"分類\": [\"居家\",\"居家\",\"娛樂\",\"娛樂\",\"科技\",\"科技\"],\n",
        "       \"商店\": [\"家樂福\",\"大潤發\",\"家樂福\",\"全聯超\",\"大潤發\",\"家樂福\"],\n",
        "       \"價格\": [11.42,23.50,19.99,15.95,55.75,111.55]}\n",
        "\n",
        "df12_2_2d = pd.DataFrame(products)\n",
        "print(df12_2_2d)\n",
        "df12_2_2d.to_html(\"Ch12_2_2d.html\") # to_html表示是寫入檔案副檔名為html\n",
        "\n",
        "from sqlalchemy import create_engine\n",
        "db = create_engine('mysql+pymysql://root@localhost:3306/mybooks?charset=utf8')\n",
        "# 將DataFrame匯出至資料庫\n",
        "df.to_sql(\"products0319\", db, if_exists=\"replace\")\n"
      ],
      "metadata": {
        "id": "sK1BTU3pRMjB"
      },
      "execution_count": null,
      "outputs": []
    },
    {
      "cell_type": "markdown",
      "source": [
        "## 顯示前幾筆紀錄(Ch12_2_3.py)"
      ],
      "metadata": {
        "id": "FL_hIkmGRVS-"
      }
    },
    {
      "cell_type": "code",
      "source": [
        "# 目的是用於讀取一個 CSV 檔案並顯示部分資料，然後將這些資料保存為 HTML 檔案。\n",
        "\n",
        "# Line22 說明，import pandas as pd\n",
        "# 導入 Pandas 模組，並使用 pd 作為別名。\n",
        "\n",
        "# Line24 說明，使用 pd.read_csv() 讀取 CSV 檔案\n",
        "# pd.read_csv() 函式用於從 CSV 檔案讀取資料，並返回一個 DataFrame 物件。\n",
        "# 函式的第一個參數是要讀取的檔案名稱，這裡是 \"products0319.csv\"。\n",
        "# encoding=\"utf8\" 參數指定了檔案的編碼格式為 UTF-8，確保能正確讀取中文文字。\n",
        "\n",
        "# Line26-27 說明，顯示 DataFrame 的前幾行\n",
        "# 使用 df.head() 方法顯示 DataFrame 的前五行資料。這裡的 head() 方法默認顯示前五行，與 head(5) 等效。\n",
        "# 第一個 print() 函式顯示整個 DataFrame 的前五行資料。\n",
        "# 第二個 print() 函式使用 head(3) 顯示前三行資料。\n",
        "\n",
        "# Line28-29 說明，將前幾行資料保存為 HTML 檔案：\n",
        "# 使用 to_html() 方法將 DataFrame 的前五行資料保存為 HTML 檔案，並命名為 \"Ch12_2_3_01.html\"。\n",
        "# 使用 head() 方法選擇前五行，然後將其轉換為 HTML 格式的文字，並保存到指定的檔案中。\n",
        "# 第二個 to_html() 方法將 DataFrame 的前三行資料保存為另一個 HTML 檔案 \"Ch12_2_3_02.html\"。\n",
        "\n",
        "\n",
        "import pandas as pd\n",
        "\n",
        "df = pd.read_csv(\"products0319.csv\", encoding=\"utf8\")\n",
        "\n",
        "print(df.head(), '\\n')\n",
        "print(df.head(3))\n",
        "df.head().to_html(\"Ch12_2_3_01.html\")\n",
        "df.head(3).to_html(\"Ch12_2_3_02.html\")\n"
      ],
      "metadata": {
        "colab": {
          "base_uri": "https://localhost:8080/"
        },
        "id": "0TM7EZoJRZKw",
        "outputId": "b6fb572d-0089-43d9-a4b0-31c5df657120"
      },
      "execution_count": null,
      "outputs": [
        {
          "output_type": "stream",
          "name": "stdout",
          "text": [
            "   分類   商店     價格\n",
            "0  居家  家樂福  11.42\n",
            "1  居家  大潤發  23.50\n",
            "2  娛樂  家樂福  19.99\n",
            "3  娛樂  全聯超  15.95\n",
            "4  科技  大潤發  55.75 \n",
            "\n",
            "   分類   商店     價格\n",
            "0  居家  家樂福  11.42\n",
            "1  居家  大潤發  23.50\n",
            "2  娛樂  家樂福  19.99\n"
          ]
        }
      ]
    },
    {
      "cell_type": "markdown",
      "source": [
        "## 顯示最後幾筆紀錄(Ch12_2_3a.py)"
      ],
      "metadata": {
        "id": "M7u6fYtcRlYC"
      }
    },
    {
      "cell_type": "code",
      "source": [
        "# 目的是用於讀取一個 CSV 檔案並顯示資料框的尾部行，然後將這些資料保存為 HTML 檔案。\n",
        "\n",
        "# Line22 說明，import pandas as pd\n",
        "# 導入 Pandas 模組，並使用 pd 作為別名。\n",
        "\n",
        "# Line24 說明，使用 pd.read_csv() 讀取 CSV 檔案\n",
        "# pd.read_csv() 函式用於從 CSV 檔案讀取資料，並返回一個 DataFrame 物件。\n",
        "# 函式的第一個參數是要讀取的檔案名稱，這裡是 \"products0319.csv\"。\n",
        "# encoding=\"utf8\" 參數指定了檔案的編碼格式為 UTF-8，確保能正確讀取中文文字。\n",
        "\n",
        "# Line26-27 說明，顯示 DataFrame 的尾部行\n",
        "# 使用 df.tail() 方法顯示 DataFrame 的後五行資料。這裡的 tail() 方法默認顯示後五行，與 tail(5) 等效。\n",
        "# 第一個 print() 函式顯示整個 DataFrame 的後五行資料，並在末尾添加一個換行符。\n",
        "# 第二個 print() 函式使用 tail(3) 顯示後三行資料。\n",
        "\n",
        "# Line29-30 說明，將尾部行資料保存為 HTML 檔案\n",
        "# 使用 to_html() 方法將 DataFrame 的後五行資料保存為 HTML 檔案，並命名為 \"Ch12_2_3a_01.html\"。\n",
        "# 使用 tail() 方法選擇後五行，然後將其轉換為 HTML 格式的文字，並保存到指定的檔案中。\n",
        "# 第二個 to_html() 方法將 DataFrame 的後三行資料保存為另一個 HTML 檔案 \"Ch12_2_3a_02.html\"。\n",
        "\n",
        "\n",
        "import pandas as pd\n",
        "\n",
        "df = pd.read_csv(\"products0319.csv\", encoding=\"utf8\")\n",
        "\n",
        "print(df.tail(), '\\n')\n",
        "print(df.tail(3))\n",
        "\n",
        "df.tail().to_html(\"Ch12_2_3a_01.html\")\n",
        "df.tail(3).to_html(\"Ch12_2_3a_02.html\")\n"
      ],
      "metadata": {
        "colab": {
          "base_uri": "https://localhost:8080/"
        },
        "id": "ggbOOM1WRm8A",
        "outputId": "f041ec84-f223-4aa2-8101-e93130d29265"
      },
      "execution_count": null,
      "outputs": [
        {
          "output_type": "stream",
          "name": "stdout",
          "text": [
            "   分類   商店      價格\n",
            "1  居家  大潤發   23.50\n",
            "2  娛樂  家樂福   19.99\n",
            "3  娛樂  全聯超   15.95\n",
            "4  科技  大潤發   55.75\n",
            "5  科技  家樂福  111.55 \n",
            "\n",
            "   分類   商店      價格\n",
            "3  娛樂  全聯超   15.95\n",
            "4  科技  大潤發   55.75\n",
            "5  科技  家樂福  111.55\n"
          ]
        }
      ]
    },
    {
      "cell_type": "markdown",
      "source": [
        "## 顯示自訂的欄位標籤(Ch12_2_3b.py)"
      ],
      "metadata": {
        "id": "IVBXqbIbRuA6"
      }
    },
    {
      "cell_type": "code",
      "source": [
        "# 目的是讀取一個 CSV 檔案並對資料框的欄位名稱進行重新命名，然後顯示資料框的前三行，最後將這些行保存為 HTML 檔案。\n",
        "\n",
        "# Line24 說明，import pandas as pd\n",
        "# 導入 Pandas 模組，並使用 pd 作為別名。\n",
        "\n",
        "# Line26 說明，使用 pd.read_csv() 讀取 CSV 檔案\n",
        "# pd.read_csv() 函式用於從 CSV 檔案讀取資料，並返回一個 DataFrame 物件。\n",
        "# 函式的第一個參數是要讀取的檔案名稱，這裡是 \"products0319.csv\"。\n",
        "# encoding=\"utf8\" 參數指定了檔案的編碼格式為 UTF-8，確保能正確讀取中文文字。\n",
        "\n",
        "# Line28 說明，重新命名資料框的欄位\n",
        "# 使用 df12_2_3b.columns 屬性將資料框的欄位名稱修改為指定的名稱。這裡將欄位名稱修改為 \"type\"、\"name\" 和 \"price\"。\n",
        "# 修改後的欄位名稱會影響後續對資料框的操作。\n",
        "\n",
        "# Line29 說明，顯示 DataFrame 的前三行\n",
        "# 使用 print(df12_2_3b.head(3)) 方法顯示 DataFrame 的前三行資料。這裡的 head(3) 方法選擇 DataFrame 的前三行。\n",
        "# print() 函式用於將資料列印到控制台。\n",
        "\n",
        "# Line30 說明，將前三行資料保存為 HTML 檔案\n",
        "# 使用 to_html() 方法將 DataFrame 的前三行資料保存為 HTML 檔案，並命名為 \"Ch12_2_3b.html\"。\n",
        "# 使用 head(3) 方法選擇前三行，然後將其轉換為 HTML 格式的文字，並保存到指定的檔案中。\n",
        "\n",
        "\n",
        "import pandas as pd\n",
        "\n",
        "df12_2_3b = pd.read_csv(\"products0319.csv\", encoding=\"utf8\")\n",
        "\n",
        "df12_2_3b.columns = [\"type\", \"name\", \"price\"]\n",
        "print(df12_2_3b.head(3))\n",
        "df12_2_3b.head(3).to_html(\"Ch12_2_3b.html\")\n"
      ],
      "metadata": {
        "colab": {
          "base_uri": "https://localhost:8080/"
        },
        "id": "H4tKdztxRvVH",
        "outputId": "c82be3b2-f779-4aaa-ec11-5faa5d5306f8"
      },
      "execution_count": null,
      "outputs": [
        {
          "output_type": "stream",
          "name": "stdout",
          "text": [
            "  type name  price\n",
            "0   居家  家樂福  11.42\n",
            "1   居家  大潤發  23.50\n",
            "2   娛樂  家樂福  19.99\n"
          ]
        }
      ]
    },
    {
      "cell_type": "markdown",
      "source": [
        "## 取得DataFrame物件的索引、欄位和資料(Ch12_2_3c.py)"
      ],
      "metadata": {
        "id": "uoSQdZ84R1Y6"
      }
    },
    {
      "cell_type": "code",
      "source": [
        "# 目的是讀取一個 CSV 檔案並將其轉換為 DataFrame 物件後，顯示 DataFrame 的索引、欄位名稱和資料值。\n",
        "\n",
        "# Line24 說明，import pandas as pd\n",
        "# 導入 Pandas 模組，並使用 pd 作為別名。\n",
        "\n",
        "# Line26 說明，使用 pd.read_csv() 讀取 CSV 檔案\n",
        "# pd.read_csv() 函式用於從 CSV 檔案讀取資料，並返回一個 DataFrame 物件。\n",
        "# 函式的第一個參數是要讀取的檔案名稱，這裡是 \"products0319.csv\"。\n",
        "# encoding=\"utf8\" 參數指定了檔案的編碼格式為 UTF-8，確保能正確讀取中文文字。\n",
        "\n",
        "# Line28 說明，顯示 DataFrame 的索引\n",
        "# 使用 df12_2_3c.index 屬性可以取得 DataFrame 的索引（行標籤）。\n",
        "# df12_2_3c.index 返回一個表示索引的索引對象，並在末尾添加一個換行符。\n",
        "\n",
        "# Line29 說明，顯示 DataFrame 的欄位名稱\n",
        "# 使用 df12_2_3c.columns 屬性可以取得 DataFrame 的欄位名稱（列標籤）。\n",
        "# df12_2_3c.columns 返回一個表示欄位名稱的索引對象，並在末尾添加一個換行符。\n",
        "\n",
        "# Line30 說明，顯示 DataFrame 的資料值\n",
        "# 使用 df12_2_3c.values 屬性可以取得 DataFrame 中的所有資料值。\n",
        "# df12_2_3c.values 返回一個 NumPy 二維陣列，其中包含了 DataFrame 的所有資料值。\n",
        "\n",
        "\n",
        "import pandas as pd\n",
        "\n",
        "df12_2_3c = pd.read_csv(\"products0319.csv\", encoding=\"utf8\")\n",
        "\n",
        "print(df12_2_3c, '\\n')\n",
        "print(df12_2_3c.index, '\\n')\n",
        "print(df12_2_3c.columns, '\\n')\n",
        "print(df12_2_3c.values)\n"
      ],
      "metadata": {
        "colab": {
          "base_uri": "https://localhost:8080/"
        },
        "id": "Rqziv6UhR3Em",
        "outputId": "09283d99-e538-4d81-ee0f-d4c1d63d41d2"
      },
      "execution_count": null,
      "outputs": [
        {
          "output_type": "stream",
          "name": "stdout",
          "text": [
            "   分類   商店      價格\n",
            "0  居家  家樂福   11.42\n",
            "1  居家  大潤發   23.50\n",
            "2  娛樂  家樂福   19.99\n",
            "3  娛樂  全聯超   15.95\n",
            "4  科技  大潤發   55.75\n",
            "5  科技  家樂福  111.55 \n",
            "\n",
            "RangeIndex(start=0, stop=6, step=1) \n",
            "\n",
            "Index(['分類', '商店', '價格'], dtype='object') \n",
            "\n",
            "[['居家' '家樂福' 11.42]\n",
            " ['居家' '大潤發' 23.5]\n",
            " ['娛樂' '家樂福' 19.99]\n",
            " ['娛樂' '全聯超' 15.95]\n",
            " ['科技' '大潤發' 55.75]\n",
            " ['科技' '家樂福' 111.55]]\n"
          ]
        }
      ]
    },
    {
      "cell_type": "markdown",
      "source": [
        "## 顯示DataFrame物件的摘要資訊(Ch12_2_3d.py)"
      ],
      "metadata": {
        "id": "SBFrMGjTR86n"
      }
    },
    {
      "cell_type": "code",
      "source": [
        "# 目的是讀取一個 CSV 檔案並顯示有關 DataFrame 的一些基本資訊。\n",
        "\n",
        "# Line24 說明，import pandas as pd\n",
        "# 導入 Pandas 模組，並使用 pd 作為別名。\n",
        "\n",
        "# Line26 說明，使用 pd.read_csv() 讀取 CSV 檔案\n",
        "# pd.read_csv() 函式用於從 CSV 檔案讀取資料，並返回一個 DataFrame 物件。\n",
        "# 函式的第一個參數是要讀取的檔案名稱，這裡是 \"products0319.csv\"。\n",
        "# encoding=\"utf8\" 參數指定了檔案的編碼格式為 UTF-8，確保能正確讀取中文文字。\n",
        "\n",
        "# Line28 說明，顯示資料數\n",
        "# 使用 len() 函式可以取得 DataFrame 的資料數，即 DataFrame 中的列數。\n",
        "# len(df12_2_3d) 返回 DataFrame 中的列數。\n",
        "\n",
        "# Line29 說明，顯示形狀\n",
        "# 使用 df12_2_3d.shape 屬性可以獲取 DataFrame 的形狀，即行數和列數。\n",
        "# df12_2_3d.shape 返回一個元組，其中第一個元素是 DataFrame 的行數，第二個元素是列數。\n",
        "\n",
        "# Line30 說明，使用 df12_2_3d.info() 方法顯示 DataFrame 的資訊\n",
        "# df12_2_3d.info() 方法顯示 DataFrame 的詳細資訊，包括索引的類型、欄位的類型、非空值的數量等。\n",
        "# 這對於快速檢視 DataFrame 的資料類型和是否有缺失值非常有用。\n",
        "\n",
        "\n",
        "import pandas as pd\n",
        "\n",
        "df12_2_3d = pd.read_csv(\"products0319.csv\", encoding=\"utf8\")\n",
        "\n",
        "print(\"資料數= \", len(df12_2_3d), '\\n')\n",
        "print(\"形狀= \", df12_2_3d.shape, '\\n')\n",
        "df12_2_3d.info()\n"
      ],
      "metadata": {
        "colab": {
          "base_uri": "https://localhost:8080/"
        },
        "id": "IDCQyTRfR-fp",
        "outputId": "6a86b9da-c208-4418-fd10-3b51dd0ffe1e"
      },
      "execution_count": null,
      "outputs": [
        {
          "output_type": "stream",
          "name": "stdout",
          "text": [
            "資料數=  6 \n",
            "\n",
            "形狀=  (6, 3) \n",
            "\n",
            "<class 'pandas.core.frame.DataFrame'>\n",
            "RangeIndex: 6 entries, 0 to 5\n",
            "Data columns (total 3 columns):\n",
            " #   Column  Non-Null Count  Dtype  \n",
            "---  ------  --------------  -----  \n",
            " 0   分類      6 non-null      object \n",
            " 1   商店      6 non-null      object \n",
            " 2   價格      6 non-null      float64\n",
            "dtypes: float64(1), object(2)\n",
            "memory usage: 272.0+ bytes\n"
          ]
        }
      ]
    },
    {
      "cell_type": "markdown",
      "source": [
        "## 使用iterrows()函數走訪DataFrame物件(Ch12_2_4.py)"
      ],
      "metadata": {
        "id": "Yhn8Z7iVSE1W"
      }
    },
    {
      "cell_type": "code",
      "source": [
        "# Line14 說明，使用了 DataFrame 的 iterrows() 方法來訪問資料集中的每一行，並印出每一行的索引值以及指定列的數值。\n",
        "# for index, row in df12_2_4.iterrows() : 這是一個迴圈，它拜訪了 DataFrame df12_2_4 中的每一行，\n",
        "# index 是行的索引，row 是包含該行數據的 Series。\n",
        "\n",
        "# Line15 說明，print(index, row[\"分類\"], row[\"商店\"], row[\"價格\"])：\n",
        "# 每一行的索引值以及該行的 \"分類\"、\"商店\" 和 \"價格\" 列的數值。\n",
        "# row[\"分類\"]、row[\"商店\"] 和 row[\"價格\"] 分別是該行中 \"分類\"、\"商店\" 和 \"價格\" 這些列的數值。\n",
        "\n",
        "\n",
        "import pandas as pd\n",
        "\n",
        "df12_2_4 = pd.read_csv(\"products0319.csv\", encoding=\"utf8\")\n",
        "\n",
        "for index, row in df12_2_4.iterrows() :\n",
        "  print(index, row[\"分類\"], row[\"商店\"], row[\"價格\"], '\\n')\n"
      ],
      "metadata": {
        "colab": {
          "base_uri": "https://localhost:8080/"
        },
        "id": "bUtxtzCcSGYP",
        "outputId": "f11c134f-744f-46d5-9f37-c8359e9ec2f1"
      },
      "execution_count": null,
      "outputs": [
        {
          "output_type": "stream",
          "name": "stdout",
          "text": [
            "0 居家 家樂福 11.42 \n",
            "\n",
            "1 居家 大潤發 23.5 \n",
            "\n",
            "2 娛樂 家樂福 19.99 \n",
            "\n",
            "3 娛樂 全聯超 15.95 \n",
            "\n",
            "4 科技 大潤發 55.75 \n",
            "\n",
            "5 科技 家樂福 111.55 \n",
            "\n"
          ]
        }
      ]
    },
    {
      "cell_type": "markdown",
      "source": [
        "## 指定DataFrame物件的單一欄位索引(Ch12_2_5.py)"
      ],
      "metadata": {
        "id": "G31ACVSiSLjc"
      }
    },
    {
      "cell_type": "code",
      "source": [
        "# 目的是使用了 Pandas 來讀取一個 CSV 檔案並指定DataFrame物件的單一欄位索引。\n",
        "\n",
        "# Line31 說明，df = pd.read_csv(\"products0319.csv\", encoding=\"utf8\")：\n",
        "# 這行程式碼使用 Pandas 的 read_csv() 函數從名為 \"products0319.csv\" 的 CSV 檔案中讀取數據。\n",
        "# encoding=\"utf8\" 參數用於指定文件的編碼格式為 UTF-8。讀取後的數據被儲存在 df 的 DataFrame 中。\n",
        "\n",
        "# Line33 說明，df2 = df.set_index(\"分類\")：\n",
        "# 這行程式碼將 DataFrame df 中的 \"分類\" 列設置為索引，並將結果存儲在 df2 中。\n",
        "# 這意味著 \"分類\" 列中的值將成為 DataFrame 的索引，而不再是普通的列。這可以使得根據 \"分類\" 來進行快速查找和檢索。\n",
        "\n",
        "# Line34 說明，print(df2.head(), '\\n')：\n",
        "# 這行程式碼印出 DataFrame df2 的前五行。head() 函數用於顯示 DataFrame 的前幾行，預設值是 5。\n",
        "# 加上 '\\n' 是為了在輸出結果中加入一個空行，使得輸出更清晰。\n",
        "\n",
        "# Line35 說明，df2.head().to_html(\"Ch12_2_5_01.html\")：\n",
        "# 這行程式碼將 DataFrame df2 的前五行轉換為 HTML 格式，並將其儲存為 \"Ch12_2_5_01.html\" 的文件。\n",
        "# 這樣做可以將 DataFrame 的內容以表格的形式呈現在網頁中，方便閱讀和分享。\n",
        "\n",
        "# Line37 說明，df3 = df2.reset_index()：\n",
        "# 這行程式碼將 DataFrame df2 中的索引重置，將索引恢復為默認的整數索引，並將結果儲存在 df3 中。\n",
        "\n",
        "# Line38 說明，print(df3.head())：\n",
        "# 這行程式碼印出 DataFrame df3 的前五行，這時索引已經重置為默認的整數索引。\n",
        "\n",
        "# Line39 說明，df3.head().to_html(\"Ch12_2_5_02.html\")：\n",
        "# 這行程式碼將 DataFrame df3 的前五行轉換為 HTML 格式，並將其儲存為 \"Ch12_2_5_02.html\" 的文件。\n",
        "\n",
        "\n",
        "import pandas as pd\n",
        "\n",
        "df = pd.read_csv(\"products0319.csv\", encoding=\"utf8\")\n",
        "\n",
        "df2 = df.set_index(\"分類\")\n",
        "print(df2.head(), '\\n')\n",
        "df2.head().to_html(\"Ch12_2_5_01.html\")\n",
        "\n",
        "df3 = df2.reset_index()\n",
        "print(df3.head())\n",
        "df3.head().to_html(\"Ch12_2_5_02.html\")\n"
      ],
      "metadata": {
        "colab": {
          "base_uri": "https://localhost:8080/"
        },
        "id": "0Gx-80HtSM8V",
        "outputId": "5432133a-1eb1-4742-e779-a4f80406dacd"
      },
      "execution_count": null,
      "outputs": [
        {
          "output_type": "stream",
          "name": "stdout",
          "text": [
            "     商店     價格\n",
            "分類            \n",
            "居家  家樂福  11.42\n",
            "居家  大潤發  23.50\n",
            "娛樂  家樂福  19.99\n",
            "娛樂  全聯超  15.95\n",
            "科技  大潤發  55.75 \n",
            "\n",
            "   分類   商店     價格\n",
            "0  居家  家樂福  11.42\n",
            "1  居家  大潤發  23.50\n",
            "2  娛樂  家樂福  19.99\n",
            "3  娛樂  全聯超  15.95\n",
            "4  科技  大潤發  55.75\n"
          ]
        }
      ]
    },
    {
      "cell_type": "markdown",
      "source": [
        "## 指定DataFrame物件的多欄位複合索引(Ch12_2_5a.py)"
      ],
      "metadata": {
        "id": "gXLzjFrSSRZu"
      }
    },
    {
      "cell_type": "code",
      "source": [
        "# 目的是讀取名為 \"products0319.csv\" 的 CSV 檔案，將其轉換成 DataFrame，然後將 \"分類\" 和 \"商店\" 兩個欄位設定為\n",
        "# MultiIndex，並按照這些索引進行降序排序，最後將排序後的 DataFrame 輸出為 HTML 格式的文件。\n",
        "\n",
        "# Line26 說明，df = pd.read_csv(\"products0319.csv\", encoding=\"utf8\")：\n",
        "# 使用 Pandas 的 read_csv() 函數從 \"products0319.csv\" 的 CSV 檔案中讀取數據，並將其轉換為 DataFrame。\n",
        "# encoding=\"utf8\" 參數指定使用 UTF-8 編碼來讀取檔案，以支援包含中文等特殊字符的資料。\n",
        "\n",
        "# Line28 說明，df2 = df.set_index([\"分類\", \"商店\"])：\n",
        "# 將 DataFrame df 中的 \"分類\" 和 \"商店\" 兩個欄位設定為 MultiIndex，並將結果儲存在新的 DataFrame df2 中。\n",
        "# 這樣做可以使 DataFrame 具有多個欄位的複合索引，方便後續的分析和處理。\n",
        "\n",
        "# Line29 說明，df2.sort_index(ascending=False, inplace=True)：\n",
        "# 對 DataFrame df2 中的索引進行排序，ascending=False 表示降序排序。\n",
        "# inplace=True 參數表示在原地修改 DataFrame，即不建立新的 DataFrame，而是在現有的 DataFrame 上進行修改。\n",
        "\n",
        "# Line30 說明，print(df2)：\n",
        "# 印出排序後的 DataFrame df2，顯示所有行和列的內容。\n",
        "\n",
        "# Line31 說明，df2.to_html(\"Ch12_2_5a.html\")：\n",
        "# 將 DataFrame df2 轉換為 HTML 格式，並將其儲存為 \"Ch12_2_5a.html\" 的文件。\n",
        "# 這將建立一個包含 DataFrame 內容的 HTML 表格文件，可以在網頁瀏覽器中打開。\n",
        "\n",
        "\n",
        "import pandas as pd\n",
        "\n",
        "df = pd.read_csv(\"products0319.csv\", encoding=\"utf8\")\n",
        "\n",
        "df2 = df.set_index([\"分類\", \"商店\"])\n",
        "df2.sort_index(ascending=False, inplace=True)\n",
        "print(df2)\n",
        "df2.to_html(\"Ch12_2_5a.html\")\n"
      ],
      "metadata": {
        "colab": {
          "base_uri": "https://localhost:8080/"
        },
        "id": "qYMV0fkPSSzY",
        "outputId": "49f779a6-3109-4a8d-e1e9-222bef08f030"
      },
      "execution_count": null,
      "outputs": [
        {
          "output_type": "stream",
          "name": "stdout",
          "text": [
            "            價格\n",
            "分類 商店         \n",
            "科技 家樂福  111.55\n",
            "   大潤發   55.75\n",
            "居家 家樂福   11.42\n",
            "   大潤發   23.50\n",
            "娛樂 家樂福   19.99\n",
            "   全聯超   15.95\n"
          ]
        }
      ]
    },
    {
      "cell_type": "markdown",
      "source": [
        "# 12.3 選取、過濾與排序資料"
      ],
      "metadata": {
        "id": "Kl5NUqhtSZDj"
      }
    },
    {
      "cell_type": "markdown",
      "source": [
        "## 選取單一欄位或多個欄位資料(Ch12_3_1.py)"
      ],
      "metadata": {
        "id": "JaqFbo4kSauM"
      }
    },
    {
      "cell_type": "code",
      "source": [
        "# 目的是讀取名為 \"products0319.csv\" 的 CSV 檔案，並選取單一欄位或多個欄位資料，最後將結果輸出為 HTML 格式的文件。\n",
        "\n",
        "# Line34 說明，df = pd.read_csv(\"products0319.csv\", encoding=\"utf8\")：\n",
        "# 使用 Pandas 的 read_csv() 函數從 \"products0319.csv\" 的 CSV 檔案中讀取數據，並將其轉換為 DataFrame。\n",
        "# encoding=\"utf8\" 參數指定使用 UTF-8 編碼來讀取檔案，以支援包含中文等特殊字符的資料。\n",
        "\n",
        "# Line36 說明，df.columns = [\"type\", \"name\", \"price\"]：\n",
        "# 將 DataFrame df 的欄位名稱進行重新命名，將原始的欄位名稱分別改為 \"type\"、\"name\" 和 \"price\"。\n",
        "\n",
        "# Line37 說明，ordinals = [\"A\", \"B\", \"C\", \"D\", \"E\", \"F\"]：\n",
        "# 建立一個列表 ordinals，其中包含字母 A 到 F，用作 DataFrame 的新索引。\n",
        "\n",
        "# Line38 說明，df.index = ordinals：\n",
        "# 將 DataFrame df 的索引設定為剛剛定義的 ordinals 列表。\n",
        "\n",
        "# Line40 說明，print(df[\"price\"].head(3), '\\n')：\n",
        "# 印出 DataFrame df 中 \"price\" 欄位的前 3 行數據。\n",
        "# head(3) 方法用於僅顯示前 3 行數據。\n",
        "\n",
        "# Line41 說明，print(df[[\"type\",\"name\"]].head(3))：\n",
        "# 印出 DataFrame df 中 \"type\" 和 \"name\" 兩個欄位的前 3 行數據。\n",
        "# 使用 [[...]] 的方式可以同時選擇多個欄位。\n",
        "\n",
        "# Line42 說明，df[[\"type\",\"name\"]].head(3).to_html(\"Ch12_3_1.html\")：\n",
        "# 將 DataFrame df 中 \"type\" 和 \"name\" 兩個欄位的前 3 行數據轉換為 HTML 格式，並將其儲存為 \"Ch12_3_1.html\" 的文件。\n",
        "\n",
        "# Line43 說明，print(df.price.head(3))：\n",
        "# 使用屬性方式來訪問 \"price\" 欄位，並印出前 3 行的數據。這種方法與 df[\"price\"] 用法相同，但不建議在一般情況下使用，\n",
        "# 因為當欄位名稱包含特殊字符或與 DataFrame 的方法名稱衝突時，這種方式可能會引起問題。\n",
        "\n",
        "\n",
        "import pandas as pd\n",
        "\n",
        "df = pd.read_csv(\"products0319.csv\", encoding=\"utf8\")\n",
        "\n",
        "df.columns = [\"type\", \"name\", \"price\"]\n",
        "ordinals = [\"A\", \"B\", \"C\", \"D\", \"E\", \"F\"]\n",
        "df.index = ordinals\n",
        "\n",
        "print(df[\"price\"].head(3), '\\n')\n",
        "print(df[[\"type\",\"name\"]].head(3), '\\n')\n",
        "df[[\"type\",\"name\"]].head(3).to_html(\"Ch12_3_1.html\")\n",
        "print(df.price.head(3))   # 使用屬性方式\n"
      ],
      "metadata": {
        "colab": {
          "base_uri": "https://localhost:8080/"
        },
        "id": "VCiRj6crSfQ2",
        "outputId": "d70f5727-0b3a-4258-a204-59c1c9354dcc"
      },
      "execution_count": null,
      "outputs": [
        {
          "output_type": "stream",
          "name": "stdout",
          "text": [
            "A    11.42\n",
            "B    23.50\n",
            "C    19.99\n",
            "Name: price, dtype: float64 \n",
            "\n",
            "  type name\n",
            "A   居家  家樂福\n",
            "B   居家  大潤發\n",
            "C   娛樂  家樂福 \n",
            "\n",
            "A    11.42\n",
            "B    23.50\n",
            "C    19.99\n",
            "Name: price, dtype: float64\n"
          ]
        }
      ]
    },
    {
      "cell_type": "markdown",
      "source": [
        "## 選取特定範圍的多筆紀錄(Ch12_3_1a.py)"
      ],
      "metadata": {
        "id": "HkoomsHxSs-N"
      }
    },
    {
      "cell_type": "code",
      "source": [
        "# 目的是處理 DataFrame 的基本操作，包括從 CSV 檔案中讀取數據、更改列名、設定索引以及選取子集的操作。\n",
        "\n",
        "# Line32 說明，df = pd.read_csv(\"products0319.csv\", encoding=\"utf8\")：\n",
        "# 使用 Pandas 的 read_csv() 函數從 \"products0319.csv\" CSV 檔案中讀取數據，並將其轉換為 DataFrame。\n",
        "# encoding=\"utf8\" 參數指定使用 UTF-8 編碼來讀取檔案，以支援包含中文等特殊字符的資料。\n",
        "\n",
        "# Line34 說明，df.columns = [\"type\", \"name\", \"price\"]：\n",
        "# 將 DataFrame df 中的列名更改為 \"type\"、\"name\" 和 \"price\"。\n",
        "\n",
        "# Line35 說明，ordinals = [\"A\", \"B\", \"C\", \"D\", \"E\", \"F\"]：\n",
        "# 建立一個包含字母 A 到 F 的列表，用作索引。\n",
        "\n",
        "# Line36 說明，df.index = ordinals：\n",
        "# 將 DataFrame df 的索引更改為剛剛建立的 ordinals 列表。\n",
        "\n",
        "# Line38 說明，print(df[0:3], '\\n')：\n",
        "# 印出 DataFrame df 的前三行，使用索引範圍從 0 到 2。\n",
        "# 注意：Python 的索引範圍是左閉右開區間，所以不包含索引 3。\n",
        "\n",
        "# Line39 說明，print(df[\"C\":\"E\"])：\n",
        "# 印出 DataFrame df 中索引從 \"C\" 到 \"E\" 的行，包括 \"E\"。\n",
        "\n",
        "# Line40 說明，df[0:3].to_html(\"Ch12_3_1a_01.html\")：\n",
        "# 將 DataFrame df 的前三行轉換為 HTML 格式並儲存為 \"Ch12_3_1a_01.html\" 文件。\n",
        "\n",
        "# Line41 說明，df[\"C\":\"E\"].to_html(\"Ch12_3_1a_02.html\")：\n",
        "# 將 DataFrame df 中索引從 \"C\" 到 \"E\" 的行轉換為 HTML 格式並儲存為 \"Ch12_3_1a_02.html\" 文件。\n",
        "\n",
        "\n",
        "import pandas as pd\n",
        "\n",
        "df = pd.read_csv(\"products0319.csv\", encoding=\"utf8\")\n",
        "\n",
        "df.columns = [\"type\", \"name\", \"price\"]\n",
        "ordinals = [\"A\", \"B\", \"C\", \"D\", \"E\", \"F\"]\n",
        "df.index = ordinals\n",
        "\n",
        "print(df[0:3], '\\n') # 不含 3\n",
        "print(df[\"C\":\"E\"])   # 含 \"E\"\n",
        "df[0:3].to_html(\"Ch12_3_1a_01.html\")\n",
        "df[\"C\":\"E\"].to_html(\"Ch12_3_1a_02.html\")\n"
      ],
      "metadata": {
        "colab": {
          "base_uri": "https://localhost:8080/"
        },
        "id": "rx0yC2uuSuMU",
        "outputId": "bdb8e546-ee46-4e5d-a2e5-76bf9b852f78"
      },
      "execution_count": null,
      "outputs": [
        {
          "output_type": "stream",
          "name": "stdout",
          "text": [
            "  type name  price\n",
            "A   居家  家樂福  11.42\n",
            "B   居家  大潤發  23.50\n",
            "C   娛樂  家樂福  19.99 \n",
            "\n",
            "  type name  price\n",
            "C   娛樂  家樂福  19.99\n",
            "D   娛樂  全聯超  15.95\n",
            "E   科技  大潤發  55.75\n"
          ]
        }
      ]
    },
    {
      "cell_type": "markdown",
      "source": [
        "## 使用標籤選取資料(Ch12_3_1b.py)"
      ],
      "metadata": {
        "id": "wGOsG8dBSyAJ"
      }
    },
    {
      "cell_type": "code",
      "source": [
        "# 目的是使用 DataFrame .loc[] 方法進行索引和選擇的操作，以及將選擇的子集轉換為 HTML 格式並儲存的操作。\n",
        "\n",
        "# Line64 說明，df = pd.read_csv(\"products0319.csv\", encoding=\"utf8\")：\n",
        "# 使用 Pandas 的 read_csv() 函數從 \"products0319.csv\" CSV 檔案中讀取數據，並將其轉換為 DataFrame。\n",
        "# encoding=\"utf8\" 參數指定使用 UTF-8 編碼來讀取檔案，以支援包含中文等特殊字符的資料。\n",
        "\n",
        "# Line66 說明，df.columns = [\"type\", \"name\", \"price\"]：\n",
        "# 將 DataFrame df 中的列名更改為 \"type\"、\"name\" 和 \"price\"。\n",
        "\n",
        "# Line67 說明，ordinals = [\"A\", \"B\", \"C\", \"D\", \"E\", \"F\"]：\n",
        "# 建立一個包含字母 A 到 F 的列表，用作索引。\n",
        "\n",
        "# Line68 說明，df.index = ordinals：\n",
        "# 將 DataFrame df 的索引更改為剛剛建立的 ordinals 列表。\n",
        "\n",
        "# Line70 說明，print(df.loc[ordinals[1]], '\\n')：\n",
        "# 使用 .loc[] 方法選擇索引為 ordinals[1] 的行（即第二行）。\\n 用於換行。\n",
        "\n",
        "# Line71 說明，print(type(df.loc[ordinals[1]]), '\\n')：\n",
        "# 印出 df.loc[ordinals[1]] 的類型，即選擇的子集的類型。\\n 用於換行。\n",
        "\n",
        "# Line72 說明，print(df.loc[:,[\"name\",\"price\"]], '\\n')：\n",
        "# 使用 .loc[] 方法選擇所有行中的 \"name\" 和 \"price\" 兩列。\\n 用於換行。\n",
        "\n",
        "# Line73 說明，print(df.loc[[\"C\",\"F\"], [\"name\",\"price\"]], '\\n')：\n",
        "# 使用 .loc[] 方法選擇索引為 \"C\" 和 \"F\" 的行，以及 \"name\" 和 \"price\" 兩列。\\n 用於換行。\n",
        "\n",
        "# Line75 說明，df.loc[:,[\"name\",\"price\"]].to_html(\"Ch12_3_1b_01.html\")：\n",
        "# 將 DataFrame 中的所有行中的 \"name\" 和 \"price\" 兩列轉換為 HTML 格式並儲存為 \"Ch12_3_1b_01.html\" 文件。\n",
        "\n",
        "# Line76 說明，df.loc[[\"C\",\"F\"], [\"name\",\"price\"]].to_html(\"Ch12_3_1b_02.html\")：\n",
        "# 將索引為 \"C\" 和 \"F\" 的行中的 \"name\" 和 \"price\" 兩列轉換為 HTML 格式並儲存為 \"Ch12_3_1b_02.html\" 文件。\n",
        "\n",
        "# Line78 說明，print(df.loc[\"C\":\"E\", [\"name\",\"price\"]], '\\n')：\n",
        "# 使用 .loc[] 方法選擇索引從 \"C\" 到 \"E\" 的行，以及 \"name\" 和 \"price\" 兩列。\\n 用於換行。\n",
        "\n",
        "# Line79 說明，print(df.loc[\"C\", [\"name\",\"price\"]], '\\n')：\n",
        "# 使用 .loc[] 方法選擇索引為 \"C\" 的行，以及 \"name\" 和 \"price\" 兩列。\\n 用於換行。\n",
        "\n",
        "# Line81 說明，df.loc[\"C\":\"E\", [\"name\",\"price\"]].to_html(\"Ch12_3_1b_03.html\")：\n",
        "# 將索引從 \"C\" 到 \"E\" 的行中的 \"name\" 和 \"price\" 兩列轉換為 HTML 格式並儲存為 \"Ch12_3_1b_03.html\" 文件。\n",
        "\n",
        "# Line83 說明，print(df.loc[ordinals[0], \"name\"], '\\n')：\n",
        "# 使用 .loc[] 方法取得索引為 ordinals[0]（即第一行）和列名為 \"name\" 的值。\\n 用於換行。\n",
        "\n",
        "# Line84 說明，print(type(df.loc[ordinals[0],\"name\"]), '\\n')：\n",
        "# 印出索引為 ordinals[0]（即第一行）和列名為 \"name\" 的值的類型。\\n 用於換行。\n",
        "\n",
        "# Line85 說明，print(df.loc[\"A\", \"price\"], '\\n')：\n",
        "# 使用 .loc[] 方法取得索引為 \"A\" 和列名為 \"price\" 的值。\\n 用於換行。\n",
        "\n",
        "# Line86 說明，print(type(df.loc[\"A\", \"price\"]), '\\n')：\n",
        "# 印出索引為 \"A\" 和列名為 \"price\" 的值的類型。\\n 用於換行。\n",
        "\n",
        "# Line87 說明，print(df.loc[ordinals[0]][\"name\"], '\\n')：\n",
        "# 先使用 .loc[] 方法選擇索引為 ordinals[0] 的整行，然後再從選擇的子 DataFrame 中選擇列名為 \"name\" 的值。\\n 用於換行。\n",
        "\n",
        "# Line88 說明，print(df.loc[\"A\"][\"price\"])：\n",
        "# 先使用 .loc[] 方法選擇索引為 \"A\" 的整行，然後再從選擇的子 DataFrame 中選擇列名為 \"price\" 的值。\n",
        "\n",
        "\n",
        "import pandas as pd\n",
        "\n",
        "df = pd.read_csv(\"products0319.csv\", encoding=\"utf8\")\n",
        "\n",
        "df.columns = [\"type\", \"name\", \"price\"]\n",
        "ordinals = [\"A\", \"B\", \"C\", \"D\", \"E\", \"F\"]\n",
        "df.index = ordinals\n",
        "\n",
        "print(df.loc[ordinals[1]], '\\n')\n",
        "print(type(df.loc[ordinals[1]]), '\\n')\n",
        "print(df.loc[:,[\"name\",\"price\"]], '\\n')\n",
        "print(df.loc[[\"C\",\"F\"], [\"name\",\"price\"]], '\\n')\n",
        "\n",
        "df.loc[:,[\"name\",\"price\"]].to_html(\"Ch12_3_1b_01.html\")\n",
        "df.loc[[\"C\",\"F\"], [\"name\",\"price\"]].to_html(\"Ch12_3_1b_02.html\")\n",
        "\n",
        "print(df.loc[\"C\":\"E\", [\"name\",\"price\"]], '\\n')\n",
        "print(df.loc[\"C\", [\"name\",\"price\"]], '\\n')\n",
        "\n",
        "df.loc[\"C\":\"E\", [\"name\",\"price\"]].to_html(\"Ch12_3_1b_03.html\")\n",
        "# 取得單一純量值\n",
        "print(df.loc[ordinals[0], \"name\"], '\\n')\n",
        "print(type(df.loc[ordinals[0],\"name\"]), '\\n')\n",
        "print(df.loc[\"A\", \"price\"], '\\n')\n",
        "print(type(df.loc[\"A\", \"price\"]), '\\n')\n",
        "print(df.loc[ordinals[0]][\"name\"], '\\n')\n",
        "print(df.loc[\"A\"][\"price\"])\n"
      ],
      "metadata": {
        "colab": {
          "base_uri": "https://localhost:8080/"
        },
        "id": "wAz3l2eeS11J",
        "outputId": "d767cf34-3ba6-4c25-ef86-f7c95007b6f8"
      },
      "execution_count": null,
      "outputs": [
        {
          "output_type": "stream",
          "name": "stdout",
          "text": [
            "type       居家\n",
            "name      大潤發\n",
            "price    23.5\n",
            "Name: B, dtype: object \n",
            "\n",
            "<class 'pandas.core.series.Series'> \n",
            "\n",
            "  name   price\n",
            "A  家樂福   11.42\n",
            "B  大潤發   23.50\n",
            "C  家樂福   19.99\n",
            "D  全聯超   15.95\n",
            "E  大潤發   55.75\n",
            "F  家樂福  111.55 \n",
            "\n",
            "  name   price\n",
            "C  家樂福   19.99\n",
            "F  家樂福  111.55 \n",
            "\n",
            "  name  price\n",
            "C  家樂福  19.99\n",
            "D  全聯超  15.95\n",
            "E  大潤發  55.75 \n",
            "\n",
            "name       家樂福\n",
            "price    19.99\n",
            "Name: C, dtype: object \n",
            "\n",
            "家樂福 \n",
            "\n",
            "<class 'str'> \n",
            "\n",
            "11.42 \n",
            "\n",
            "<class 'numpy.float64'> \n",
            "\n",
            "家樂福 \n",
            "\n",
            "11.42\n"
          ]
        }
      ]
    },
    {
      "cell_type": "markdown",
      "source": [
        "## 使用位置選取資料(Ch12_3_1c.py)"
      ],
      "metadata": {
        "id": "uw8huTfmS7Wl"
      }
    },
    {
      "cell_type": "code",
      "source": [
        "# 目的是使用 DataFrame 的 .iloc[] 方法進行索引和切片，以及將選擇的子集轉換為 HTML 格式並儲存的操作。\n",
        "\n",
        "# Line52 說明，df = pd.read_csv(\"products0319.csv\", encoding=\"utf8\")：\n",
        "# 使用 Pandas 的 read_csv() 函數從 \"products0319.csv\" CSV 檔案中讀取數據，並將其轉換為 DataFrame。\n",
        "# encoding=\"utf8\" 參數指定使用 UTF-8 編碼來讀取檔案，以支援包含中文等特殊字符的資料。\n",
        "\n",
        "# Line54 說明，df.columns = [\"type\", \"name\", \"price\"]：\n",
        "# 將 DataFrame df 中的列名更改為 \"type\"、\"name\" 和 \"price\"。\n",
        "\n",
        "# Line55 說明，ordinals = [\"A\", \"B\", \"C\", \"D\", \"E\", \"F\"]：\n",
        "# 建立一個包含字母 A 到 F 的列表，用作索引。\n",
        "\n",
        "# Line56 說明，df.index = ordinals：\n",
        "# 將 DataFrame df 的索引更改為剛剛建立的 ordinals 列表。\n",
        "\n",
        "# Line58 說明，print(df.iloc[3], '\\n')：\n",
        "# 使用 .iloc[] 方法選擇索引為 3 的行（即第四行）。\\n 用於換行。\n",
        "\n",
        "# Line59 說明，print(df.iloc[3:5, 1:3], '\\n')：\n",
        "# 使用 .iloc[] 方法選擇索引從 3 到 4 的行（即第四到第五行）和索引從 1 到 2 的列（即第二到第三列）。\\n 用於換行。\n",
        "\n",
        "# Line60 說明，print(df.iloc[1:3, :], '\\n')：\n",
        "# 使用 .iloc[] 方法選擇索引從 1 到 2 的行和所有列。\\n 用於換行。\n",
        "\n",
        "# Line61 說明，print(df.iloc[:, 1:3], '\\n')：\n",
        "# 使用 .iloc[] 方法選擇所有行和索引從 1 到 2 的列。\\n 用於換行。\n",
        "\n",
        "# Line63 說明，df.iloc[3:5, 1:3].to_html(\"Ch12_3_1c_01.html\")：\n",
        "# 將索引為 3 到 4 的行和索引為 1 到 2 的列的數據轉換為 HTML 格式並儲存為 \"Ch12_3_1c_01.html\" 文件。\n",
        "\n",
        "# Line64 說明，df.iloc[1:3, :].to_html(\"Ch12_3_1c_02.html\")：\n",
        "# 將索引為 1 到 2 的行的所有列的數據轉換為 HTML 格式並儲存為 \"Ch12_3_1c_02.html\" 文件。\n",
        "\n",
        "# Line65 說明，df.iloc[:, 1:3].to_html(\"Ch12_3_1c_03.html\")：\n",
        "# 將所有行中索引為 1 到 2 的列的數據轉換為 HTML 格式並儲存為 \"Ch12_3_1c_03.html\" 文件。\n",
        "\n",
        "# Line67 說明，print(df.iloc[[1,2,4], [0,2]], '\\n')：\n",
        "# 使用 .iloc[] 方法選擇索引為 1、2 和 4 的行，以及索引為 0 和 2 的列。\\n 用於換行。\n",
        "\n",
        "# Line68 說明，df.iloc[[1,2,4], [0,2]].to_html(\"Ch12_3_1c_04.html\")：\n",
        "# 將索引為 1、2 和 4 的行以及索引為 0 和 2 的列的數據轉換為 HTML 格式並保存為 \"Ch12_3_1c_04.html\" 文件。\n",
        "\n",
        "# Line70 說明，print(df.iloc[1,1], '\\n')：\n",
        "# 使用 .iloc[] 方法取得索引為 1 的行和列，即第二行第二列的值。\\n 用於換行。\n",
        "\n",
        "# Line71 說明，print(df.iat[1,1])：\n",
        "# 使用 .iat[] 方法取得索引為 1 的行和列，即第二行第二列的值。.iat[] 方法效率更高，用於單個純量值的訪問。\n",
        "\n",
        "\n",
        "import pandas as pd\n",
        "\n",
        "df = pd.read_csv(\"products0319.csv\", encoding=\"utf8\")\n",
        "\n",
        "df.columns = [\"type\", \"name\", \"price\"]\n",
        "ordinals = [\"A\", \"B\", \"C\", \"D\", \"E\", \"F\"]\n",
        "df.index = ordinals\n",
        "\n",
        "print(df.iloc[3], '\\n')       # 第 4 筆\n",
        "print(df.iloc[3:5, 1:3], '\\n')   # 切割\n",
        "print(df.iloc[1:3, :], '\\n')    # 切割列\n",
        "print(df.iloc[:, 1:3], '\\n')    # 切割欄\n",
        "\n",
        "df.iloc[3:5, 1:3].to_html(\"Ch12_3_1c_01.html\")\n",
        "df.iloc[1:3, :].to_html(\"Ch12_3_1c_02.html\")\n",
        "df.iloc[:, 1:3].to_html(\"Ch12_3_1c_03.html\")\n",
        "\n",
        "print(df.iloc[[1,2,4], [0,2]], '\\n')   # 索引清單\n",
        "df.iloc[[1,2,4], [0,2]].to_html(\"Ch12_3_1c_04.html\")\n",
        "# 取得單一純量值\n",
        "print(df.iloc[1,1], '\\n')\n",
        "print(df.iat[1,1])\n"
      ],
      "metadata": {
        "colab": {
          "base_uri": "https://localhost:8080/"
        },
        "id": "OA2VXlnuTA4K",
        "outputId": "96d007b8-3982-4858-a3af-5cb47cc19cbd"
      },
      "execution_count": null,
      "outputs": [
        {
          "output_type": "stream",
          "name": "stdout",
          "text": [
            "type        娛樂\n",
            "name       全聯超\n",
            "price    15.95\n",
            "Name: D, dtype: object \n",
            "\n",
            "  name  price\n",
            "D  全聯超  15.95\n",
            "E  大潤發  55.75 \n",
            "\n",
            "  type name  price\n",
            "B   居家  大潤發  23.50\n",
            "C   娛樂  家樂福  19.99 \n",
            "\n",
            "  name   price\n",
            "A  家樂福   11.42\n",
            "B  大潤發   23.50\n",
            "C  家樂福   19.99\n",
            "D  全聯超   15.95\n",
            "E  大潤發   55.75\n",
            "F  家樂福  111.55 \n",
            "\n",
            "  type  price\n",
            "B   居家  23.50\n",
            "C   娛樂  19.99\n",
            "E   科技  55.75 \n",
            "\n",
            "大潤發 \n",
            "\n",
            "大潤發\n"
          ]
        }
      ]
    },
    {
      "cell_type": "markdown",
      "source": [
        "## 使用布林索引和isin()函數過濾資料(Ch12_3_2.py)"
      ],
      "metadata": {
        "id": "4rqIvglBTIuf"
      }
    },
    {
      "cell_type": "code",
      "source": [
        "# 目的是使用布林索引和isin()函數篩選 DataFrame 中的資料，以及將篩選後的子集轉換為 HTML 格式並儲存的操作。\n",
        "\n",
        "# Line31 說明，df = pd.read_csv(\"products0319.csv\", encoding=\"utf8\")：\n",
        "# 使用 Pandas 的 read_csv() 函數從 \"products0319.csv\" CSV 檔案中讀取數據，並將其轉換為 DataFrame。\n",
        "# encoding=\"utf8\" 參數指定使用 UTF-8 編碼來讀取檔案，以支援包含中文等特殊字符的資料。\n",
        "\n",
        "# Line33 說明，df.columns = [\"type\", \"name\", \"price\"]：\n",
        "# 將 DataFrame df 中的列名更改為 \"type\"、\"name\" 和 \"price\"。\n",
        "\n",
        "# Line34 說明，ordinals = [\"A\", \"B\", \"C\", \"D\", \"E\", \"F\"]：\n",
        "# 建立一個包含字母 A 到 F 的列表，用作索引。\n",
        "\n",
        "# Line35 說明，df.index = ordinals：\n",
        "# 將 DataFrame df 的索引更改為剛剛建立的 ordinals 列表。\n",
        "\n",
        "# Line37 說明，print(df[df.price > 20], '\\n')：\n",
        "# 使用布林索引篩選出價格大於 20 的行。\\n 用於換行。\n",
        "\n",
        "# Line38 說明，df[df.price > 20].to_html(\"Ch12_3_2_01.html\")：\n",
        "# 將價格大於 20 的行的資料轉換為 HTML 格式並保存為 \"Ch12_3_2_01.html\" 文件。\n",
        "\n",
        "# Line40 說明，print(df[df[\"type\"].isin([\"科技\",\"居家\"])])：\n",
        "# 使用 .isin() 方法篩選出類型為 \"科技\" 或 \"居家\" 的行。\n",
        "\n",
        "# Line41 說明，df[df[\"type\"].isin([\"科技\",\"居家\"])].to_html(\"Ch12_3_2_02.html\")：\n",
        "# 將類型為 \"科技\" 或 \"居家\" 的行的資料轉換為 HTML 格式並儲存為 \"Ch12_3_2_02.html\" 文件。\n",
        "\n",
        "\n",
        "import pandas as pd\n",
        "\n",
        "df = pd.read_csv(\"products0319.csv\", encoding=\"utf8\")\n",
        "\n",
        "df.columns = [\"type\", \"name\", \"price\"]\n",
        "ordinals = [\"A\", \"B\", \"C\", \"D\", \"E\", \"F\"]\n",
        "df.index = ordinals\n",
        "\n",
        "print(df[df.price > 20], '\\n')\n",
        "df[df.price > 20].to_html(\"Ch12_3_2_01.html\")\n",
        "\n",
        "print(df[df[\"type\"].isin([\"科技\",\"居家\"])])\n",
        "df[df[\"type\"].isin([\"科技\",\"居家\"])].to_html(\"Ch12_3_2_02.html\")\n"
      ],
      "metadata": {
        "colab": {
          "base_uri": "https://localhost:8080/"
        },
        "id": "El3QURMYTKGt",
        "outputId": "c6e2e780-4369-458d-e6b4-48aa808a6180"
      },
      "execution_count": null,
      "outputs": [
        {
          "output_type": "stream",
          "name": "stdout",
          "text": [
            "  type name   price\n",
            "B   居家  大潤發   23.50\n",
            "E   科技  大潤發   55.75\n",
            "F   科技  家樂福  111.55 \n",
            "\n",
            "  type name   price\n",
            "A   居家  家樂福   11.42\n",
            "B   居家  大潤發   23.50\n",
            "E   科技  大潤發   55.75\n",
            "F   科技  家樂福  111.55\n"
          ]
        }
      ]
    },
    {
      "cell_type": "markdown",
      "source": [
        "## 使用多個條件和字串函數過濾資料(Ch12_3_2a.py)"
      ],
      "metadata": {
        "id": "VDqVZmkQTT1O"
      }
    },
    {
      "cell_type": "code",
      "source": [
        "# 目的是使用多個條件和字串函數篩選 DataFrame 中的資料，並將篩選後的子集轉換為 HTML 格式並儲存的操作。\n",
        "\n",
        "# Line34 說明，df = pd.read_csv(\"products0319.csv\", encoding=\"utf8\")：\n",
        "# 使用 Pandas 的 read_csv() 函數從 \"products0319.csv\" CSV 檔案中讀取數據，並將其轉換為 DataFrame。\n",
        "# encoding=\"utf8\" 參數指定使用 UTF-8 編碼來讀取檔案，以支援包含中文等特殊字符的資料。\n",
        "\n",
        "# Line36 說明，df.columns = [\"type\", \"name\", \"price\"]：\n",
        "# 將 DataFrame df 中的列名更改為 \"type\"、\"name\" 和 \"price\"。\n",
        "\n",
        "# Line37 說明，ordinals = [\"A\", \"B\", \"C\", \"D\", \"E\", \"F\"]：\n",
        "# 建立一個包含字母 A 到 F 的列表，用作索引。\n",
        "\n",
        "# Line38 說明，df.index = ordinals：\n",
        "# 將 DataFrame df 的索引更改為剛剛建立的 ordinals 列表。\n",
        "\n",
        "# Line40 說明，print(df[(df.price > 15) & (df.price < 25)], '\\n')：\n",
        "# 使用布林索引篩選出價格在 15 和 25 之間的行。\\n 用於換行。\n",
        "\n",
        "# Line41 說明，df[(df.price > 15) & (df.price < 25)].to_html(\"Ch12_3_2a_01.html\")：\n",
        "# 將價格在 15 和 25 之間的行的資料轉換為 HTML 格式並保存為 \"Ch12_3_2a_01.html\" 文件。\n",
        "\n",
        "# Line43 說明，df.loc[\"G\"] = [\"科學\", \"全聯超\", 28.5]：\n",
        "# 在 DataFrame 的末尾新增一行，索引為 \"G\"，數據為 [\"科學\", \"全聯超\", 28.5]。\n",
        "\n",
        "# Line44 說明，print(df[df[\"type\"].str.startswith(\"科\")])：\n",
        "# 使用 .str.startswith() 方法篩選出類型以 \"科\" 開頭的行。\n",
        "\n",
        "# Line45 說明，df[df[\"type\"].str.startswith(\"科\")].to_html(\"Ch12_3_2a_02.html\")：\n",
        "# 將類型以 \"科\" 開頭的行的資料轉換為 HTML 格式並儲存為 \"Ch12_3_2a_02.html\" 文件。\n",
        "\n",
        "\n",
        "import pandas as pd\n",
        "\n",
        "df = pd.read_csv(\"products0319.csv\", encoding=\"utf8\")\n",
        "\n",
        "df.columns = [\"type\", \"name\", \"price\"]\n",
        "ordinals = [\"A\", \"B\", \"C\", \"D\", \"E\", \"F\"]\n",
        "df.index = ordinals\n",
        "\n",
        "print(df[(df.price > 15) & (df.price < 25)], '\\n')\n",
        "df[(df.price > 15) & (df.price < 25)].to_html(\"Ch12_3_2a_01.html\")\n",
        "\n",
        "df.loc[\"G\"] = [\"科學\", \"全聯超\", 28.5]\n",
        "print(df[df[\"type\"].str.startswith(\"科\")])\n",
        "df[df[\"type\"].str.startswith(\"科\")].to_html(\"Ch12_3_2a_02.html\")\n"
      ],
      "metadata": {
        "colab": {
          "base_uri": "https://localhost:8080/"
        },
        "id": "6KvgHcJGTVin",
        "outputId": "e6563d97-1624-47b9-bb27-004ac31ab229"
      },
      "execution_count": null,
      "outputs": [
        {
          "output_type": "stream",
          "name": "stdout",
          "text": [
            "  type name  price\n",
            "B   居家  大潤發  23.50\n",
            "C   娛樂  家樂福  19.99\n",
            "D   娛樂  全聯超  15.95 \n",
            "\n",
            "  type name   price\n",
            "E   科技  大潤發   55.75\n",
            "F   科技  家樂福  111.55\n",
            "G   科學  全聯超   28.50\n"
          ]
        }
      ]
    },
    {
      "cell_type": "markdown",
      "source": [
        "## 指定索引欄位排序(Ch12_3_3.py)"
      ],
      "metadata": {
        "id": "-jGFpArnTghP"
      }
    },
    {
      "cell_type": "code",
      "source": [
        "# 目的是在 DataFrame 中設定不同的索引，然後根據這些索引進行排序並將結果儲存為 HTML 文件。\n",
        "\n",
        "# Line37 說明，df = pd.read_csv(\"products0319.csv\", encoding=\"utf8\")：\n",
        "# 使用 Pandas 的 read_csv() 函數從 \"products0319.csv\" CSV 檔案中讀取數據，並將其轉換為 DataFrame。\n",
        "# encoding=\"utf8\" 參數指定使用 UTF-8 編碼來讀取檔案，以支援包含中文等特殊字符的資料。\n",
        "\n",
        "# Line39 說明，df.columns = [\"type\", \"name\", \"price\"]：\n",
        "# 將 DataFrame df 中的列名更改為 \"type\"、\"name\" 和 \"price\"。\n",
        "\n",
        "# Line40 說明，ordinals = [\"A\", \"B\", \"C\", \"D\", \"E\", \"F\"]：\n",
        "# 建立一個包含字母 A 到 F 的列表，用作索引。\n",
        "\n",
        "# Line41 說明，df.index = ordinals：\n",
        "# 將 DataFrame df 的索引更改為剛剛建立的 ordinals 列表。\n",
        "\n",
        "# Line43 說明，df2 = df.set_index(\"price\")：\n",
        "# 使用 set_index() 方法將 \"price\" 列設定為索引，並將結果儲存在新的 DataFrame df2 中。\n",
        "\n",
        "# Line44 說明，print(df2, '\\n')：\n",
        "# 印出新的 DataFrame df2。\n",
        "\n",
        "# Line45 說明，df2.to_html(\"Ch12_3_3_01.html\")：\n",
        "# 將 DataFrame df2 中的數據轉換為 HTML 格式並儲存為 \"Ch12_3_3_01.html\" 文件。\n",
        "\n",
        "# Line47 說明，df2.sort_index(ascending=False, inplace=True)：\n",
        "# 根據索引對 DataFrame df2 進行排序，並將排序後的結果直接應用到原始 DataFrame。\n",
        "\n",
        "# Line48 說明，print(df2)：\n",
        "# 印出排序後的 DataFrame df2。\n",
        "\n",
        "# Line49 說明，df2.to_html(\"Ch12_3_3_02.html\")：\n",
        "# 將 DataFrame df2 中的數據轉換為 HTML 格式並儲存為 \"Ch12_3_3_02.html\" 文件。\n",
        "\n",
        "\n",
        "import pandas as pd\n",
        "\n",
        "df = pd.read_csv(\"products0319.csv\", encoding=\"utf8\")\n",
        "\n",
        "df.columns = [\"type\", \"name\", \"price\"]\n",
        "ordinals = [\"A\", \"B\", \"C\", \"D\", \"E\", \"F\"]\n",
        "df.index = ordinals\n",
        "\n",
        "df2 = df.set_index(\"price\")\n",
        "print(df2, '\\n')\n",
        "df2.to_html(\"Ch12_3_3_01.html\")\n",
        "\n",
        "df2.sort_index(ascending=False, inplace=True)\n",
        "print(df2)\n",
        "df2.to_html(\"Ch12_3_3_02.html\")\n"
      ],
      "metadata": {
        "colab": {
          "base_uri": "https://localhost:8080/"
        },
        "id": "VQaI3Y0iTlRG",
        "outputId": "ecce3dab-98c3-4f78-fbae-aeb982a9dfd7"
      },
      "execution_count": null,
      "outputs": [
        {
          "output_type": "stream",
          "name": "stdout",
          "text": [
            "       type name\n",
            "price           \n",
            "11.42    居家  家樂福\n",
            "23.50    居家  大潤發\n",
            "19.99    娛樂  家樂福\n",
            "15.95    娛樂  全聯超\n",
            "55.75    科技  大潤發\n",
            "111.55   科技  家樂福 \n",
            "\n",
            "       type name\n",
            "price           \n",
            "111.55   科技  家樂福\n",
            "55.75    科技  大潤發\n",
            "23.50    居家  大潤發\n",
            "19.99    娛樂  家樂福\n",
            "15.95    娛樂  全聯超\n",
            "11.42    居家  家樂福\n"
          ]
        }
      ]
    },
    {
      "cell_type": "markdown",
      "source": [
        "## 指定欄位值排序(Ch12_3_3apy)"
      ],
      "metadata": {
        "id": "hb9w0USFTo8a"
      }
    },
    {
      "cell_type": "code",
      "source": [
        "# 目的是讀取CSV檔案後，對DataFrame進行指定欄位值排序並將結果轉換為HTML文件。\n",
        "\n",
        "# Line37 說明，df = pd.read_csv(\"products0319.csv\", encoding=\"utf8\")：\n",
        "# 使用read_csv()函數從\"products0319.csv\"檔案中讀取資料，並將其轉換為DataFrame。\n",
        "# encoding=\"utf8\" 參數指定使用UTF-8編碼來讀取檔案，以支援包含中文等特殊字符的資料。\n",
        "\n",
        "# Line39 說明，df.columns = [\"type\", \"name\", \"price\"]：\n",
        "# 將DataFrame df 的列名更改為 \"type\"、\"name\" 和 \"price\"。\n",
        "\n",
        "# Line40 說明，ordinals = [\"A\", \"B\", \"C\", \"D\", \"E\", \"F\"]：\n",
        "# 建立一個包含字母 A 到 F 的列表，用作索引。\n",
        "\n",
        "# Line41 說明，df.index = ordinals：\n",
        "# 將DataFrame df 的索引更改為剛剛建立的 ordinals 列表。\n",
        "\n",
        "# Line43 說明，df2 = df.sort_values(\"price\", ascending=False)：\n",
        "# 根據 \"price\" 列的值對DataFrame df 進行降序排序，並將結果存儲在新的DataFrame df2 中。\n",
        "\n",
        "# Line44 說明，print(df2, '\\n')：\n",
        "# 印出排序後的DataFrame df2。\n",
        "\n",
        "# Line45 說明，df2.to_html(\"Ch12_3_3a_01.html\")：\n",
        "# 將DataFrame df2 中的資料轉換為HTML格式，並將其保存為 \"Ch12_3_3a_01.html\" 檔案。\n",
        "\n",
        "# Line47 說明，df.sort_values([\"type\",\"price\"], inplace=True)：\n",
        "# 根據 \"type\" 和 \"price\" 列的值對DataFrame df 進行排序，並將結果應用到原始DataFrame。\n",
        "\n",
        "# Line48 說明，print(df)：\n",
        "# 印出排序後的DataFrame df。\n",
        "\n",
        "# Line49 說明，df.to_html(\"Ch12_3_3a_02.html\")：\n",
        "# 將DataFrame df 中的資料轉換為HTML格式，並將其儲存為 \"Ch12_3_3a_02.html\" 檔案。\n",
        "\n",
        "\n",
        "import pandas as pd\n",
        "\n",
        "df = pd.read_csv(\"products0319.csv\", encoding=\"utf8\")\n",
        "\n",
        "df.columns = [\"type\", \"name\", \"price\"]\n",
        "ordinals = [\"A\", \"B\", \"C\", \"D\", \"E\", \"F\"]\n",
        "df.index = ordinals\n",
        "\n",
        "df2 = df.sort_values(\"price\", ascending=False)\n",
        "print(df2, '\\n')\n",
        "df2.to_html(\"Ch12_3_3a_01.html\")\n",
        "\n",
        "df.sort_values([\"type\",\"price\"], inplace=True)\n",
        "print(df)\n",
        "df.to_html(\"Ch12_3_3a_02.html\")\n"
      ],
      "metadata": {
        "colab": {
          "base_uri": "https://localhost:8080/"
        },
        "id": "T0uLnjn5TsTg",
        "outputId": "36c65b41-b576-44f5-ef4e-1c2f99ee9340"
      },
      "execution_count": null,
      "outputs": [
        {
          "output_type": "stream",
          "name": "stdout",
          "text": [
            "  type name   price\n",
            "F   科技  家樂福  111.55\n",
            "E   科技  大潤發   55.75\n",
            "B   居家  大潤發   23.50\n",
            "C   娛樂  家樂福   19.99\n",
            "D   娛樂  全聯超   15.95\n",
            "A   居家  家樂福   11.42 \n",
            "\n",
            "  type name   price\n",
            "D   娛樂  全聯超   15.95\n",
            "C   娛樂  家樂福   19.99\n",
            "A   居家  家樂福   11.42\n",
            "B   居家  大潤發   23.50\n",
            "E   科技  大潤發   55.75\n",
            "F   科技  家樂福  111.55\n"
          ]
        }
      ]
    },
    {
      "cell_type": "markdown",
      "source": [
        "# 12.4 合併與更新DataFrame物件"
      ],
      "metadata": {
        "id": "XJZ5grBXTwpo"
      }
    },
    {
      "cell_type": "markdown",
      "source": [
        "## 更新純量值(Ch12_4_1.py)"
      ],
      "metadata": {
        "id": "gb87q2YIT7Be"
      }
    },
    {
      "cell_type": "code",
      "source": [
        "# 目的是對DataFrame進行了一些基本的操作，包括讀取CSV檔案、更改列名和索引，以及取得和更新單一純量值。\n",
        "\n",
        "# Line40 說明，df = pd.read_csv(\"products0319.csv\", encoding=\"utf8\")：\n",
        "# 使用read_csv()函數從\"products0319.csv\"檔案中讀取資料，並將其轉換為DataFrame。\n",
        "# encoding=\"utf8\" 參數指定使用UTF-8編碼來讀取檔案，以支援包含中文等特殊字符的資料。\n",
        "\n",
        "# Line42 說明，df.columns = [\"type\", \"name\", \"price\"]：\n",
        "# 將DataFrame df 的列名更改為 \"type\"、\"name\" 和 \"price\"。\n",
        "\n",
        "# Line43 說明，ordinals = [\"A\", \"B\", \"C\", \"D\", \"E\", \"F\"]：\n",
        "# 建立一個包含字母 A 到 F 的列表，用作索引。\n",
        "\n",
        "# Line44 說明，df.index = ordinals：\n",
        "# 將DataFrame df 的索引更改為剛剛建立的 ordinals 列表。\n",
        "\n",
        "# Line46 說明，print(df.head(2))：\n",
        "# 印出DataFrame的前兩行資料。\n",
        "\n",
        "# Line48 說明，print(df.loc[ordinals[0], \"price\"], '\\n')：\n",
        "# 使用loc[]方法取得索引為 ordinals[0]（即 \"A\"）和列名為 \"price\" 的值。\n",
        "\n",
        "# Line49 說明，df.loc[ordinals[0], \"price\"] = 21.6：\n",
        "# 使用loc[]方法更新索引為 ordinals[0] 和列名為 \"price\" 的值為 21.6。\n",
        "\n",
        "# Line50 說明，print(df.iloc[1,2], '\\n')：\n",
        "# 使用iloc[]方法取得索引為 1 和列索引為 2（即 \"price\" 列）的值。\n",
        "\n",
        "# Line51 說明，df.iloc[1,2] = 46.3：\n",
        "# 使用iloc[]方法更新索引為 1 和列索引為 2 的值為 46.3。\n",
        "\n",
        "# Line52 說明，print(df.head(2))：\n",
        "# 再次打印DataFrame的前兩行資料，以確認更新後的值。\n",
        "\n",
        "# Line53 說明，df.head(2).to_html(\"Ch12_4_1.html\")：\n",
        "# 將DataFrame的前兩行資料轉換為HTML格式，並儲存為 \"Ch12_4_1.html\" 檔案。\n",
        "\n",
        "\n",
        "import pandas as pd\n",
        "\n",
        "df = pd.read_csv(\"products0319.csv\", encoding=\"utf8\")\n",
        "\n",
        "df.columns = [\"type\", \"name\", \"price\"]\n",
        "ordinals = [\"A\", \"B\", \"C\", \"D\", \"E\", \"F\"]\n",
        "df.index = ordinals\n",
        "\n",
        "print(df.head(2))\n",
        "# 取得與更新單一純量值\n",
        "print(df.loc[ordinals[0], \"price\"], '\\n')\n",
        "df.loc[ordinals[0], \"price\"] = 21.6\n",
        "print(df.iloc[1,2], '\\n')\n",
        "df.iloc[1,2] = 46.3\n",
        "print(df.head(2))\n",
        "df.head(2).to_html(\"Ch12_4_1.html\")\n"
      ],
      "metadata": {
        "colab": {
          "base_uri": "https://localhost:8080/"
        },
        "id": "bjLE5HI6T8N0",
        "outputId": "a42eb7dd-2fc4-433b-c6be-1c03fbd96c79"
      },
      "execution_count": null,
      "outputs": [
        {
          "output_type": "stream",
          "name": "stdout",
          "text": [
            "  type name  price\n",
            "A   居家  家樂福  11.42\n",
            "B   居家  大潤發  23.50\n",
            "11.42 \n",
            "\n",
            "23.5 \n",
            "\n",
            "  type name  price\n",
            "A   居家  家樂福   21.6\n",
            "B   居家  大潤發   46.3\n"
          ]
        }
      ]
    },
    {
      "cell_type": "markdown",
      "source": [
        "## 更新單筆紀錄(Ch12_4_1a.py)"
      ],
      "metadata": {
        "id": "X4VoyHjPUAg6"
      }
    },
    {
      "cell_type": "code",
      "source": [
        "# 目的是對DataFrame進行了一些操作，包括讀取CSV檔案、更改列名和索引，以及取得和更新單一筆記錄。\n",
        "\n",
        "# Line37 說明，df = pd.read_csv(\"products0319.csv\", encoding=\"utf8\")：\n",
        "# 使用read_csv()函數從\"products0319.csv\"檔案中讀取資料，並將其轉換為DataFrame。\n",
        "# encoding=\"utf8\" 參數指定使用UTF-8編碼來讀取檔案，以支援包含中文等特殊字符的資料。\n",
        "\n",
        "# Line39 說明，df.columns = [\"type\", \"name\", \"price\"]：\n",
        "# 將DataFrame df 的列名更改為 \"type\"、\"name\" 和 \"price\"。\n",
        "\n",
        "# Line40 說明，ordinals = [\"A\", \"B\", \"C\", \"D\", \"E\", \"F\"]：\n",
        "# 建立一個包含字母 A 到 F 的列表，用作索引。\n",
        "\n",
        "# Line41 說明，df.index = ordinals：\n",
        "# 將DataFrame df 的索引更改為剛剛建立的 ordinals 列表。\n",
        "\n",
        "# Line43 說明，print(df.head(3), '\\n')：\n",
        "# 印出DataFrame的前三行資料。\n",
        "\n",
        "# Line45 說明，print(df.loc[ordinals[1]], '\\n')：\n",
        "# 使用loc[]方法取得索引為 ordinals[1]（即 \"B\"）的整行資料。\n",
        "\n",
        "# Line46 說明，s = [\"居家\", \"家樂福\", 30.4]：\n",
        "# 建立一個包含新資料的列表s，用於更新DataFrame中的一行。\n",
        "\n",
        "# Line47 說明，df.loc[ordinals[1]] = s：\n",
        "# 使用loc[]方法將索引為 ordinals[1]（即 \"B\"）的整行資料更新為列表s中的值。\n",
        "\n",
        "# Line48 說明，print(df.head(3))：\n",
        "# 再次印出DataFrame的前三行資料，以確認更新後的結果。\n",
        "\n",
        "# Line49 說明，df.head(3).to_html(\"Ch12_4_1a.html\")：\n",
        "# 將DataFrame的前三行資料轉換為HTML格式，並儲存為 \"Ch12_4_1a.html\" 檔案。\n",
        "\n",
        "\n",
        "import pandas as pd\n",
        "\n",
        "df = pd.read_csv(\"products0319.csv\", encoding=\"utf8\")\n",
        "\n",
        "df.columns = [\"type\", \"name\", \"price\"]\n",
        "ordinals = [\"A\", \"B\", \"C\", \"D\", \"E\", \"F\"]\n",
        "df.index = ordinals\n",
        "\n",
        "print(df.head(3), '\\n')\n",
        "# 取得與更新單筆記錄\n",
        "print(df.loc[ordinals[1]], '\\n')\n",
        "s = [\"居家\", \"家樂福\", 30.4]\n",
        "df.loc[ordinals[1]] = s\n",
        "print(df.head(3))\n",
        "df.head(3).to_html(\"Ch12_4_1a.html\")\n"
      ],
      "metadata": {
        "colab": {
          "base_uri": "https://localhost:8080/"
        },
        "id": "hlxL_MKNUEFy",
        "outputId": "4d56d673-c330-4281-a8a8-c6a16a13648e"
      },
      "execution_count": null,
      "outputs": [
        {
          "output_type": "stream",
          "name": "stdout",
          "text": [
            "  type name  price\n",
            "A   居家  家樂福  11.42\n",
            "B   居家  大潤發  23.50\n",
            "C   娛樂  家樂福  19.99 \n",
            "\n",
            "type       居家\n",
            "name      大潤發\n",
            "price    23.5\n",
            "Name: B, dtype: object \n",
            "\n",
            "  type name  price\n",
            "A   居家  家樂福  11.42\n",
            "B   居家  家樂福  30.40\n",
            "C   娛樂  家樂福  19.99\n"
          ]
        }
      ]
    },
    {
      "cell_type": "markdown",
      "source": [
        "## 更新整個欄位值(Ch12_4_1b.py)"
      ],
      "metadata": {
        "id": "dEz3kdCMUIu1"
      }
    },
    {
      "cell_type": "code",
      "source": [
        "# 目的是對DataFrame進行了一些操作，包括更改列名和索引，以及取得和更新整個欄位的值。\n",
        "\n",
        "# Line32 說明，df.columns = [\"type\", \"name\", \"price\"]：\n",
        "# 將DataFrame df 的列名更改為 \"type\"、\"name\" 和 \"price\"。\n",
        "\n",
        "# Line33 說明，ordinals = [\"A\", \"B\", \"C\", \"D\", \"E\", \"F\"]：\n",
        "# 建立一個包含字母 A 到 F 的列表，用作索引。\n",
        "\n",
        "# Line34 說明，df.index = ordinals：\n",
        "# 將DataFrame df 的索引更改為剛剛建立的 ordinals 列表。\n",
        "\n",
        "# Line36 說明，print(df, '\\n')：\n",
        "# 印出DataFrame的所有資料，並換行。\n",
        "\n",
        "# Line38 說明，print(df.loc[:, \"price\"], '\\n')：\n",
        "# 使用loc[]方法取得 \"price\" 欄位的所有資料。\n",
        "\n",
        "# Line39 說明，df.loc[:, \"price\"] = [23.4, 56.7, 12.1, 90.5, 11.2, 34.1]：\n",
        "# 使用loc[]方法將 \"price\" 欄位的所有值更新為新的列表。\n",
        "\n",
        "# Line40 說明，print(df.head())：\n",
        "# 印出DataFrame的前五行資料，以確認更新後的結果。\n",
        "\n",
        "# Line41 說明，df.head().to_html(\"Ch12_4_1b.html\")：\n",
        "# 將DataFrame的前五行資料轉換為HTML格式，並儲存為 \"Ch12_4_1b.html\" 檔案。\n",
        "\n",
        "\n",
        "import pandas as pd\n",
        "\n",
        "df = pd.read_csv(\"products0319.csv\", encoding=\"utf8\")\n",
        "\n",
        "df.columns = [\"type\", \"name\", \"price\"]\n",
        "ordinals = [\"A\", \"B\", \"C\", \"D\", \"E\", \"F\"]\n",
        "df.index = ordinals\n",
        "\n",
        "print(df, '\\n')\n",
        "# 取得與更新整個欄位\n",
        "print(df.loc[:, \"price\"], '\\n')\n",
        "df.loc[:, \"price\"] = [23.4, 56.7, 12.1, 90.5, 11.2, 34.1]\n",
        "print(df.head(6))\n",
        "df.head().to_html(\"Ch12_4_1b.html\")\n"
      ],
      "metadata": {
        "colab": {
          "base_uri": "https://localhost:8080/"
        },
        "id": "KVcuivBjUMVt",
        "outputId": "e9f1d863-19a5-4467-dc60-a67ed268acad"
      },
      "execution_count": null,
      "outputs": [
        {
          "output_type": "stream",
          "name": "stdout",
          "text": [
            "  type name   price\n",
            "A   居家  家樂福   11.42\n",
            "B   居家  大潤發   23.50\n",
            "C   娛樂  家樂福   19.99\n",
            "D   娛樂  全聯超   15.95\n",
            "E   科技  大潤發   55.75\n",
            "F   科技  家樂福  111.55 \n",
            "\n",
            "A     11.42\n",
            "B     23.50\n",
            "C     19.99\n",
            "D     15.95\n",
            "E     55.75\n",
            "F    111.55\n",
            "Name: price, dtype: float64 \n",
            "\n",
            "  type name  price\n",
            "A   居家  家樂福   23.4\n",
            "B   居家  大潤發   56.7\n",
            "C   娛樂  家樂福   12.1\n",
            "D   娛樂  全聯超   90.5\n",
            "E   科技  大潤發   11.2\n",
            "F   科技  家樂福   34.1\n"
          ]
        }
      ]
    },
    {
      "cell_type": "markdown",
      "source": [
        "## 更新整個DataFrame物件(Ch12_4_1c.py)"
      ],
      "metadata": {
        "id": "E20oJWnDUQI_"
      }
    },
    {
      "cell_type": "code",
      "source": [
        "# 目的是建立一個包含隨機數值的DataFrame，然後對其進行更新整個DataFrame物件的操作。\n",
        "\n",
        "# Line34 說明，import pandas as pd：\n",
        "# 匯入 pandas 模組並將其別名設定為 pd。\n",
        "\n",
        "# Line35 說明，import random：\n",
        "# 匯入 random 模組，用於生成隨機數字。\n",
        "\n",
        "# Line37-38 說明，df = pd.DataFrame([random.sample(range(0,1000), 3), random.sample(range(0,1000), 3)])：\n",
        "# 建立一個 DataFrame，其中包含兩行三列的數據，這些數據是從 0 到 999 的範圍內隨機選取的三個數字。\n",
        "\n",
        "# Line39 說明，print(df, '\\n')：\n",
        "# 印出 DataFrame 的內容，並換行。\n",
        "\n",
        "# Line40 說明，df.to_html(\"Ch12_4_1c_01.html\")：\n",
        "# 將 DataFrame 轉換為 HTML 格式並儲存到 \"Ch12_4_1c_01.html\" 文件中。\n",
        "\n",
        "# Line42 說明，print(df[df > 500], '\\n')：\n",
        "# 印出 DataFrame 中大於 500 的數據，並換行。\n",
        "\n",
        "# Line43 說明，df[df > 500].to_html(\"Ch12_4_1c_02.html\")：\n",
        "# 將 DataFrame 中大於 500 的數據轉換為 HTML 格式並儲存到 \"Ch12_4_1c_02.html\" 文件中。\n",
        "\n",
        "# Line44 說明，df[df > 500] = df - 100：\n",
        "# 將 DataFrame 中大於 500 的數據減去 100。\n",
        "\n",
        "# Line45 說明，print(df)：\n",
        "# 印出更新後的 DataFrame。\n",
        "\n",
        "# Line46 說明，df.to_html(\"Ch12_4_1c_03.html\")：\n",
        "# 將更新後的 DataFrame 轉換為 HTML 格式並儲存到 \"Ch12_4_1c_03.html\" 文件中。\n",
        "\n",
        "\n",
        "import pandas as pd\n",
        "import random\n",
        "\n",
        "df = pd.DataFrame([random.sample(range(0,1000), 3),\n",
        "           random.sample(range(0,1000), 3)])\n",
        "print(df, '\\n')\n",
        "df.to_html(\"Ch12_4_1c_01.html\")\n",
        "# 取得與更新整個DataFrame\n",
        "print(df[df > 500], '\\n')\n",
        "df[df > 500].to_html(\"Ch12_4_1c_02.html\")\n",
        "df[df > 500] = df - 100\n",
        "print(df)\n",
        "df.to_html(\"Ch12_4_1c_03.html\")\n"
      ],
      "metadata": {
        "colab": {
          "base_uri": "https://localhost:8080/"
        },
        "id": "F7Enyd3AUT-l",
        "outputId": "a51cda9f-89fc-4089-da13-2c7e13a1641a"
      },
      "execution_count": null,
      "outputs": [
        {
          "output_type": "stream",
          "name": "stdout",
          "text": [
            "     0    1    2\n",
            "0  842  878  430\n",
            "1  251  102  422 \n",
            "\n",
            "       0      1   2\n",
            "0  842.0  878.0 NaN\n",
            "1    NaN    NaN NaN \n",
            "\n",
            "     0    1    2\n",
            "0  742  778  430\n",
            "1  251  102  422\n"
          ]
        }
      ]
    },
    {
      "cell_type": "markdown",
      "source": [
        "## 刪除純量值(Ch12_4_2.py)"
      ],
      "metadata": {
        "id": "NgBgmfUkUgzs"
      }
    },
    {
      "cell_type": "code",
      "source": [
        "# 目的是讀取 \"products0319.csv\" 的 CSV 檔案，然後對其進行了一些操作，包括更改欄位名稱、設置索引，以及刪除特定數據。\n",
        "\n",
        "# Line39 說明，df = pd.read_csv(\"products0319.csv\", encoding=\"utf8\")：\n",
        "# 讀取 \"products0319.csv\" 的 CSV 檔案，並使用 UTF-8 編碼解碼。\n",
        "\n",
        "# Line41 說明，df.columns = [\"type\", \"name\", \"price\"]：\n",
        "# 將 DataFrame 的列名更改為 [\"type\", \"name\", \"price\"]。\n",
        "\n",
        "# Line42 說明，ordinals = [\"A\", \"B\", \"C\", \"D\", \"E\", \"F\"]：\n",
        "# 建立一個名為 ordinals 的列表，包含字母 A 到 F。\n",
        "\n",
        "# Line43 說明，df.index = ordinals：\n",
        "# 將 DataFrame 的索引設定為 ordinals 列表。\n",
        "\n",
        "# Line45 說明，print(df.head(3))：\n",
        "# 印出 DataFrame 的前三行，即資料頭部的前三條數據。\n",
        "\n",
        "# Line47 說明，print(df.loc[ordinals[0], \"price\"], '\\n')：\n",
        "# 印出 DataFrame 中索引為 ordinals[0]、列為 \"price\" 的數據，並換行。\n",
        "\n",
        "# Line48 說明，df.loc[ordinals[0], \"price\"] = None：\n",
        "# 將 DataFrame 中索引為 ordinals[0]、列為 \"price\" 的數據設定為 None。\n",
        "\n",
        "# Line49 說明，print(df.iloc[1,2], '\\n')：\n",
        "# 印出 DataFrame 中第二行、第三列的數據，並換行。\n",
        "\n",
        "# Line50 說明，df.iloc[1,2] = None：\n",
        "# 將 DataFrame 中第二行、第三列的數據設定為 None。\n",
        "\n",
        "# Line51 說明，print(df.head(3))：\n",
        "# 再次印出 DataFrame 的前三行，以檢查更改後的結果。\n",
        "\n",
        "# Line52 說明，df.head(3).to_html(\"Ch12_4_2.html\")：\n",
        "# 將 DataFrame 的前三行轉換為 HTML 格式並儲存到 \"Ch12_4_2.html\" 文件中。\n",
        "\n",
        "\n",
        "import pandas as pd\n",
        "\n",
        "df = pd.read_csv(\"products0319.csv\", encoding=\"utf8\")\n",
        "\n",
        "df.columns = [\"type\", \"name\", \"price\"]\n",
        "ordinals = [\"A\", \"B\", \"C\", \"D\", \"E\", \"F\"]\n",
        "df.index = ordinals\n",
        "\n",
        "print(df.head(3))\n",
        "# 刪除純量值\n",
        "print(df.loc[ordinals[0], \"price\"], '\\n')\n",
        "df.loc[ordinals[0], \"price\"] = None\n",
        "print(df.iloc[1,2], '\\n')\n",
        "df.iloc[1,2] = None\n",
        "print(df.head(3))\n",
        "df.head(3).to_html(\"Ch12_4_2.html\")\n"
      ],
      "metadata": {
        "colab": {
          "base_uri": "https://localhost:8080/"
        },
        "id": "37MZBaSaUkJk",
        "outputId": "781af7ea-430a-4dc8-effe-0f3abcdbb1ea"
      },
      "execution_count": null,
      "outputs": [
        {
          "output_type": "stream",
          "name": "stdout",
          "text": [
            "  type name  price\n",
            "A   居家  家樂福  11.42\n",
            "B   居家  大潤發  23.50\n",
            "C   娛樂  家樂福  19.99\n",
            "11.42 \n",
            "\n",
            "23.5 \n",
            "\n",
            "  type name  price\n",
            "A   居家  家樂福    NaN\n",
            "B   居家  大潤發    NaN\n",
            "C   娛樂  家樂福  19.99\n"
          ]
        }
      ]
    },
    {
      "cell_type": "markdown",
      "source": [
        "## 刪除紀錄(Ch12_4_2a~2b.py)"
      ],
      "metadata": {
        "id": "_X-IXJ9yUpP8"
      }
    },
    {
      "cell_type": "code",
      "source": [
        "# 目的是讀取 \"products0319.csv\" 的 CSV 檔案，然後對其進行了一些操作，包括更改欄位名稱、設定索引，以及刪除特定的記錄。\n",
        "\n",
        "# Line39 說明，df = pd.read_csv(\"products0319.csv\", encoding=\"utf8\")：\n",
        "# 讀取 \"products0319.csv\" 的 CSV 檔案，並使用 UTF-8 編碼解碼。\n",
        "\n",
        "# Line41 說明，df.columns = [\"type\", \"name\", \"price\"]：\n",
        "# 將 DataFrame 的列名更改為 [\"type\", \"name\", \"price\"]。\n",
        "\n",
        "# Line42 說明，ordinals = [\"A\", \"B\", \"C\", \"D\", \"E\", \"F\"]：\n",
        "# 建一個名為 ordinals 的列表，包含字母 A 到 F。\n",
        "\n",
        "# Line43 說明，df.index = ordinals：\n",
        "# 將 DataFrame 的索引設置為 ordinals 列表。\n",
        "\n",
        "# Line45 說明，print(df.head(), '\\n')：\n",
        "# 印出 DataFrame 的前五行，並換行。\n",
        "\n",
        "# Line47 說明，df2 = df.drop([\"B\", \"D\"])：\n",
        "# 建立一個新的 DataFrame，將索引為 \"B\" 和 \"D\" 的記錄從原始 DataFrame 中刪除。\n",
        "\n",
        "# Line48 說明，print(df2.head(), '\\n')：\n",
        "# 印出新的 DataFrame 的前五行，並換行。\n",
        "\n",
        "# Line49 說明，df2.head().to_html(\"Ch12_4_2a_01.html\")：\n",
        "# 將新的 DataFrame 的前五行轉換為 HTML 格式並儲存到 \"Ch12_4_2a_01.html\" 文件中。\n",
        "\n",
        "# Line50 說明，df.drop(df.index[[2,3]], inplace=True)：\n",
        "# 從原始 DataFrame 中刪除索引為 2 和 3 的記錄。\n",
        "\n",
        "# Line51 說明，print(df.head())：\n",
        "# 再次印出 DataFrame 的前五行，以檢查更改後的結果。\n",
        "\n",
        "# Line52 說明，df.head().to_html(\"Ch12_4_2a_02.html\")：\n",
        "# 將修改後的 DataFrame 的前五行轉換為 HTML 格式並儲存到 \"Ch12_4_2a_02.html\" 文件中。\n",
        "\n",
        "\n",
        "import pandas as pd\n",
        "\n",
        "df = pd.read_csv(\"products0319.csv\", encoding=\"utf8\")\n",
        "\n",
        "df.columns = [\"type\", \"name\", \"price\"]\n",
        "ordinals = [\"A\", \"B\", \"C\", \"D\", \"E\", \"F\"]\n",
        "df.index = ordinals\n",
        "\n",
        "print(df.head(), '\\n')\n",
        "# 刪除記錄\n",
        "df2 = df.drop([\"B\", \"D\"])    # 2,4 筆\n",
        "print(df2.head(), '\\n')\n",
        "df2.head().to_html(\"Ch12_4_2a_01.html\")\n",
        "df.drop(df.index[[2,3]], inplace=True) # 3,4 筆\n",
        "print(df.head())\n",
        "df.head().to_html(\"Ch12_4_2a_02.html\")\n"
      ],
      "metadata": {
        "colab": {
          "base_uri": "https://localhost:8080/"
        },
        "id": "ktxvG0ipUt3j",
        "outputId": "7bcbc9dc-302d-491a-e6b6-49cc831cb7d6"
      },
      "execution_count": null,
      "outputs": [
        {
          "output_type": "stream",
          "name": "stdout",
          "text": [
            "  type name  price\n",
            "A   居家  家樂福  11.42\n",
            "B   居家  大潤發  23.50\n",
            "C   娛樂  家樂福  19.99\n",
            "D   娛樂  全聯超  15.95\n",
            "E   科技  大潤發  55.75 \n",
            "\n",
            "  type name   price\n",
            "A   居家  家樂福   11.42\n",
            "C   娛樂  家樂福   19.99\n",
            "E   科技  大潤發   55.75\n",
            "F   科技  家樂福  111.55 \n",
            "\n",
            "  type name   price\n",
            "A   居家  家樂福   11.42\n",
            "B   居家  大潤發   23.50\n",
            "E   科技  大潤發   55.75\n",
            "F   科技  家樂福  111.55\n"
          ]
        }
      ]
    },
    {
      "cell_type": "code",
      "source": [
        "# # Line17 說明，從DataFrame中刪除了名為\"price\"的欄位，並將結果指派給df2的新DataFrame。\n",
        "# 這是使用drop方法實現的，drop方法允許您從DataFrame中刪除指定的行或列。\n",
        "# 在這個例子中，我們通過指定axis=1來指示要刪除的是列，而不是行。\n",
        "# 因為axis=1表示列，所以\"price\"將被視為列名而不是索引，並從DataFrame中刪除。\n",
        "\n",
        "\n",
        "import pandas as pd\n",
        "\n",
        "df = pd.read_csv(\"products0319.csv\", encoding=\"utf8\")\n",
        "\n",
        "df.columns = [\"type\", \"name\", \"price\"]\n",
        "ordinals = [\"A\", \"B\", \"C\", \"D\", \"E\", \"F\"]\n",
        "df.index = ordinals\n",
        "\n",
        "print(df.head(3), '\\n')\n",
        "# 刪除欄位\n",
        "df2 = df.drop([\"price\"], axis=1)\n",
        "print(df2.head(3))\n",
        "df2.head(3).to_html(\"Ch12_4_2b.html\")\n"
      ],
      "metadata": {
        "colab": {
          "base_uri": "https://localhost:8080/"
        },
        "id": "p9En8s-SVQaV",
        "outputId": "0f41da50-c12b-45a6-e776-fa0c54a57575"
      },
      "execution_count": null,
      "outputs": [
        {
          "output_type": "stream",
          "name": "stdout",
          "text": [
            "  type name  price\n",
            "A   居家  家樂福  11.42\n",
            "B   居家  大潤發  23.50\n",
            "C   娛樂  家樂福  19.99 \n",
            "\n",
            "  type name\n",
            "A   居家  家樂福\n",
            "B   居家  大潤發\n",
            "C   娛樂  家樂福\n"
          ]
        }
      ]
    },
    {
      "cell_type": "markdown",
      "source": [
        "## 新增紀錄(Ch12_4_3.py)"
      ],
      "metadata": {
        "id": "wqLBhNgXUx4C"
      }
    },
    {
      "cell_type": "code",
      "source": [
        "import pandas as pd\n",
        "\n",
        "# 讀取CSV檔案並設定欄位名稱和索引標籤\n",
        "df = pd.read_csv(\"products0319.csv\", encoding=\"utf8\")\n",
        "df.columns = [\"type\", \"name\", \"price\"]\n",
        "ordinals = [\"A\", \"B\", \"C\", \"D\", \"E\", \"F\"]\n",
        "df.index = ordinals\n",
        "\n",
        "# 印出DataFrame的後三行資料\n",
        "print(df.tail(3), '\\n')\n",
        "\n",
        "# 新增一筆資料到DataFrame\n",
        "new_row = pd.Series({\"type\": \"科學\", \"name\": \"全聯超\", \"price\": 28.5}, name=\"G\")\n",
        "df = pd.concat([df, new_row.to_frame().T])\n",
        "\n",
        "# 再次印出DataFrame的後三行資料\n",
        "print(df.tail(3), '\\n')\n",
        "\n",
        "# 將DataFrame的後三行資料寫入HTML檔案中\n",
        "df.tail(3).to_html(\"Ch12_4_3_01.html\")\n",
        "\n",
        "# 建立一個包含新記錄資料的DataFrame\n",
        "new_record = pd.DataFrame({\"type\": [\"科學\"], \"name\": [\"大潤發\"], \"price\": [79.2]})\n",
        "\n",
        "# 將新記錄DataFrame與原始DataFrame進行串接，並忽略索引標籤\n",
        "df = pd.concat([df, new_record], ignore_index=True)\n",
        "\n",
        "# 印出DataFrame的後三行資料\n",
        "print(df.tail(3))\n",
        "\n",
        "# 將DataFrame的後三行資料寫入HTML檔案中\n",
        "df.tail(3).to_html(\"Ch12_4_3_02.html\")\n"
      ],
      "metadata": {
        "colab": {
          "base_uri": "https://localhost:8080/"
        },
        "id": "Bt-Vok4TJQD_",
        "outputId": "3f0304ca-b452-454b-caa8-8a5827c34cb0"
      },
      "execution_count": null,
      "outputs": [
        {
          "output_type": "stream",
          "name": "stdout",
          "text": [
            "  type name   price\n",
            "D   娛樂  全聯超   15.95\n",
            "E   科技  大潤發   55.75\n",
            "F   科技  家樂福  111.55 \n",
            "\n",
            "  type name   price\n",
            "E   科技  大潤發   55.75\n",
            "F   科技  家樂福  111.55\n",
            "G   科學  全聯超    28.5 \n",
            "\n",
            "  type name   price\n",
            "5   科技  家樂福  111.55\n",
            "6   科學  全聯超    28.5\n",
            "7   科學  大潤發    79.2\n"
          ]
        }
      ]
    },
    {
      "cell_type": "markdown",
      "source": [
        "## 新增欄位(Ch12_4_3a.py)"
      ],
      "metadata": {
        "id": "Cu7XpC8lVd8R"
      }
    },
    {
      "cell_type": "code",
      "source": [
        "# 目的是讀取一個CSV檔案，然後對DataFrame進行資料操作，包括添加新的欄位和修改現有的欄位。\n",
        "\n",
        "\n",
        "import pandas as pd\n",
        "\n",
        "# 使用pd.read_csv()讀取CSV檔案，並設定編碼為\"utf8\"。\n",
        "df = pd.read_csv(\"products0319.csv\", encoding=\"utf8\")\n",
        "\n",
        "# 將欄位名稱修改為\"type\"、\"name\"和\"price\"。\n",
        "df.columns = [\"type\", \"name\", \"price\"]\n",
        "\n",
        "# 建立一個名為\"ordinals\"的列表，包含字母\"A\"到\"F\"，並將其設定為DataFrame的索引。\n",
        "ordinals = [\"A\", \"B\", \"C\", \"D\", \"E\", \"F\"]\n",
        "df.index = ordinals\n",
        "\n",
        "# 建立一個名為\"sales\"的新欄位，其中包含一系列銷售數據。\n",
        "df[\"sales\"] = [124.5,227.5,156.7,435.6,333.7,259.8]\n",
        "\n",
        "# 印出DataFrame的前五行資料，並將其寫入HTML檔案\"Ch12_4_3a_01.html\"中。\n",
        "print(df.head(), '\\n')\n",
        "df.head().to_html(\"Ch12_4_3a_01.html\")\n",
        "\n",
        "# 將一個名為\"city\"的新欄位加入到DataFrame中，其中包含一系列城市名稱。\n",
        "df.loc[:,\"city\"] = [\"台北\",\"新竹\",\"台北\",\"台中\",\"新北\",\"高雄\"]\n",
        "\n",
        "# 再次印出DataFrame的前五行資料，並將其寫入HTML檔案\"Ch12_4_3a_02.html\"中。\n",
        "print(df.head())\n",
        "df.head().to_html(\"Ch12_4_3a_02.html\")\n"
      ],
      "metadata": {
        "colab": {
          "base_uri": "https://localhost:8080/"
        },
        "id": "c1ycP1hEVo24",
        "outputId": "900898a1-8090-4a5b-e283-b118c7884a7c"
      },
      "execution_count": null,
      "outputs": [
        {
          "output_type": "stream",
          "name": "stdout",
          "text": [
            "  type name  price  sales\n",
            "A   居家  家樂福  11.42  124.5\n",
            "B   居家  大潤發  23.50  227.5\n",
            "C   娛樂  家樂福  19.99  156.7\n",
            "D   娛樂  全聯超  15.95  435.6\n",
            "E   科技  大潤發  55.75  333.7 \n",
            "\n",
            "  type name  price  sales city\n",
            "A   居家  家樂福  11.42  124.5   台北\n",
            "B   居家  大潤發  23.50  227.5   新竹\n",
            "C   娛樂  家樂福  19.99  156.7   台北\n",
            "D   娛樂  全聯超  15.95  435.6   台中\n",
            "E   科技  大潤發  55.75  333.7   新北\n"
          ]
        }
      ]
    },
    {
      "cell_type": "markdown",
      "source": [
        "## 建立空的和複製DataFrame物件(Ch12_4_4.py)"
      ],
      "metadata": {
        "id": "XXxjIG1RV8R7"
      }
    },
    {
      "cell_type": "code",
      "source": [
        "# 目的是讀取一個CSV檔案，然後建立空的DataFrame以及如何從現有的DataFrame中進行複製。\n",
        "\n",
        "\n",
        "import pandas as pd\n",
        "\n",
        "# 使用pd.read_csv()讀取CSV檔案，並設定編碼為\"utf8\"。\n",
        "df = pd.read_csv(\"products0319.csv\", encoding=\"utf8\")\n",
        "\n",
        "# 將欄位名稱修改為\"type\"、\"name\"和\"price\"。\n",
        "df.columns = [\"type\", \"name\", \"price\"]\n",
        "\n",
        "# 建立一個名為\"ordinals\"的列表，包含字母\"A\"到\"F\"，並將其設定為DataFrame的索引。\n",
        "ordinals = [\"A\", \"B\", \"C\", \"D\", \"E\", \"F\"]\n",
        "df.index = ordinals\n",
        "\n",
        "#建立一個名為\"columns\"的列表，包含\"type\"、\"name\"和\"price\"。\n",
        "columns = [\"type\", \"name\", \"price\"]\n",
        "\n",
        "# 使用空值(None)、索引為\"ordinals\"、欄位為\"columns\"建立一個空的DataFrame物件\"df_empty\"。\n",
        "df_empty = pd.DataFrame(None, index=ordinals, columns=columns)\n",
        "\n",
        "# 印出空的DataFrame物件\"df_empty\"。\n",
        "print(df_empty, '\\n')\n",
        "\n",
        "# 使用df.copy()複製原始的DataFrame物件\"df\"，並將結果儲存在新的DataFrame物件\"df_copy\"中。\n",
        "df_copy = df.copy()\n",
        "\n",
        "# 印出新的DataFrame物件\"df_copy\"。\n",
        "print(df_copy)\n"
      ],
      "metadata": {
        "colab": {
          "base_uri": "https://localhost:8080/"
        },
        "id": "eT5iKblcWBuA",
        "outputId": "6cf3edac-1902-45e0-fbc4-ebfac388b3af"
      },
      "execution_count": null,
      "outputs": [
        {
          "output_type": "stream",
          "name": "stdout",
          "text": [
            "  type name price\n",
            "A  NaN  NaN   NaN\n",
            "B  NaN  NaN   NaN\n",
            "C  NaN  NaN   NaN\n",
            "D  NaN  NaN   NaN\n",
            "E  NaN  NaN   NaN\n",
            "F  NaN  NaN   NaN \n",
            "\n",
            "  type name   price\n",
            "A   居家  家樂福   11.42\n",
            "B   居家  大潤發   23.50\n",
            "C   娛樂  家樂福   19.99\n",
            "D   娛樂  全聯超   15.95\n",
            "E   科技  大潤發   55.75\n",
            "F   科技  家樂福  111.55\n"
          ]
        }
      ]
    },
    {
      "cell_type": "markdown",
      "source": [
        "## 連接多個DataFrame物件(Ch12_4_4a.py)"
      ],
      "metadata": {
        "id": "8LVITxWKWH6V"
      }
    },
    {
      "cell_type": "code",
      "source": [
        "# 目的是使用`pd.concat()`將兩個DataFrame物件連接串起來，並將結果儲存到HTML和CSV檔案。\n",
        "\n",
        "\n",
        "import pandas as pd\n",
        "\n",
        "# 使用`pd.read_csv()`讀取名為\"products0319.csv\"的CSV檔案，並設定編碼為\"utf8\"。\n",
        "df = pd.read_csv(\"products0319.csv\", encoding=\"utf8\")\n",
        "\n",
        "# 將欄位名稱修改為\"type\"、\"name\"和\"price\"。\n",
        "columns = [\"type\", \"name\", \"price\"]\n",
        "\n",
        "# 將索引設定為字母\"A\"到\"F\"。\n",
        "df.index = [\"A\", \"B\", \"C\", \"D\", \"E\", \"F\"]\n",
        "\n",
        "# 將DataFrame物件\"df\"的欄位名稱修改為columns中指定的名稱。\n",
        "# 在這個程式中，columns是一個包含三個字串的列表，分別代表DataFrame的三個欄位名稱，即\"type\"、\"name\"和\"price\"。\n",
        "# 這行程式碼的作用是將DataFrame物件\"df\"的欄位名稱設定為這三個名稱，以便後續的操作能夠正確地參照欄位。\n",
        "df.columns = columns\n",
        "\n",
        "# 使用`pd.read_csv()`讀取名為\"products2.csv\"的CSV檔案，並設定編碼為\"utf8\"。\n",
        "df2 = pd.read_csv(\"products2.csv\", encoding=\"utf8\")\n",
        "\n",
        "# 將索引設定為字母\"A\"到\"C\"。\n",
        "df2.index = [\"A\", \"B\", \"C\"]\n",
        "\n",
        "# 如同Line15-17 說明，將df2的欄位名稱修改為\"type\"、\"name\"和\"price\"。\n",
        "df2.columns = columns\n",
        "\n",
        "# 印出DataFrame物件\"df\"和\"df2\"。\n",
        "print(df, '\\n')\n",
        "print(df2, '\\n')\n",
        "\n",
        "# 將DataFrame物件\"df\"和\"df2\"轉換為HTML格式並儲存為\"Ch12_4_4a_01.html\"和\"Ch12_4_4a_02.html\"。\n",
        "df.to_html(\"Ch12_4_4a_01.html\")\n",
        "df2.to_html(\"Ch12_4_4a_02.html\")\n",
        "\n",
        "# 使用`pd.concat()`將\"df\"和\"df2\"連接串成一個新的DataFrame物件\"df3\"，並印出。\n",
        "df3 = pd.concat([df,df2])\n",
        "print(df3, '\\n')\n",
        "\n",
        "# 將DataFrame物件\"df3\"轉換為HTML格式並儲存為\"Ch12_4_4a_03.html\"。\n",
        "df3.to_html(\"Ch12_4_4a_03.html\")\n",
        "\n",
        "# 使用`pd.concat()`將\"df\"和\"df2\"串聯成一個新的DataFrame物件\"df4\"，並忽略索引，印出。\n",
        "df4 = pd.concat([df,df2], ignore_index=True)\n",
        "print(df4)\n",
        "\n",
        "# 將DataFrame物件\"df4\"轉換為HTML格式並保存為\"Ch12_4_4a_04.html\"。\n",
        "df4.to_html(\"Ch12_4_4a_04.html\")\n",
        "\n",
        "# 將DataFrame物件\"df4\"儲存為\"products3.csv\"檔案。\n",
        "df4.to_csv(\"products3.csv\")\n"
      ],
      "metadata": {
        "colab": {
          "base_uri": "https://localhost:8080/"
        },
        "id": "kFVR57VgWLic",
        "outputId": "83e3de21-112a-41d9-972f-aa5dfe26ba73"
      },
      "execution_count": null,
      "outputs": [
        {
          "output_type": "stream",
          "name": "stdout",
          "text": [
            "  type name   price\n",
            "A   居家  家樂福   11.42\n",
            "B   居家  大潤發   23.50\n",
            "C   娛樂  家樂福   19.99\n",
            "D   娛樂  全聯超   15.95\n",
            "E   科技  大潤發   55.75\n",
            "F   科技  家樂福  111.55 \n",
            "\n",
            "  type name  price\n",
            "A   居家  家樂福  14.20\n",
            "B   娛樂  家樂福  99.90\n",
            "C   科技  全聯超  66.25 \n",
            "\n",
            "  type name   price\n",
            "A   居家  家樂福   11.42\n",
            "B   居家  大潤發   23.50\n",
            "C   娛樂  家樂福   19.99\n",
            "D   娛樂  全聯超   15.95\n",
            "E   科技  大潤發   55.75\n",
            "F   科技  家樂福  111.55\n",
            "A   居家  家樂福   14.20\n",
            "B   娛樂  家樂福   99.90\n",
            "C   科技  全聯超   66.25 \n",
            "\n",
            "  type name   price\n",
            "0   居家  家樂福   11.42\n",
            "1   居家  大潤發   23.50\n",
            "2   娛樂  家樂福   19.99\n",
            "3   娛樂  全聯超   15.95\n",
            "4   科技  大潤發   55.75\n",
            "5   科技  家樂福  111.55\n",
            "6   居家  家樂福   14.20\n",
            "7   娛樂  家樂福   99.90\n",
            "8   科技  全聯超   66.25\n"
          ]
        }
      ]
    },
    {
      "cell_type": "markdown",
      "source": [
        "## 合併2個DataFrame物件(Ch12_4_4b.py)"
      ],
      "metadata": {
        "id": "Anbob1G3Zn1-"
      }
    },
    {
      "cell_type": "code",
      "source": [
        "# 目的是先讀取了兩個CSV檔案，分別是\"products0319.csv\"和\"types.csv\"，然後對它們進行了不同的操作，包括合併2個DataFrame物件。\n",
        "\n",
        "\n",
        "import pandas as pd\n",
        "\n",
        "# 使用`pd.read_csv()`讀取\"products0319.csv\"的CSV檔案，設定編碼為\"utf8\"並將其讀取為DataFrame物件\"df\"。\n",
        "df = pd.read_csv(\"products0319.csv\", encoding=\"utf8\")\n",
        "\n",
        "# 將DataFrame物件\"df\"的索引設定為一個包含六個字串的列表，分別為\"A\"到\"F\"。\n",
        "df.index = [\"A\", \"B\", \"C\", \"D\", \"E\", \"F\"]\n",
        "\n",
        "# 將DataFrame物件\"df\"的欄位名稱修改為\"type\"、\"name\"和\"price\"。\n",
        "df.columns = [\"type\", \"name\", \"price\"]\n",
        "\n",
        "# 讀取\"types.csv\"的CSV檔案，設定編碼為\"utf8\"並將其讀取為DataFrame物件\"df2\"。\n",
        "df2 = pd.read_csv(\"types.csv\", encoding=\"utf8\")\n",
        "\n",
        "# 將DataFrame物件\"df2\"的索引設定為一個包含四個字串的列表，分別為\"A\"到\"D\"。\n",
        "df2.index = [\"A\",\"B\",\"C\",\"D\"]\n",
        "\n",
        "# 將DataFrame物件\"df2\"的欄位名稱修改為\"type\"和\"num\"。\n",
        "df2.columns = [\"type\", \"num\"]\n",
        "\n",
        "# 印出DataFrame物件\"df\"和\"df2\"。\n",
        "print(df, '\\n')\n",
        "print(df2, '\\n')\n",
        "\n",
        "# 將DataFrame物件\"df\"和\"df2\"轉換為HTML格式並儲存為\"Ch12_4_4b_01.html\"和\"Ch12_4_4b_02.html\"。\n",
        "df.to_html(\"Ch12_4_4b_01.html\")\n",
        "df2.to_html(\"Ch12_4_4b_02.html\")\n",
        "\n",
        "# 將DataFrame物件\"df\"和\"df2\"按照它們共有的\"type\"欄位進行內部合併，生成新的DataFrame物件\"df3\"。\n",
        "df3 = pd.merge(df, df2)\n",
        "\n",
        "# 印出DataFrame物件\"df3\"，並將df3轉換為HTML格式並儲存為\"Ch12_4_4b_03.html\"。\n",
        "print(df3, '\\n')\n",
        "df3.to_html(\"Ch12_4_4b_03.html\")\n",
        "\n",
        "# 將DataFrame物件\"df2\"和\"df\"按照它們共有的\"type\"欄位進行內部合併，生成新的DataFrame物件\"df4\"。\n",
        "df4 = pd.merge(df2, df)\n",
        "\n",
        "# 印出DataFrame物件\"df4\"，並將df3轉換為HTML格式並儲存為\"Ch12_4_4b_04.html\"。\n",
        "print(df4, '\\n')\n",
        "df4.to_html(\"Ch12_4_4b_04.html\")\n",
        "\n",
        "# 將DataFrame物件\"df2\"和\"df\"按照它們共有的\"type\"欄位進行左外部合併，生成新的DataFrame物件\"df5\"。\n",
        "# 左外部合併的作用是保留左邊（即\"df2\"）的所有索引值，並將與\"df2\"中\"type\"欄位匹配的資料從\"df\"中合併過來，\n",
        "# 如果在\"df\"中找不到匹配的資料，則將該部分填入NaN（缺失值）。\n",
        "# 這種合併方式對於保留左邊DataFrame的所有資料並且將右邊DataFrame中匹配的部分合併過來是很有用的。\n",
        "# 所以，左外部合併保留\"df2\"的所有索引值，並將與\"df2\"中\"type\"欄位匹配的資料從\"df\"中合併過來，沒有匹配的部分填入NaN。\n",
        "df5 = pd.merge(df2, df, how='left')\n",
        "\n",
        "# 印出DataFrame物件\"df5\"，並將df3轉換為HTML格式並儲存為\"Ch12_4_4b_05.html\"。\n",
        "print(df5)\n",
        "df5.to_html(\"Ch12_4_4b_05.html\")\n"
      ],
      "metadata": {
        "colab": {
          "base_uri": "https://localhost:8080/"
        },
        "id": "eBBSmO8ZZsL6",
        "outputId": "758693b9-2bf2-4348-d23f-952dafa30188"
      },
      "execution_count": null,
      "outputs": [
        {
          "output_type": "stream",
          "name": "stdout",
          "text": [
            "  type name   price\n",
            "A   居家  家樂福   11.42\n",
            "B   居家  大潤發   23.50\n",
            "C   娛樂  家樂福   19.99\n",
            "D   娛樂  全聯超   15.95\n",
            "E   科技  大潤發   55.75\n",
            "F   科技  家樂福  111.55 \n",
            "\n",
            "  type  num\n",
            "A   居家   25\n",
            "B   娛樂   75\n",
            "C   科技   15\n",
            "D   科學   10 \n",
            "\n",
            "  type name   price  num\n",
            "0   居家  家樂福   11.42   25\n",
            "1   居家  大潤發   23.50   25\n",
            "2   娛樂  家樂福   19.99   75\n",
            "3   娛樂  全聯超   15.95   75\n",
            "4   科技  大潤發   55.75   15\n",
            "5   科技  家樂福  111.55   15 \n",
            "\n",
            "  type  num name   price\n",
            "0   居家   25  家樂福   11.42\n",
            "1   居家   25  大潤發   23.50\n",
            "2   娛樂   75  家樂福   19.99\n",
            "3   娛樂   75  全聯超   15.95\n",
            "4   科技   15  大潤發   55.75\n",
            "5   科技   15  家樂福  111.55 \n",
            "\n",
            "  type  num name   price\n",
            "0   居家   25  家樂福   11.42\n",
            "1   居家   25  大潤發   23.50\n",
            "2   娛樂   75  家樂福   19.99\n",
            "3   娛樂   75  全聯超   15.95\n",
            "4   科技   15  大潤發   55.75\n",
            "5   科技   15  家樂福  111.55\n",
            "6   科學   10  NaN     NaN\n"
          ]
        }
      ]
    },
    {
      "cell_type": "markdown",
      "source": [
        "# 12.5 群組、樞紐分析與套用函數"
      ],
      "metadata": {
        "id": "cuIfYu1kbA_k"
      }
    },
    {
      "cell_type": "markdown",
      "source": [
        "## 使用群組來計算加總和平均(Ch12_5_1.py)"
      ],
      "metadata": {
        "id": "xZ-BF3o7bJEX"
      }
    },
    {
      "cell_type": "code",
      "source": [
        "# 目的是用來讀取\"products3.csv\"的CSV檔案，並使用群組來計算加總和平均，最後將結果輸出到HTML檔案。\n",
        "\n",
        "\n",
        "# 導入pandas模組，並使用`pd`作為別名。\n",
        "import pandas as pd\n",
        "\n",
        "# 使用`pd.read_csv()`函數讀取名為\"products3.csv\"的CSV檔案，設定編碼為\"utf8\"並將其儲存在DataFrame物件`df`中。\n",
        "df = pd.read_csv(\"products3.csv\", encoding=\"utf8\")\n",
        "\n",
        "# 將DataFrame df的索引設定為指定的索引列表。\n",
        "df.index = [\"A\",\"B\",\"C\",\"D\",\"E\",\"F\",\"G\",\"H\",\"I\"]\n",
        "\n",
        "# 將DataFrame df的列標籤設定為指定的標籤列表。\n",
        "df.columns = [\"\", \"type\", \"name\", \"price\"]\n",
        "\n",
        "# 輸出整個DataFrame df的內容，並換行。\n",
        "print(df, '\\n')\n",
        "\n",
        "# 將DataFrame df的內容轉換成HTML格式，並儲存到名為\"Ch12_5_1_01.html\"的HTML檔案中。\n",
        "df.to_html(\"Ch12_5_1_01.html\")\n",
        "\n",
        "# 對DataFrame df按照\"type\"列進行分組，並計算每組的總和。在這裡，明確指定\"numeric_only=False\"，以避免FutureWarning。\n",
        "print(df.groupby(\"type\").sum(numeric_only=False), '\\n')\n",
        "\n",
        "# 對DataFrame df按照\"type\"列分組後的總和結果轉換成HTML格式，並儲存到名為\"Ch12_5_1_02.html\"的HTML檔案中。\n",
        "df.groupby(\"type\").sum(numeric_only=False).to_html(\"Ch12_5_1_02.html\")\n",
        "\n",
        "# 對DataFrame df按照\"type\"和\"name\"兩列進行分組，並計算每個分組的平均值。\n",
        "print(df.groupby([\"type\",\"name\"]).mean())\n",
        "\n",
        "# 對DataFrame df按照\"type\"和\"name\"兩列分組後的平均值結果轉換成HTML格式，並儲存到名為\"Ch12_5_1_03.html\"的HTML檔案中。\n",
        "df.groupby([\"type\",\"name\"]).mean().to_html(\"Ch12_5_1_03.html\")\n"
      ],
      "metadata": {
        "colab": {
          "base_uri": "https://localhost:8080/"
        },
        "id": "4TBqJ2J3abz3",
        "outputId": "edd178af-eb54-4204-d0df-60f33eb9ed33"
      },
      "execution_count": null,
      "outputs": [
        {
          "output_type": "stream",
          "name": "stdout",
          "text": [
            "     type name   price\n",
            "A  0   居家  家樂福   11.42\n",
            "B  1   居家  大潤發   23.50\n",
            "C  2   娛樂  家樂福   19.99\n",
            "D  3   娛樂  全聯超   15.95\n",
            "E  4   科技  大潤發   55.75\n",
            "F  5   科技  家樂福  111.55\n",
            "G  6   居家  家樂福   14.20\n",
            "H  7   娛樂  家樂福   99.90\n",
            "I  8   科技  全聯超   66.25 \n",
            "\n",
            "               name   price\n",
            "type                       \n",
            "娛樂    12  家樂福全聯超家樂福  135.84\n",
            "居家     7  家樂福大潤發家樂福   49.12\n",
            "科技    17  大潤發家樂福全聯超  233.55 \n",
            "\n",
            "                  price\n",
            "type name              \n",
            "娛樂   全聯超   3.0   15.950\n",
            "     家樂福   4.5   59.945\n",
            "居家   大潤發   1.0   23.500\n",
            "     家樂福   3.0   12.810\n",
            "科技   全聯超   8.0   66.250\n",
            "     大潤發   4.0   55.750\n",
            "     家樂福   5.0  111.550\n"
          ]
        }
      ]
    },
    {
      "cell_type": "markdown",
      "source": [
        "## 將DataFrame物件建立成樞紐分析表(Ch12_5_2.py)"
      ],
      "metadata": {
        "id": "gMtRq_mZcK4H"
      }
    },
    {
      "cell_type": "code",
      "source": [
        "# 目的是將一個DataFrame根據type和name進行樞紐分析，並將price作為值。\n",
        "# 樞紐表的每一行代表一個唯一的type，每一列代表一個唯一的name，樞紐表的值是對應type和name的price的平均值\n",
        "\n",
        "\n",
        "# 導入pandas模組，使用pd作為別名。\n",
        "import pandas as pd\n",
        "\n",
        "# 使用pd.read_csv()函數讀取\"products0319.csv\"的CSV檔案，並指定編碼為\"utf8\"。\n",
        "df = pd.read_csv(\"products0319.csv\", encoding=\"utf8\")\n",
        "\n",
        "# 更改列名和索引：將DataFrame df的列名更改為[\"type\", \"name\", \"price\"]，並將索引設定為ordinals列表中的值。\n",
        "df.columns = [\"type\", \"name\", \"price\"]\n",
        "ordinals = [\"A\", \"B\", \"C\", \"D\", \"E\", \"F\"]\n",
        "df.index = ordinals\n",
        "\n",
        "# 建立樞紐表：使用pivot_table()函數根據\"type\"和\"name\"列來建立樞紐表，並將\"price\"列的值作為樞紐表的值並印出。\n",
        "pivot_products = df.pivot_table(index='type', columns='name', values='price')\n",
        "print(pivot_products)\n",
        "\n",
        "# 輸出結果：將建立的樞紐表保存為HTML檔案\"Ch12_5_2.html\"。\n",
        "pivot_products.to_html(\"Ch12_5_2.html\")\n"
      ],
      "metadata": {
        "colab": {
          "base_uri": "https://localhost:8080/"
        },
        "id": "pS77OF-scOqo",
        "outputId": "f3f7f5ef-28c8-4471-c806-9430d6fd681a"
      },
      "execution_count": null,
      "outputs": [
        {
          "output_type": "stream",
          "name": "stdout",
          "text": [
            "name    全聯超    大潤發     家樂福\n",
            "type                      \n",
            "娛樂    15.95    NaN   19.99\n",
            "居家      NaN  23.50   11.42\n",
            "科技      NaN  55.75  111.55\n"
          ]
        }
      ]
    },
    {
      "cell_type": "markdown",
      "source": [
        "## 套用函數(Ch12_5_3~3a.py)"
      ],
      "metadata": {
        "id": "2cK3ezGYdLg9"
      }
    },
    {
      "cell_type": "code",
      "source": [
        "# 目的是定義並應用函數，將DataFrame中\"price\"列的每個元素都乘以2。\n",
        "\n",
        "\n",
        "# 導入pandas模組，使用pd作為別名。\n",
        "import pandas as pd\n",
        "\n",
        "# 使用pd.read_csv()函數讀取名為\"products0319.csv\"的CSV檔案，並指定編碼為\"utf8\"。\n",
        "df = pd.read_csv(\"products0319.csv\", encoding=\"utf8\")\n",
        "\n",
        "# 更改列名和索引：將DataFrame的列名更改為[\"type\", \"name\", \"price\"]，並將索引設置為ordinals列表中的值。\n",
        "df.columns = [\"type\", \"name\", \"price\"]\n",
        "ordinals = [\"A\", \"B\", \"C\", \"D\", \"E\", \"F\"]\n",
        "df.index = ordinals\n",
        "print(df, '\\n')\n",
        "\n",
        "# 定義函數：定義一個名為double的函數，該函數將輸入的值乘以2。\n",
        "def double(x):\n",
        "    return x*2\n",
        "\n",
        "# 應用函數：使用apply()函數將double函數應用於\"price\"列的每個元素，並將結果存儲在df2中。\n",
        "df2 = df[\"price\"].apply(double)\n",
        "\n",
        "# 輸出結果：印出df2，顯示\"price\"列的每個元素乘以2的結果。\n",
        "print(df2)\n"
      ],
      "metadata": {
        "colab": {
          "base_uri": "https://localhost:8080/"
        },
        "id": "SwAZF8iUdSGc",
        "outputId": "8c2f005f-c94f-4acd-b96c-8982534a09e1"
      },
      "execution_count": null,
      "outputs": [
        {
          "output_type": "stream",
          "name": "stdout",
          "text": [
            "  type name   price\n",
            "A   居家  家樂福   11.42\n",
            "B   居家  大潤發   23.50\n",
            "C   娛樂  家樂福   19.99\n",
            "D   娛樂  全聯超   15.95\n",
            "E   科技  大潤發   55.75\n",
            "F   科技  家樂福  111.55 \n",
            "\n",
            "A     22.84\n",
            "B     47.00\n",
            "C     39.98\n",
            "D     31.90\n",
            "E    111.50\n",
            "F    223.10\n",
            "Name: price, dtype: float64\n"
          ]
        }
      ]
    },
    {
      "cell_type": "code",
      "source": [
        "# 目的是定義並應用函數，將DataFrame中\"price\"列的每個元素都乘以2。\n",
        "\n",
        "\n",
        "# 導入pandas模組，使用pd作為別名。\n",
        "import pandas as pd\n",
        "\n",
        "# 使用pd.read_csv()函數讀取名為\"products0319.csv\"的CSV檔案，並指定編碼為\"utf8\"。\n",
        "df = pd.read_csv(\"products0319.csv\", encoding=\"utf8\")\n",
        "\n",
        "# 更改列名和索引：將DataFrame的列名更改為[\"type\", \"name\", \"price\"]，並將索引設置為ordinals列表中的值。\n",
        "df.columns = [\"type\", \"name\", \"price\"]\n",
        "ordinals = [\"A\", \"B\", \"C\", \"D\", \"E\", \"F\"]\n",
        "df.index = ordinals\n",
        "\n",
        "# 使用了lambda函數來定義轉換過程。\n",
        "# df[\"price\"]：選擇DataFrame中的\"price\"列。\n",
        "# apply()函數：將lambda函數應用於\"price\"列的每個元素。\n",
        "# lambda函數：使用lambda表達式定義一個匿名函數，將每個元素乘以2。\n",
        "# 結果存儲：將乘以2的結果存儲在df2中。\n",
        "df2 = df[\"price\"].apply(lambda x: x*2)\n",
        "\n",
        "# 輸出結果：印出df2，顯示\"price\"列的每個元素乘以2的結果\n",
        "print(df2)"
      ],
      "metadata": {
        "colab": {
          "base_uri": "https://localhost:8080/"
        },
        "id": "zKTZ7QN_doFw",
        "outputId": "e8d21dd8-9404-4e28-8232-e8fd78e8af6c"
      },
      "execution_count": null,
      "outputs": [
        {
          "output_type": "stream",
          "name": "stdout",
          "text": [
            "A     22.84\n",
            "B     47.00\n",
            "C     39.98\n",
            "D     31.90\n",
            "E    111.50\n",
            "F    223.10\n",
            "Name: price, dtype: float64\n"
          ]
        }
      ]
    },
    {
      "cell_type": "markdown",
      "source": [
        "## Pandas套件的describe()函數(Ch12_5_4.py)"
      ],
      "metadata": {
        "id": "j2K0lMCtdbwQ"
      }
    },
    {
      "cell_type": "code",
      "source": [
        "# 目的是使用Pandas套件的describe()函數，計算並顯示DataFrame中\"price\"列的統計摘要資訊。\n",
        "\n",
        "\n",
        "import pandas as pd\n",
        "\n",
        "# 使用Pandas的read_csv函數從\"products3.csv\"的文件中讀取數據，並將其儲存在DataFrame df中。\n",
        "df = pd.read_csv(\"products3.csv\", encoding=\"utf8\")\n",
        "\n",
        "# 將DataFrame df的索引設定為指定的標籤列表。\n",
        "df.index = [\"A\",\"B\",\"C\",\"D\",\"E\",\"F\",\"G\",\"H\",\"I\"]\n",
        "\n",
        "# 將DataFrame df的列標籤設定為指定的標籤列表，分別為空字符串（用於索引列）、\"type\"、\"name\"和\"price\"。\n",
        "df.columns = [\"\", \"type\", \"name\", \"price\"]\n",
        "\n",
        "# 選擇DataFrame df中的\"price\"列，然後調用describe()方法計算該列的統計摘要資訊並印出，\n",
        "# 包括總計、平均值、標準差、最小值、25th百分位數、中位數、75th百分位數和最大值。\n",
        "print(df[\"price\"].describe())\n"
      ],
      "metadata": {
        "colab": {
          "base_uri": "https://localhost:8080/"
        },
        "id": "3X84NqmCdfiT",
        "outputId": "acaa46ed-be3b-4dd2-a127-5d7a29d5d10c"
      },
      "execution_count": null,
      "outputs": [
        {
          "output_type": "stream",
          "name": "stdout",
          "text": [
            "count      9.000000\n",
            "mean      46.501111\n",
            "std       38.726068\n",
            "min       11.420000\n",
            "25%       15.950000\n",
            "50%       23.500000\n",
            "75%       66.250000\n",
            "max      111.550000\n",
            "Name: price, dtype: float64\n"
          ]
        }
      ]
    },
    {
      "cell_type": "markdown",
      "source": [
        "## Pandas套件的統計函數(Ch12_5_4a.py)"
      ],
      "metadata": {
        "id": "JedR_fqPeISC"
      }
    },
    {
      "cell_type": "code",
      "source": [
        "# 目的是使用Pandas套件的describe()函數，計算並顯示DataFrame中\"price\"列的統計摘要資訊。\n",
        "\n",
        "\n",
        "import pandas as pd\n",
        "\n",
        "# 使用Pandas的read_csv函數從\"products3.csv\"的文件中讀取數據，並將其儲存在DataFrame df中。\n",
        "df = pd.read_csv(\"products3.csv\", encoding=\"utf8\")\n",
        "\n",
        "# 將DataFrame的索引設定為指定的標籤列表。\n",
        "df.index = [\"A\",\"B\",\"C\",\"D\",\"E\",\"F\",\"G\",\"H\",\"I\"]\n",
        "\n",
        "# 將DataFrame的列標籤設定為指定的標籤列表，分別為空字符串（用於索引列）、\"type\"、\"name\"和\"price\"。\n",
        "df.columns = [\"\", \"type\", \"name\", \"price\"]\n",
        "\n",
        "print(\"總和: \", df[\"price\"].sum())          # 計算\"price\"列的總和並印出。\n",
        "print(\"平均: \", df[\"price\"].mean())          # 計算\"price\"列的平均值並印出。\n",
        "print(\"最大: \", df[\"price\"].max())          # 找到\"price\"列的最大值並印出。\n",
        "print(\"最小: \", df[\"price\"].min())          # 找到\"price\"列的最小值並印出。\n",
        "print(\"計數: \", df[\"price\"].count())         # 計算\"price\"列的非空值的數量並印出。\n",
        "print(\"標準差: \", df[\"price\"].std())         # 計算\"price\"列的標準差並印出。\n",
        "print(\"變異數: \", df[\"price\"].var())         # 計算\"price\"列的方差(變異數)。\n",
        "print(\"25%: \", df[\"price\"].quantile(q=0.25))     # 計算\"price\"列的25th百分位數並印出。\n",
        "print(\"50%: \", df[\"price\"].quantile(q=0.5))      # 計算\"price\"列的中位數並印出\n",
        "print(\"75%: \", df[\"price\"].quantile(q=0.75))     # 計算\"price\"列的75th百分位數並印出。\n"
      ],
      "metadata": {
        "colab": {
          "base_uri": "https://localhost:8080/"
        },
        "id": "d5f-otEyeKxg",
        "outputId": "56b9b514-3b8d-4590-f554-39cb7e819dd7"
      },
      "execution_count": null,
      "outputs": [
        {
          "output_type": "stream",
          "name": "stdout",
          "text": [
            "總和:  418.51000000000005\n",
            "平均:  46.501111111111115\n",
            "最大:  111.55\n",
            "最小:  11.42\n",
            "計數:  9\n",
            "標準差:  38.72606759162504\n",
            "變異數:  1499.708311111111\n",
            "25%:  15.95\n",
            "50%:  23.5\n",
            "75%:  66.25\n"
          ]
        }
      ]
    },
    {
      "cell_type": "markdown",
      "source": [
        "# 12.6 Pandas資料清理與轉換"
      ],
      "metadata": {
        "id": "_iqCGYbKeVQD"
      }
    },
    {
      "cell_type": "markdown",
      "source": [
        "## 顯示遺漏值的資訊(Ch12_6_1~1a.py)"
      ],
      "metadata": {
        "id": "7b7ldLeyeZUY"
      }
    },
    {
      "cell_type": "code",
      "source": [
        "# 目的是讀取了一個CSV文件中的數據並將其儲存在DataFrame中，然後將DataFrame的內容印出到控制台並導出為HTML文件。\n",
        "\n",
        "\n",
        "import pandas as pd\n",
        "\n",
        "# 使用Pandas的read_csv函數從\"missing_data.csv\"的文件中讀取數據，並將讀取的數據儲存在DataFrame df中。\n",
        "df = pd.read_csv(\"missing_data.csv\")\n",
        "\n",
        "# 印出DataFrame df物件\n",
        "print(df)\n",
        "\n",
        "# 將DataFrame df的內容導出為HTML文件，文件名為\"Ch12_6_1.html\"。\n",
        "# 這將建立一個HTML表格，其中包含DataFrame df的內容，方便在網頁上查看。\n",
        "df.to_html(\"Ch12_6_1.html\")\n"
      ],
      "metadata": {
        "colab": {
          "base_uri": "https://localhost:8080/"
        },
        "id": "aYzvPc8WecpJ",
        "outputId": "705307e6-6ee1-4f66-c80c-7b6d10f1a876"
      },
      "execution_count": null,
      "outputs": [
        {
          "output_type": "stream",
          "name": "stdout",
          "text": [
            "   COL_A  COL_B  COL_C  COL_D\n",
            "0    0.5    0.9    0.4    NaN\n",
            "1    0.8    0.6    NaN    NaN\n",
            "2    0.7    0.3    0.8    0.9\n",
            "3    0.8    0.3    NaN    0.2\n",
            "4    0.9    NaN    0.7    0.3\n",
            "5    0.2    0.7    0.6    NaN\n",
            "6    NaN    NaN    NaN    NaN\n"
          ]
        }
      ]
    },
    {
      "cell_type": "code",
      "source": [
        "# 目的是使用info() 函數提供有關 DataFrame 的詳細資訊摘要。\n",
        "\n",
        "\n",
        "import pandas as pd\n",
        "\n",
        "# 使用Pandas的read_csv函數從\"missing_data.csv\"的文件中讀取數據，並將讀取的數據儲存在DataFrame df中。\n",
        "df = pd.read_csv(\"missing_data.csv\")\n",
        "\n",
        "# 印出DataFrame df物件並斷行\n",
        "print(df, '\\n')\n",
        "\n",
        "# df.info() 函數提供 DataFrame 的索引範圍（行數），從0到最後一行的編號。\n",
        "# 列數，即 DataFrame 中的變量數量。\n",
        "# 每個列的名稱和數據類型。\n",
        "# 每個列中的非空值數量。\n",
        "# 每個列的記憶體使用量。\n",
        "# 這個函數非常有用，因為它可以幫助你快速了解 DataFrame 中有多少行、列，以及每個列中有多少非空值。\n",
        "# 這對於數據的清理、準備和分析是很重要的。\n",
        "df.info()\n"
      ],
      "metadata": {
        "colab": {
          "base_uri": "https://localhost:8080/"
        },
        "id": "Sm6Mbzqxf9U7",
        "outputId": "f6278e3e-3629-4c73-b897-02495dcab6df"
      },
      "execution_count": null,
      "outputs": [
        {
          "output_type": "stream",
          "name": "stdout",
          "text": [
            "   COL_A  COL_B  COL_C  COL_D\n",
            "0    0.5    0.9    0.4    NaN\n",
            "1    0.8    0.6    NaN    NaN\n",
            "2    0.7    0.3    0.8    0.9\n",
            "3    0.8    0.3    NaN    0.2\n",
            "4    0.9    NaN    0.7    0.3\n",
            "5    0.2    0.7    0.6    NaN\n",
            "6    NaN    NaN    NaN    NaN \n",
            "\n",
            "<class 'pandas.core.frame.DataFrame'>\n",
            "RangeIndex: 7 entries, 0 to 6\n",
            "Data columns (total 4 columns):\n",
            " #   Column  Non-Null Count  Dtype  \n",
            "---  ------  --------------  -----  \n",
            " 0   COL_A   6 non-null      float64\n",
            " 1   COL_B   5 non-null      float64\n",
            " 2   COL_C   4 non-null      float64\n",
            " 3   COL_D   3 non-null      float64\n",
            "dtypes: float64(4)\n",
            "memory usage: 352.0 bytes\n"
          ]
        }
      ]
    },
    {
      "cell_type": "markdown",
      "source": [
        "## 刪除NaN的記錄(Ch12_6_1b.py)"
      ],
      "metadata": {
        "id": "Lp56q2fVfk76"
      }
    },
    {
      "cell_type": "code",
      "source": [
        "# 目的是從 \"missing_data.csv\" 的 CSV 檔案中讀取了一個 DataFrame，然後使用 dropna() 函數刪除了包含缺失值（NaN）的記錄。\n",
        "\n",
        "\n",
        "import pandas as pd\n",
        "\n",
        "# 使用Pandas的read_csv函數從\"missing_data.csv\"的文件中讀取數據，並將讀取的數據儲存在DataFrame df中。\n",
        "df = pd.read_csv(\"missing_data.csv\")\n",
        "\n",
        "# 這將刪除包含任何 NaN 值的記錄，並返回一個新的 DataFrame df1物件，其中缺失值的記錄已經被移除。\n",
        "df1 = df.dropna()\n",
        "\n",
        "# 印出DataFrame df1物件並斷行，將DataFrame df1的內容導出為HTML文件，文件名為\"Ch12_6_1b_01.html\"。\n",
        "print(df1, '\\n')\n",
        "df1.to_html(\"Ch12_6_1b_01.html\")\n",
        "\n",
        "# 這與Line 10第一個操作相同，只是通過 how 參數顯示指定 any，這只是默認行為，所以結果是相同的。\n",
        "df2 = df.dropna(how=\"any\")\n",
        "\n",
        "# 印出DataFrame df2物件並斷行，將DataFrame df2的內容導出為HTML文件，文件名為\"Ch12_6_1b_02.html\"。\n",
        "print(df2, '\\n')\n",
        "df2.to_html(\"Ch12_6_1b_02.html\")\n",
        "\n",
        "# 這是指僅僅刪除所有值都是 NaN 的記錄。換句話說，如果一行中的所有值都是 NaN，則該行將被刪除。\n",
        "df3 = df.dropna(how=\"all\")\n",
        "\n",
        "# 印出DataFrame df3物件並斷行，將DataFrame df3的內容導出為HTML文件，文件名為\"Ch12_6_1b_03.html\"。\n",
        "print(df3, '\\n')\n",
        "df3.to_html(\"Ch12_6_1b_03.html\")\n",
        "\n",
        "# 這是指僅僅刪除在指定的列中（這裡是 \"COL_B\" 和 \"COL_C\"）具有 NaN 值的那些記錄。\n",
        "df4 = df.dropna(subset=[\"COL_B\", \"COL_C\"])\n",
        "\n",
        "# 印出DataFrame df4物件並斷行，將DataFrame df4的內容導出為HTML文件，文件名為\"Ch12_6_1b_04.html\"。\n",
        "print(df4)\n",
        "df4.to_html(\"Ch12_6_1b_04.html\")\n"
      ],
      "metadata": {
        "colab": {
          "base_uri": "https://localhost:8080/"
        },
        "id": "L_lQx_UgfrXQ",
        "outputId": "0555fb94-5cf8-4c85-d1b0-baaf55874dc9"
      },
      "execution_count": null,
      "outputs": [
        {
          "output_type": "stream",
          "name": "stdout",
          "text": [
            "   COL_A  COL_B  COL_C  COL_D\n",
            "2    0.7    0.3    0.8    0.9 \n",
            "\n",
            "   COL_A  COL_B  COL_C  COL_D\n",
            "2    0.7    0.3    0.8    0.9 \n",
            "\n",
            "   COL_A  COL_B  COL_C  COL_D\n",
            "0    0.5    0.9    0.4    NaN\n",
            "1    0.8    0.6    NaN    NaN\n",
            "2    0.7    0.3    0.8    0.9\n",
            "3    0.8    0.3    NaN    0.2\n",
            "4    0.9    NaN    0.7    0.3\n",
            "5    0.2    0.7    0.6    NaN \n",
            "\n",
            "   COL_A  COL_B  COL_C  COL_D\n",
            "0    0.5    0.9    0.4    NaN\n",
            "2    0.7    0.3    0.8    0.9\n",
            "5    0.2    0.7    0.6    NaN\n"
          ]
        }
      ]
    },
    {
      "cell_type": "markdown",
      "source": [
        "## 填補遺漏值(Ch12_6_1c.py)"
      ],
      "metadata": {
        "id": "LMWYz1Rsgdiu"
      }
    },
    {
      "cell_type": "code",
      "source": [
        "# 目的是從 \"missing_data.csv\" CSV 檔案中讀取一個 DataFrame，然後使用 fillna() 函數來處理缺失值。\n",
        "\n",
        "\n",
        "import pandas as pd\n",
        "\n",
        "# 使用Pandas的read_csv函數從\"missing_data.csv\"的文件中讀取數據，並將讀取的數據儲存在DataFrame df中。\n",
        "df = pd.read_csv(\"missing_data.csv\")\n",
        "\n",
        "# 這是指將所有的 NaN 值替換為 1，並返回一個新的 DataFrame df1，其中缺失值已經被替換。\n",
        "df1 = df.fillna(value=1)\n",
        "\n",
        "# 印出DataFrame df1物件並斷行，將DataFrame df1的內容導出為HTML文件，文件名為\"Ch12_6_1c_01.html\"。\n",
        "print(df1, '\\n')\n",
        "df1.to_html(\"Ch12_6_1c_01.html\")\n",
        "\n",
        "# 這是指將 \"COL_B\" 列中的所有 NaN 值替換為該列的平均值。這是為了用該列中所有非 NaN 值的平均值來填充 NaN 值。\n",
        "df[\"COL_B\"] = df[\"COL_B\"].fillna(df[\"COL_B\"].mean())\n",
        "\n",
        "# 印出DataFrame df物件並斷行，將DataFrame df的內容導出為HTML文件，文件名為\"Ch12_6_1c_02.html\"。\n",
        "print(df, '\\n')\n",
        "df.to_html(\"Ch12_6_1c_02.html\")\n",
        "\n",
        "# 這是指將 \"COL_C\" 列中的所有 NaN 值替換為該列的中位數。這是為了用該列中所有非 NaN 值的中位數來填充 NaN 值。\n",
        "df[\"COL_C\"] = df[\"COL_C\"].fillna(df[\"COL_C\"].median())\n",
        "\n",
        "# 印出DataFrame df物件，將DataFrame df的內容導出為HTML文件，文件名為\"Ch12_6_1c_03.html\"。\n",
        "print(df)\n",
        "df.to_html(\"Ch12_6_1c_03.html\")\n"
      ],
      "metadata": {
        "colab": {
          "base_uri": "https://localhost:8080/"
        },
        "id": "eU_wYOeUglFx",
        "outputId": "d99addcb-d47e-40af-8b2a-964a9fbc8533"
      },
      "execution_count": null,
      "outputs": [
        {
          "output_type": "stream",
          "name": "stdout",
          "text": [
            "   COL_A  COL_B  COL_C  COL_D\n",
            "0    0.5    0.9    0.4    1.0\n",
            "1    0.8    0.6    1.0    1.0\n",
            "2    0.7    0.3    0.8    0.9\n",
            "3    0.8    0.3    1.0    0.2\n",
            "4    0.9    1.0    0.7    0.3\n",
            "5    0.2    0.7    0.6    1.0\n",
            "6    1.0    1.0    1.0    1.0 \n",
            "\n",
            "   COL_A  COL_B  COL_C  COL_D\n",
            "0    0.5   0.90    0.4    NaN\n",
            "1    0.8   0.60    NaN    NaN\n",
            "2    0.7   0.30    0.8    0.9\n",
            "3    0.8   0.30    NaN    0.2\n",
            "4    0.9   0.56    0.7    0.3\n",
            "5    0.2   0.70    0.6    NaN\n",
            "6    NaN   0.56    NaN    NaN \n",
            "\n",
            "   COL_A  COL_B  COL_C  COL_D\n",
            "0    0.5   0.90   0.40    NaN\n",
            "1    0.8   0.60   0.65    NaN\n",
            "2    0.7   0.30   0.80    0.9\n",
            "3    0.8   0.30   0.65    0.2\n",
            "4    0.9   0.56   0.70    0.3\n",
            "5    0.2   0.70   0.60    NaN\n",
            "6    NaN   0.56   0.65    NaN\n"
          ]
        }
      ]
    },
    {
      "cell_type": "markdown",
      "source": [
        "## 刪除重複記錄(Ch12_6_2~2a.py)"
      ],
      "metadata": {
        "id": "_W-Rp108guqI"
      }
    },
    {
      "cell_type": "code",
      "source": [
        "# 目的是讀取了一個CSV文件中的數據並將其儲存在DataFrame df中，然後將DataFrame df的內容印出到控制台並導出為HTML文件。\n",
        "\n",
        "\n",
        "import pandas as pd\n",
        "\n",
        "# 使用Pandas的read_csv函數從\"duplicated_data.csv\"的文件中讀取數據，並將讀取的數據儲存在DataFrame df中。\n",
        "df = pd.read_csv(\"duplicated_data.csv\")\n",
        "\n",
        "# 印出DataFrame df物件，將DataFrame df的內容導出為HTML文件，文件名為\"Ch12_6_2.html\"。\n",
        "print(df)\n",
        "df.to_html(\"Ch12_6_2.html\")\n"
      ],
      "metadata": {
        "colab": {
          "base_uri": "https://localhost:8080/"
        },
        "id": "29syrvCGg4Tm",
        "outputId": "59ff777a-9e2c-4f3d-f8f3-b572c7552152"
      },
      "execution_count": null,
      "outputs": [
        {
          "output_type": "stream",
          "name": "stdout",
          "text": [
            "   COL_A  COL_B  COL_C  COL_D\n",
            "0    0.7    0.3    0.8    0.9\n",
            "1    0.8    0.6    0.4    0.8\n",
            "2    0.7    0.3    0.8    0.9\n",
            "3    0.8    0.3    0.5    0.2\n",
            "4    0.9    0.3    0.7    0.3\n",
            "5    0.7    0.3    0.8    0.9\n"
          ]
        }
      ]
    },
    {
      "cell_type": "code",
      "source": [
        "# 目的是使用 drop_duplicates() 方法來刪除 DataFrame 中的重複行，並將結果儲存在新的 DataFrame 中。\n",
        "\n",
        "\n",
        "import pandas as pd\n",
        "\n",
        "# 使用Pandas的read_csv函數從\"duplicated_data.csv\"的文件中讀取數據，並將讀取的數據儲存在DataFrame df中。\n",
        "df = pd.read_csv(\"duplicated_data.csv\")\n",
        "\n",
        "# 使用 drop_duplicates() 方法來刪除 DataFrame 中的重複行，並將結果儲存在新的 DataFrame 中。\n",
        "# 該方法將會比較 DataFrame 中的每一行，並刪除那些與之前的行完全相同的行，只保留其中的一個。\n",
        "# 這樣做可以清理數據並確保每行都是唯一的。\n",
        "# 最後，將新的 DataFrame 存儲在變數 df1 中。\n",
        "df1 = df.drop_duplicates()\n",
        "\n",
        "# 印出DataFrame df1物件，將DataFrame df1的內容導出為HTML文件，文件名為\"Ch12_6_2a.html\"。\n",
        "print(df1)\n",
        "df1.to_html(\"Ch12_6_2a.html\")\n"
      ],
      "metadata": {
        "colab": {
          "base_uri": "https://localhost:8080/"
        },
        "id": "iau35OEvhhiL",
        "outputId": "7ef7687c-f302-472b-8ab1-facce17d3c42"
      },
      "execution_count": null,
      "outputs": [
        {
          "output_type": "stream",
          "name": "stdout",
          "text": [
            "   COL_A  COL_B  COL_C  COL_D\n",
            "0    0.7    0.3    0.8    0.9\n",
            "1    0.8    0.6    0.4    0.8\n",
            "3    0.8    0.3    0.5    0.2\n",
            "4    0.9    0.3    0.7    0.3\n"
          ]
        }
      ]
    },
    {
      "cell_type": "markdown",
      "source": [
        "## 刪除重複的欄位值(Ch12_6_2b.py)"
      ],
      "metadata": {
        "id": "-maaLxJVhsEZ"
      }
    },
    {
      "cell_type": "code",
      "source": [
        "# 使用 drop_duplicates() 方法來刪除 DataFrame 中特定列(欄位)上的重複值，並將結果存儲在新的 DataFrame 中。\n",
        "\n",
        "\n",
        "import pandas as pd\n",
        "\n",
        "# 使用Pandas的read_csv函數從\"duplicated_data.csv\"的文件中讀取數據，並將讀取的數據儲存在DataFrame df中。\n",
        "df = pd.read_csv(\"duplicated_data.csv\")\n",
        "\n",
        "# 使用 drop_duplicates(\"COL_B\")，它將保留第一次出現的值，並刪除後續重複出現的值，最後將結果存儲在 df1 中。\n",
        "df1 = df.drop_duplicates(\"COL_B\")\n",
        "\n",
        "# 印出DataFrame df1物件並斷行，將DataFrame df1的內容導出為HTML文件，文件名為\"Ch12_6_2b_01.html\"。\n",
        "print(df1, '\\n')\n",
        "df1.to_html(\"Ch12_6_2b_01.html\")\n",
        "\n",
        "# 使用 drop_duplicates(\"COL_B\", keep=\"last\")，它將保留最後一次出現的值，並刪除其他重複出現的值，將結果存儲在 df2 中。\n",
        "df2 = df.drop_duplicates(\"COL_B\", keep=\"last\")\n",
        "\n",
        "# 印出DataFrame df2物件並斷行，將DataFrame df2的內容導出為HTML文件，文件名為\"Ch12_6_2b_02.html\"。\n",
        "print(df2, '\\n')\n",
        "df2.to_html(\"Ch12_6_2b_02.html\")\n",
        "\n",
        "# 使用 drop_duplicates(\"COL_B\", keep=False)，它將刪除所有重複出現的值，將只保留不重複的值，將結果存儲在 df3 中。\n",
        "df3 = df.drop_duplicates(\"COL_B\", keep=False)\n",
        "\n",
        "# 印出DataFrame df3物件，將DataFrame df3的內容導出為HTML文件，文件名為\"Ch12_6_2b_03.html\"。\n",
        "print(df3)\n",
        "df3.to_html(\"Ch12_6_2b_03.html\")\n"
      ],
      "metadata": {
        "colab": {
          "base_uri": "https://localhost:8080/"
        },
        "id": "hbuPH-CThvYX",
        "outputId": "2e08358d-531d-4296-9050-e1924d8fb1ca"
      },
      "execution_count": null,
      "outputs": [
        {
          "output_type": "stream",
          "name": "stdout",
          "text": [
            "   COL_A  COL_B  COL_C  COL_D\n",
            "0    0.7    0.3    0.8    0.9\n",
            "1    0.8    0.6    0.4    0.8 \n",
            "\n",
            "   COL_A  COL_B  COL_C  COL_D\n",
            "1    0.8    0.6    0.4    0.8\n",
            "5    0.7    0.3    0.8    0.9 \n",
            "\n",
            "   COL_A  COL_B  COL_C  COL_D\n",
            "1    0.8    0.6    0.4    0.8\n"
          ]
        }
      ]
    },
    {
      "cell_type": "markdown",
      "source": [
        "## 使用對應表進行分類資料轉換(Ch12_6_3.py)"
      ],
      "metadata": {
        "id": "kicgMSlth1Mn"
      }
    },
    {
      "cell_type": "code",
      "source": [
        "# 目的是讀取一個 CSV 文件，使用對應表進行分類資料轉換。然後將數據轉換為處理方便的格式並存儲為 HTML 文件。\n",
        "\n",
        "\n",
        "import pandas as pd\n",
        "\n",
        "# 使用Pandas的read_csv函數從\"categorical_data.csv\"的文件中讀取，並將讀取的數據儲存在DataFrame df中。該文件包含了分類數據。\n",
        "df = pd.read_csv(\"categorical_data.csv\")\n",
        "\n",
        "# 印出DataFrame df物件並斷行，將DataFrame df的內容導出為HTML文件，文件名為\"Ch12_6_3_01.html\"。\n",
        "print(df, '\\n')\n",
        "df.to_html(\"Ch12_6_3_01.html\")\n",
        "\n",
        "# 建立size_mapping字典，將文字大小標籤映射為相應的數字大小。\n",
        "size_mapping = {\"XXL\": 5,\n",
        "         \"XL\": 4,\n",
        "         \"L\": 3,\n",
        "         \"M\": 2,\n",
        "         \"S\": 1,\n",
        "         \"XS\": 0}\n",
        "\n",
        "# 使用 map() 方法將 \"Size\" 列中的文字大小標籤映射為相應的數字大小。\n",
        "df[\"Size\"] = df[\"Size\"].map(size_mapping)\n",
        "\n",
        "# 印出DataFrame df物件，將DataFrame df的內容導出為HTML文件，文件名為\"Ch12_6_3_02.html\"。\n",
        "print(df)\n",
        "df.to_html(\"Ch12_6_3_02.html\")\n"
      ],
      "metadata": {
        "colab": {
          "base_uri": "https://localhost:8080/"
        },
        "id": "po0HcyxCh5wb",
        "outputId": "545f1e8f-2206-4281-82a1-f5a503b63ae0"
      },
      "execution_count": null,
      "outputs": [
        {
          "output_type": "stream",
          "name": "stdout",
          "text": [
            "          Gender Size  Price\n",
            "0           male   XL    800\n",
            "1         female    M    400\n",
            "2  not specified  XXL    300\n",
            "3           male    L    500\n",
            "4         female    S    700\n",
            "5         female   XS    850 \n",
            "\n",
            "          Gender  Size  Price\n",
            "0           male     4    800\n",
            "1         female     2    400\n",
            "2  not specified     5    300\n",
            "3           male     3    500\n",
            "4         female     1    700\n",
            "5         female     0    850\n"
          ]
        }
      ]
    }
  ]
}